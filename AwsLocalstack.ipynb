{
 "cells": [
  {
   "cell_type": "code",
   "execution_count": null,
   "metadata": {
    "dotnet_interactive": {
     "language": "pwsh"
    },
    "polyglot_notebook": {
     "kernelName": "pwsh"
    },
    "vscode": {
     "languageId": "polyglot-notebook"
    }
   },
   "outputs": [],
   "source": [
    "# cd .\\WorkingDirectory\\LocalstackDockerCompose\n",
    "# docker-compose up -d --build"
   ]
  },
  {
   "cell_type": "code",
   "execution_count": 16,
   "metadata": {
    "dotnet_interactive": {
     "language": "pwsh"
    },
    "polyglot_notebook": {
     "kernelName": "pwsh"
    },
    "vscode": {
     "languageId": "polyglot-notebook"
    }
   },
   "outputs": [
    {
     "name": "stdout",
     "output_type": "stream",
     "text": [
      "CONTAINER ID   IMAGE                          COMMAND                  CREATED              STATUS                    PORTS                                                                                                                                                           NAMES\n",
      "af025721bfb5   localstack/localstack:latest   \"docker-entrypoint.sh\"   About a minute ago   Up 58 seconds (healthy)   0.0.0.0:53->53/tcp, 0.0.0.0:443->443/tcp, 0.0.0.0:4566->4566/tcp, 4510-4559/tcp, 0.0.0.0:4571->4571/tcp, 0.0.0.0:8080->8080/tcp, 0.0.0.0:53->53/udp, 5678/tcp   localstack_main\n"
     ]
    }
   ],
   "source": [
    "docker ps --filter=\"name=localstack_main\""
   ]
  },
  {
   "attachments": {},
   "cell_type": "markdown",
   "metadata": {},
   "source": [
    "[aws localstack and Terraform](https://docs.localstack.cloud/user-guide/integrations/terraform/)"
   ]
  },
  {
   "cell_type": "code",
   "execution_count": null,
   "metadata": {
    "dotnet_interactive": {
     "language": "pwsh"
    },
    "polyglot_notebook": {
     "kernelName": "pwsh"
    },
    "vscode": {
     "languageId": "polyglot-notebook"
    }
   },
   "outputs": [],
   "source": [
    "if (!$OriginalProjectPath) {$OriginalProjectPath = (Get-Item .).FullName}\n",
    "$WorkingDirectory = $OriginalProjectPath + '\\WorkingDirectory\\LocalstackAwsExample'\n",
    "\"OriginalProjectPath: $OriginalProjectPath\"\n",
    "\"WorkingDirectory: $WorkingDirectory\""
   ]
  },
  {
   "cell_type": "code",
   "execution_count": null,
   "metadata": {
    "dotnet_interactive": {
     "language": "pwsh"
    },
    "polyglot_notebook": {
     "kernelName": "pwsh"
    },
    "vscode": {
     "languageId": "polyglot-notebook"
    }
   },
   "outputs": [],
   "source": [
    "cd $env:TEMP\\tf\n",
    "$TerraformExePath = (Get-ChildItem)[0].FullName\n",
    "\"TerraformExePath: $TerraformExePath\""
   ]
  },
  {
   "cell_type": "code",
   "execution_count": 17,
   "metadata": {
    "dotnet_interactive": {
     "language": "pwsh"
    },
    "polyglot_notebook": {
     "kernelName": "pwsh"
    },
    "vscode": {
     "languageId": "polyglot-notebook"
    }
   },
   "outputs": [
    {
     "name": "stdout",
     "output_type": "stream",
     "text": [
      "Terraform v1.4.2\n",
      "on windows_amd64\n"
     ]
    }
   ],
   "source": [
    ".\\terraform version"
   ]
  },
  {
   "cell_type": "code",
   "execution_count": 18,
   "metadata": {
    "dotnet_interactive": {
     "language": "pwsh"
    },
    "polyglot_notebook": {
     "kernelName": "pwsh"
    },
    "vscode": {
     "languageId": "polyglot-notebook"
    }
   },
   "outputs": [
    {
     "name": "stdout",
     "output_type": "stream",
     "text": [
      "Executing the command:\n",
      ".\\terraform -chdir=C:\\Users\\gary\\OneDrive\\Documents\\GitHub\\terraform-101\\WorkingDirectory\\LocalstackAwsExample init -input=false\n",
      "\n",
      "\u001b[0m\u001b[1mInitializing the backend...\u001b[0m\n",
      "\n",
      "\u001b[0m\u001b[1mInitializing provider plugins...\u001b[0m\n",
      "- Reusing previous version of hashicorp/aws from the dependency lock file\n",
      "- Using previously-installed hashicorp/aws v3.46.0\n",
      "\n",
      "\u001b[33m\u001b[33m╷\u001b[0m\u001b[0m\n",
      "\u001b[33m│\u001b[0m \u001b[0m\u001b[1m\u001b[33mWarning: \u001b[0m\u001b[0m\u001b[1mVersion constraints inside provider configuration blocks are deprecated\u001b[0m\n",
      "\u001b[33m│\u001b[0m \u001b[0m\n",
      "\u001b[33m│\u001b[0m \u001b[0m\u001b[0m  on LocalstackAwsExample.tf line 2, in provider \"aws\":\n",
      "\u001b[33m│\u001b[0m \u001b[0m   2:   version = \u001b[4m\"= 3.46.0\"\u001b[0m\u001b[0m\n",
      "\u001b[33m│\u001b[0m \u001b[0m\n",
      "\u001b[33m│\u001b[0m \u001b[0mTerraform 0.13 and earlier allowed provider version constraints inside the\n",
      "\u001b[33m│\u001b[0m \u001b[0mprovider configuration block, but that is now deprecated and will be\n",
      "\u001b[33m│\u001b[0m \u001b[0mremoved in a future version of Terraform. To silence this warning, move the\n",
      "\u001b[33m│\u001b[0m \u001b[0mprovider version constraint into the required_providers block.\n",
      "\u001b[33m╵\u001b[0m\u001b[0m\n",
      "\u001b[0m\u001b[0m\n",
      "\u001b[0m\u001b[1m\u001b[32mTerraform has been successfully initialized!\u001b[0m\u001b[32m\u001b[0m\n",
      "\u001b[0m\u001b[32m\n",
      "You may now begin working with Terraform. Try running \"terraform plan\" to see\n",
      "any changes that are required for your infrastructure. All Terraform commands\n",
      "should now work.\n",
      "\n",
      "If you ever set or change modules or backend configuration for Terraform,\n",
      "rerun this command to reinitialize your working directory. If you forget, other\n",
      "commands will detect it and remind you to do so if necessary.\u001b[0m\n"
     ]
    }
   ],
   "source": [
    "$command = \".\\terraform -chdir=$WorkingDirectory init -input=false\"\n",
    "Write-Output \"Executing the command:\"\n",
    "Write-Output $command\n",
    "Invoke-Expression $command"
   ]
  },
  {
   "cell_type": "code",
   "execution_count": 24,
   "metadata": {
    "dotnet_interactive": {
     "language": "pwsh"
    },
    "polyglot_notebook": {
     "kernelName": "pwsh"
    },
    "vscode": {
     "languageId": "polyglot-notebook"
    }
   },
   "outputs": [
    {
     "name": "stdout",
     "output_type": "stream",
     "text": [
      "Executing the command:\n",
      ".\\terraform -chdir=C:\\Users\\gary\\OneDrive\\Documents\\GitHub\\terraform-101\\WorkingDirectory\\LocalstackAwsExample plan -input=false\n",
      "\u001b[0m\u001b[1maws_kinesis_stream.eaten_hot_dogs_stream: Refreshing state... [id=arn:aws:kinesis:ap-southeast-2:000000000000:stream/eatenHotDogs]\u001b[0m\n",
      "\u001b[0m\u001b[1maws_kinesis_stream.hot_dogs_stream: Refreshing state... [id=arn:aws:kinesis:ap-southeast-2:000000000000:stream/hotDogs]\u001b[0m\n",
      "\u001b[0m\u001b[1maws_kinesis_stream.caught_dogs_stream: Refreshing state... [id=arn:aws:kinesis:ap-southeast-2:000000000000:stream/caughtDogs]\u001b[0m\n",
      "\u001b[0m\u001b[1maws_dynamodb_table.dogs: Refreshing state... [id=dogs]\u001b[0m\n",
      "\n",
      "\u001b[0m\u001b[1m\u001b[32mNo changes.\u001b[0m\u001b[1m Your infrastructure matches the configuration.\u001b[0m\n",
      "\n",
      "\u001b[0mTerraform has compared your real infrastructure against your configuration\n",
      "and found no differences, so no changes are needed.\n",
      "\u001b[33m╷\u001b[0m\u001b[0m\n",
      "\u001b[33m│\u001b[0m \u001b[0m\u001b[1m\u001b[33mWarning: \u001b[0m\u001b[0m\u001b[1mVersion constraints inside provider configuration blocks are deprecated\u001b[0m\n",
      "\u001b[33m│\u001b[0m \u001b[0m\n",
      "\u001b[33m│\u001b[0m \u001b[0m\u001b[0m  on LocalstackAwsExample.tf line 2, in provider \"aws\":\n",
      "\u001b[33m│\u001b[0m \u001b[0m   2:   version = \u001b[4m\"= 3.46.0\"\u001b[0m\u001b[0m\n",
      "\u001b[33m│\u001b[0m \u001b[0m\n",
      "\u001b[33m│\u001b[0m \u001b[0mTerraform 0.13 and earlier allowed provider version constraints inside the\n",
      "\u001b[33m│\u001b[0m \u001b[0mprovider configuration block, but that is now deprecated and will be\n",
      "\u001b[33m│\u001b[0m \u001b[0mremoved in a future version of Terraform. To silence this warning, move the\n",
      "\u001b[33m│\u001b[0m \u001b[0mprovider version constraint into the required_providers block.\n",
      "\u001b[33m╵\u001b[0m\u001b[0m\n"
     ]
    }
   ],
   "source": [
    "$command = \".\\terraform -chdir=$WorkingDirectory plan -input=false\"\n",
    "Write-Output \"Executing the command:\"\n",
    "Write-Output $command\n",
    "Invoke-Expression $command"
   ]
  },
  {
   "cell_type": "code",
   "execution_count": 25,
   "metadata": {
    "dotnet_interactive": {
     "language": "pwsh"
    },
    "polyglot_notebook": {
     "kernelName": "pwsh"
    },
    "vscode": {
     "languageId": "polyglot-notebook"
    }
   },
   "outputs": [
    {
     "name": "stdout",
     "output_type": "stream",
     "text": [
      "Executing the command:\n",
      ".\\terraform -chdir=C:\\Users\\gary\\OneDrive\\Documents\\GitHub\\terraform-101\\WorkingDirectory\\LocalstackAwsExample apply --auto-approve\n",
      "\u001b[0m\u001b[1maws_kinesis_stream.caught_dogs_stream: Refreshing state... [id=arn:aws:kinesis:ap-southeast-2:000000000000:stream/caughtDogs]\u001b[0m\n",
      "\u001b[0m\u001b[1maws_kinesis_stream.eaten_hot_dogs_stream: Refreshing state... [id=arn:aws:kinesis:ap-southeast-2:000000000000:stream/eatenHotDogs]\u001b[0m\n",
      "\u001b[0m\u001b[1maws_kinesis_stream.hot_dogs_stream: Refreshing state... [id=arn:aws:kinesis:ap-southeast-2:000000000000:stream/hotDogs]\u001b[0m\n",
      "\u001b[0m\u001b[1maws_dynamodb_table.dogs: Refreshing state... [id=dogs]\u001b[0m\n",
      "\n",
      "\u001b[0m\u001b[1m\u001b[32mNo changes.\u001b[0m\u001b[1m Your infrastructure matches the configuration.\u001b[0m\n",
      "\n",
      "\u001b[0mTerraform has compared your real infrastructure against your configuration\n",
      "and found no differences, so no changes are needed.\n",
      "\u001b[33m╷\u001b[0m\u001b[0m\n",
      "\u001b[33m│\u001b[0m \u001b[0m\u001b[1m\u001b[33mWarning: \u001b[0m\u001b[0m\u001b[1mVersion constraints inside provider configuration blocks are deprecated\u001b[0m\n",
      "\u001b[33m│\u001b[0m \u001b[0m\n",
      "\u001b[33m│\u001b[0m \u001b[0m\u001b[0m  on LocalstackAwsExample.tf line 2, in provider \"aws\":\n",
      "\u001b[33m│\u001b[0m \u001b[0m   2:   version = \u001b[4m\"= 3.46.0\"\u001b[0m\u001b[0m\n",
      "\u001b[33m│\u001b[0m \u001b[0m\n",
      "\u001b[33m│\u001b[0m \u001b[0mTerraform 0.13 and earlier allowed provider version constraints inside the\n",
      "\u001b[33m│\u001b[0m \u001b[0mprovider configuration block, but that is now deprecated and will be\n",
      "\u001b[33m│\u001b[0m \u001b[0mremoved in a future version of Terraform. To silence this warning, move the\n",
      "\u001b[33m│\u001b[0m \u001b[0mprovider version constraint into the required_providers block.\n",
      "\u001b[33m╵\u001b[0m\u001b[0m\n",
      "\u001b[0m\u001b[1m\u001b[32m\n",
      "Apply complete! Resources: 0 added, 0 changed, 0 destroyed.\n",
      "\u001b[0m\n"
     ]
    }
   ],
   "source": [
    "$command = \".\\terraform -chdir=$WorkingDirectory apply --auto-approve\"\n",
    "Write-Output \"Executing the command:\"\n",
    "Write-Output $command\n",
    "Invoke-Expression $command"
   ]
  },
  {
   "cell_type": "code",
   "execution_count": 29,
   "metadata": {
    "dotnet_interactive": {
     "language": "pwsh"
    },
    "polyglot_notebook": {
     "kernelName": "pwsh"
    },
    "vscode": {
     "languageId": "polyglot-notebook"
    }
   },
   "outputs": [
    {
     "name": "stdout",
     "output_type": "stream",
     "text": [
      "Executing the command:\n",
      "awslocal dynamodb list-tables\n",
      "{\n",
      "    \"TableNames\": []\n",
      "}\n"
     ]
    }
   ],
   "source": [
    "$command = \"awslocal dynamodb list-tables\"\n",
    "Write-Output \"Executing the command:\"\n",
    "Write-Output $command\n",
    "Invoke-Expression $command"
   ]
  },
  {
   "cell_type": "code",
   "execution_count": null,
   "metadata": {
    "dotnet_interactive": {
     "language": "pwsh"
    },
    "polyglot_notebook": {
     "kernelName": "pwsh"
    },
    "vscode": {
     "languageId": "polyglot-notebook"
    }
   },
   "outputs": [],
   "source": [
    "if (!$IsWindows) {exit} # Guard Clause this section is only for Windows"
   ]
  },
  {
   "cell_type": "code",
   "execution_count": null,
   "metadata": {
    "dotnet_interactive": {
     "language": "pwsh"
    },
    "polyglot_notebook": {
     "kernelName": "pwsh"
    },
    "vscode": {
     "languageId": "polyglot-notebook"
    }
   },
   "outputs": [],
   "source": [
    "# docker stop localstack_main"
   ]
  }
 ],
 "metadata": {
  "language_info": {
   "name": "python"
  },
  "orig_nbformat": 4
 },
 "nbformat": 4,
 "nbformat_minor": 2
}
