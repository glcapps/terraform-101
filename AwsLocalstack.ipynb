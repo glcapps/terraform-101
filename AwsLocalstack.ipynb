{
 "cells": [
  {
   "cell_type": "code",
   "execution_count": null,
   "metadata": {
    "dotnet_interactive": {
     "language": "pwsh"
    },
    "polyglot_notebook": {
     "kernelName": "pwsh"
    },
    "vscode": {
     "languageId": "polyglot-notebook"
    }
   },
   "outputs": [],
   "source": [
    "# cd .\\WorkingDirectory\\LocalstackDockerCompose\n",
    "# docker-compose up -d --build"
   ]
  },
  {
   "cell_type": "code",
   "execution_count": 16,
   "metadata": {
    "dotnet_interactive": {
     "language": "pwsh"
    },
    "polyglot_notebook": {
     "kernelName": "pwsh"
    },
    "vscode": {
     "languageId": "polyglot-notebook"
    }
   },
   "outputs": [
    {
     "name": "stdout",
     "output_type": "stream",
     "text": [
      "CONTAINER ID   IMAGE                          COMMAND                  CREATED              STATUS                    PORTS                                                                                                                                                           NAMES\n",
      "af025721bfb5   localstack/localstack:latest   \"docker-entrypoint.sh\"   About a minute ago   Up 58 seconds (healthy)   0.0.0.0:53->53/tcp, 0.0.0.0:443->443/tcp, 0.0.0.0:4566->4566/tcp, 4510-4559/tcp, 0.0.0.0:4571->4571/tcp, 0.0.0.0:8080->8080/tcp, 0.0.0.0:53->53/udp, 5678/tcp   localstack_main\n"
     ]
    }
   ],
   "source": [
    "docker ps --filter=\"name=localstack_main\""
   ]
  },
  {
   "attachments": {},
   "cell_type": "markdown",
   "metadata": {},
   "source": [
    "[aws localstack and Terraform](https://docs.localstack.cloud/user-guide/integrations/terraform/)"
   ]
  },
  {
   "cell_type": "code",
   "execution_count": null,
   "metadata": {
    "dotnet_interactive": {
     "language": "pwsh"
    },
    "polyglot_notebook": {
     "kernelName": "pwsh"
    },
    "vscode": {
     "languageId": "polyglot-notebook"
    }
   },
   "outputs": [],
   "source": [
    "if (!$OriginalProjectPath) {$OriginalProjectPath = (Get-Item .).FullName}\n",
    "$WorkingDirectory = $OriginalProjectPath + '\\WorkingDirectory\\LocalstackAwsExample'\n",
    "\"OriginalProjectPath: $OriginalProjectPath\"\n",
    "\"WorkingDirectory: $WorkingDirectory\""
   ]
  },
  {
   "cell_type": "code",
   "execution_count": null,
   "metadata": {
    "dotnet_interactive": {
     "language": "pwsh"
    },
    "polyglot_notebook": {
     "kernelName": "pwsh"
    },
    "vscode": {
     "languageId": "polyglot-notebook"
    }
   },
   "outputs": [],
   "source": [
    "cd $env:TEMP\\tf\n",
    "$TerraformExePath = (Get-ChildItem)[0].FullName\n",
    "\"TerraformExePath: $TerraformExePath\""
   ]
  },
  {
   "cell_type": "code",
   "execution_count": 17,
   "metadata": {
    "dotnet_interactive": {
     "language": "pwsh"
    },
    "polyglot_notebook": {
     "kernelName": "pwsh"
    },
    "vscode": {
     "languageId": "polyglot-notebook"
    }
   },
   "outputs": [
    {
     "name": "stdout",
     "output_type": "stream",
     "text": [
      "Terraform v1.4.2\n",
      "on windows_amd64\n"
     ]
    }
   ],
   "source": [
    ".\\terraform version"
   ]
  },
  {
   "cell_type": "code",
   "execution_count": 31,
   "metadata": {
    "dotnet_interactive": {
     "language": "pwsh"
    },
    "polyglot_notebook": {
     "kernelName": "pwsh"
    },
    "vscode": {
     "languageId": "polyglot-notebook"
    }
   },
   "outputs": [
    {
     "name": "stdout",
     "output_type": "stream",
     "text": [
      "Executing the command:\n",
      ".\\terraform -chdir=C:\\Users\\gary\\OneDrive\\Documents\\GitHub\\terraform-101\\WorkingDirectory\\LocalstackAwsExample init -input=false\n",
      "\n",
      "\u001b[0m\u001b[1mInitializing the backend...\u001b[0m\n",
      "\n",
      "\u001b[0m\u001b[1mInitializing provider plugins...\u001b[0m\n",
      "- Reusing previous version of hashicorp/aws from the dependency lock file\n",
      "- Using previously-installed hashicorp/aws v3.46.0\n",
      "\n",
      "\u001b[33m\u001b[33m╷\u001b[0m\u001b[0m\n",
      "\u001b[33m│\u001b[0m \u001b[0m\u001b[1m\u001b[33mWarning: \u001b[0m\u001b[0m\u001b[1mVersion constraints inside provider configuration blocks are deprecated\u001b[0m\n",
      "\u001b[33m│\u001b[0m \u001b[0m\n",
      "\u001b[33m│\u001b[0m \u001b[0m\u001b[0m  on LocalstackAwsExample.tf line 2, in provider \"aws\":\n",
      "\u001b[33m│\u001b[0m \u001b[0m   2:   version = \u001b[4m\"= 3.46.0\"\u001b[0m\u001b[0m\n",
      "\u001b[33m│\u001b[0m \u001b[0m\n",
      "\u001b[33m│\u001b[0m \u001b[0mTerraform 0.13 and earlier allowed provider version constraints inside the\n",
      "\u001b[33m│\u001b[0m \u001b[0mprovider configuration block, but that is now deprecated and will be\n",
      "\u001b[33m│\u001b[0m \u001b[0mremoved in a future version of Terraform. To silence this warning, move the\n",
      "\u001b[33m│\u001b[0m \u001b[0mprovider version constraint into the required_providers block.\n",
      "\u001b[33m╵\u001b[0m\u001b[0m\n",
      "\u001b[0m\u001b[0m\n",
      "\u001b[0m\u001b[1m\u001b[32mTerraform has been successfully initialized!\u001b[0m\u001b[32m\u001b[0m\n",
      "\u001b[0m\u001b[32m\n",
      "You may now begin working with Terraform. Try running \"terraform plan\" to see\n",
      "any changes that are required for your infrastructure. All Terraform commands\n",
      "should now work.\n",
      "\n",
      "If you ever set or change modules or backend configuration for Terraform,\n",
      "rerun this command to reinitialize your working directory. If you forget, other\n",
      "commands will detect it and remind you to do so if necessary.\u001b[0m\n"
     ]
    }
   ],
   "source": [
    "$command = \".\\terraform -chdir=$WorkingDirectory init -input=false\"\n",
    "Write-Output \"Executing the command:\"\n",
    "Write-Output $command\n",
    "Invoke-Expression $command"
   ]
  },
  {
   "cell_type": "code",
   "execution_count": 32,
   "metadata": {
    "dotnet_interactive": {
     "language": "pwsh"
    },
    "polyglot_notebook": {
     "kernelName": "pwsh"
    },
    "vscode": {
     "languageId": "polyglot-notebook"
    }
   },
   "outputs": [
    {
     "name": "stdout",
     "output_type": "stream",
     "text": [
      "Executing the command:\n",
      ".\\terraform -chdir=C:\\Users\\gary\\OneDrive\\Documents\\GitHub\\terraform-101\\WorkingDirectory\\LocalstackAwsExample plan -input=false\n",
      "\u001b[0m\u001b[1maws_kinesis_stream.eaten_hot_dogs_stream: Refreshing state... [id=arn:aws:kinesis:ap-southeast-2:000000000000:stream/eatenHotDogs]\u001b[0m\n",
      "\u001b[0m\u001b[1maws_kinesis_stream.caught_dogs_stream: Refreshing state... [id=arn:aws:kinesis:ap-southeast-2:000000000000:stream/caughtDogs]\u001b[0m\n",
      "\u001b[0m\u001b[1maws_kinesis_stream.hot_dogs_stream: Refreshing state... [id=arn:aws:kinesis:ap-southeast-2:000000000000:stream/hotDogs]\u001b[0m\n",
      "\u001b[0m\u001b[1maws_dynamodb_table.dogs: Refreshing state... [id=dogs]\u001b[0m\n",
      "\n",
      "Terraform used the selected providers to generate the following execution\n",
      "plan. Resource actions are indicated with the following symbols:\n",
      "  \u001b[32m+\u001b[0m create\u001b[0m\n",
      "\n",
      "Terraform will perform the following actions:\n",
      "\n",
      "\u001b[1m  # aws_dynamodb_table.dogs\u001b[0m will be created\n",
      "\u001b[0m  \u001b[32m+\u001b[0m\u001b[0m resource \"aws_dynamodb_table\" \"dogs\" {\n",
      "      \u001b[32m+\u001b[0m\u001b[0m arn              = (known after apply)\n",
      "      \u001b[32m+\u001b[0m\u001b[0m billing_mode     = \"PROVISIONED\"\n",
      "      \u001b[32m+\u001b[0m\u001b[0m hash_key         = \"ID\"\n",
      "      \u001b[32m+\u001b[0m\u001b[0m id               = (known after apply)\n",
      "      \u001b[32m+\u001b[0m\u001b[0m name             = \"dogs\"\n",
      "      \u001b[32m+\u001b[0m\u001b[0m read_capacity    = 20\n",
      "      \u001b[32m+\u001b[0m\u001b[0m stream_arn       = (known after apply)\n",
      "      \u001b[32m+\u001b[0m\u001b[0m stream_label     = (known after apply)\n",
      "      \u001b[32m+\u001b[0m\u001b[0m stream_view_type = (known after apply)\n",
      "      \u001b[32m+\u001b[0m\u001b[0m tags_all         = (known after apply)\n",
      "      \u001b[32m+\u001b[0m\u001b[0m write_capacity   = 20\n",
      "\n",
      "      \u001b[32m+\u001b[0m\u001b[0m attribute {\n",
      "          \u001b[32m+\u001b[0m\u001b[0m name = \"ID\"\n",
      "          \u001b[32m+\u001b[0m\u001b[0m type = \"S\"\n",
      "        }\n",
      "    }\n",
      "\n",
      "\u001b[1m  # aws_kinesis_stream.caught_dogs_stream\u001b[0m will be created\n",
      "\u001b[0m  \u001b[32m+\u001b[0m\u001b[0m resource \"aws_kinesis_stream\" \"caught_dogs_stream\" {\n",
      "      \u001b[32m+\u001b[0m\u001b[0m arn                       = (known after apply)\n",
      "      \u001b[32m+\u001b[0m\u001b[0m encryption_type           = \"NONE\"\n",
      "      \u001b[32m+\u001b[0m\u001b[0m enforce_consumer_deletion = false\n",
      "      \u001b[32m+\u001b[0m\u001b[0m id                        = (known after apply)\n",
      "      \u001b[32m+\u001b[0m\u001b[0m name                      = \"caughtDogs\"\n",
      "      \u001b[32m+\u001b[0m\u001b[0m retention_period          = 30\n",
      "      \u001b[32m+\u001b[0m\u001b[0m shard_count               = 1\n",
      "      \u001b[32m+\u001b[0m\u001b[0m shard_level_metrics       = [\n",
      "          \u001b[32m+\u001b[0m\u001b[0m \"IncomingBytes\",\n",
      "          \u001b[32m+\u001b[0m\u001b[0m \"OutgoingBytes\",\n",
      "        ]\n",
      "      \u001b[32m+\u001b[0m\u001b[0m tags_all                  = (known after apply)\n",
      "    }\n",
      "\n",
      "\u001b[1m  # aws_kinesis_stream.eaten_hot_dogs_stream\u001b[0m will be created\n",
      "\u001b[0m  \u001b[32m+\u001b[0m\u001b[0m resource \"aws_kinesis_stream\" \"eaten_hot_dogs_stream\" {\n",
      "      \u001b[32m+\u001b[0m\u001b[0m arn                       = (known after apply)\n",
      "      \u001b[32m+\u001b[0m\u001b[0m encryption_type           = \"NONE\"\n",
      "      \u001b[32m+\u001b[0m\u001b[0m enforce_consumer_deletion = false\n",
      "      \u001b[32m+\u001b[0m\u001b[0m id                        = (known after apply)\n",
      "      \u001b[32m+\u001b[0m\u001b[0m name                      = \"eatenHotDogs\"\n",
      "      \u001b[32m+\u001b[0m\u001b[0m retention_period          = 30\n",
      "      \u001b[32m+\u001b[0m\u001b[0m shard_count               = 1\n",
      "      \u001b[32m+\u001b[0m\u001b[0m shard_level_metrics       = [\n",
      "          \u001b[32m+\u001b[0m\u001b[0m \"IncomingBytes\",\n",
      "          \u001b[32m+\u001b[0m\u001b[0m \"OutgoingBytes\",\n",
      "        ]\n",
      "      \u001b[32m+\u001b[0m\u001b[0m tags_all                  = (known after apply)\n",
      "    }\n",
      "\n",
      "\u001b[1m  # aws_kinesis_stream.hot_dogs_stream\u001b[0m will be created\n",
      "\u001b[0m  \u001b[32m+\u001b[0m\u001b[0m resource \"aws_kinesis_stream\" \"hot_dogs_stream\" {\n",
      "      \u001b[32m+\u001b[0m\u001b[0m arn                       = (known after apply)\n",
      "      \u001b[32m+\u001b[0m\u001b[0m encryption_type           = \"NONE\"\n",
      "      \u001b[32m+\u001b[0m\u001b[0m enforce_consumer_deletion = false\n",
      "      \u001b[32m+\u001b[0m\u001b[0m id                        = (known after apply)\n",
      "      \u001b[32m+\u001b[0m\u001b[0m name                      = \"hotDogs\"\n",
      "      \u001b[32m+\u001b[0m\u001b[0m retention_period          = 30\n",
      "      \u001b[32m+\u001b[0m\u001b[0m shard_count               = 1\n",
      "      \u001b[32m+\u001b[0m\u001b[0m shard_level_metrics       = [\n",
      "          \u001b[32m+\u001b[0m\u001b[0m \"IncomingBytes\",\n",
      "          \u001b[32m+\u001b[0m\u001b[0m \"OutgoingBytes\",\n",
      "        ]\n",
      "      \u001b[32m+\u001b[0m\u001b[0m tags_all                  = (known after apply)\n",
      "    }\n",
      "\n",
      "\u001b[1mPlan:\u001b[0m 4 to add, 0 to change, 0 to destroy.\n",
      "\u001b[0m\u001b[33m╷\u001b[0m\u001b[0m\n",
      "\u001b[33m│\u001b[0m \u001b[0m\u001b[1m\u001b[33mWarning: \u001b[0m\u001b[0m\u001b[1mVersion constraints inside provider configuration blocks are deprecated\u001b[0m\n",
      "\u001b[33m│\u001b[0m \u001b[0m\n",
      "\u001b[33m│\u001b[0m \u001b[0m\u001b[0m  on LocalstackAwsExample.tf line 2, in provider \"aws\":\n",
      "\u001b[33m│\u001b[0m \u001b[0m   2:   version = \u001b[4m\"= 3.46.0\"\u001b[0m\u001b[0m\n",
      "\u001b[33m│\u001b[0m \u001b[0m\n",
      "\u001b[33m│\u001b[0m \u001b[0mTerraform 0.13 and earlier allowed provider version constraints inside the\n",
      "\u001b[33m│\u001b[0m \u001b[0mprovider configuration block, but that is now deprecated and will be\n",
      "\u001b[33m│\u001b[0m \u001b[0mremoved in a future version of Terraform. To silence this warning, move the\n",
      "\u001b[33m│\u001b[0m \u001b[0mprovider version constraint into the required_providers block.\n",
      "\u001b[33m╵\u001b[0m\u001b[0m\n",
      "\u001b[90m\n",
      "─────────────────────────────────────────────────────────────────────────────\u001b[0m\n",
      "\n",
      "Note: You didn't use the -out option to save this plan, so Terraform can't\n",
      "guarantee to take exactly these actions if you run \"terraform apply\" now.\n"
     ]
    }
   ],
   "source": [
    "$command = \".\\terraform -chdir=$WorkingDirectory plan -input=false\"\n",
    "Write-Output \"Executing the command:\"\n",
    "Write-Output $command\n",
    "Invoke-Expression $command"
   ]
  },
  {
   "cell_type": "code",
   "execution_count": 33,
   "metadata": {
    "dotnet_interactive": {
     "language": "pwsh"
    },
    "polyglot_notebook": {
     "kernelName": "pwsh"
    },
    "vscode": {
     "languageId": "polyglot-notebook"
    }
   },
   "outputs": [
    {
     "name": "stdout",
     "output_type": "stream",
     "text": [
      "Executing the command:\n",
      ".\\terraform -chdir=C:\\Users\\gary\\OneDrive\\Documents\\GitHub\\terraform-101\\WorkingDirectory\\LocalstackAwsExample apply --auto-approve\n",
      "\u001b[0m\u001b[1maws_kinesis_stream.hot_dogs_stream: Refreshing state... [id=arn:aws:kinesis:ap-southeast-2:000000000000:stream/hotDogs]\u001b[0m\n",
      "\u001b[0m\u001b[1maws_kinesis_stream.caught_dogs_stream: Refreshing state... [id=arn:aws:kinesis:ap-southeast-2:000000000000:stream/caughtDogs]\u001b[0m\n",
      "\u001b[0m\u001b[1maws_kinesis_stream.eaten_hot_dogs_stream: Refreshing state... [id=arn:aws:kinesis:ap-southeast-2:000000000000:stream/eatenHotDogs]\u001b[0m\n",
      "\u001b[0m\u001b[1maws_dynamodb_table.dogs: Refreshing state... [id=dogs]\u001b[0m\n",
      "\n",
      "Terraform used the selected providers to generate the following execution\n",
      "plan. Resource actions are indicated with the following symbols:\n",
      "  \u001b[32m+\u001b[0m create\u001b[0m\n",
      "\n",
      "Terraform will perform the following actions:\n",
      "\n",
      "\u001b[1m  # aws_dynamodb_table.dogs\u001b[0m will be created\n",
      "\u001b[0m  \u001b[32m+\u001b[0m\u001b[0m resource \"aws_dynamodb_table\" \"dogs\" {\n",
      "      \u001b[32m+\u001b[0m\u001b[0m arn              = (known after apply)\n",
      "      \u001b[32m+\u001b[0m\u001b[0m billing_mode     = \"PROVISIONED\"\n",
      "      \u001b[32m+\u001b[0m\u001b[0m hash_key         = \"ID\"\n",
      "      \u001b[32m+\u001b[0m\u001b[0m id               = (known after apply)\n",
      "      \u001b[32m+\u001b[0m\u001b[0m name             = \"dogs\"\n",
      "      \u001b[32m+\u001b[0m\u001b[0m read_capacity    = 20\n",
      "      \u001b[32m+\u001b[0m\u001b[0m stream_arn       = (known after apply)\n",
      "      \u001b[32m+\u001b[0m\u001b[0m stream_label     = (known after apply)\n",
      "      \u001b[32m+\u001b[0m\u001b[0m stream_view_type = (known after apply)\n",
      "      \u001b[32m+\u001b[0m\u001b[0m tags_all         = (known after apply)\n",
      "      \u001b[32m+\u001b[0m\u001b[0m write_capacity   = 20\n",
      "\n",
      "      \u001b[32m+\u001b[0m\u001b[0m attribute {\n",
      "          \u001b[32m+\u001b[0m\u001b[0m name = \"ID\"\n",
      "          \u001b[32m+\u001b[0m\u001b[0m type = \"S\"\n",
      "        }\n",
      "    }\n",
      "\n",
      "\u001b[1m  # aws_kinesis_stream.caught_dogs_stream\u001b[0m will be created\n",
      "\u001b[0m  \u001b[32m+\u001b[0m\u001b[0m resource \"aws_kinesis_stream\" \"caught_dogs_stream\" {\n",
      "      \u001b[32m+\u001b[0m\u001b[0m arn                       = (known after apply)\n",
      "      \u001b[32m+\u001b[0m\u001b[0m encryption_type           = \"NONE\"\n",
      "      \u001b[32m+\u001b[0m\u001b[0m enforce_consumer_deletion = false\n",
      "      \u001b[32m+\u001b[0m\u001b[0m id                        = (known after apply)\n",
      "      \u001b[32m+\u001b[0m\u001b[0m name                      = \"caughtDogs\"\n",
      "      \u001b[32m+\u001b[0m\u001b[0m retention_period          = 30\n",
      "      \u001b[32m+\u001b[0m\u001b[0m shard_count               = 1\n",
      "      \u001b[32m+\u001b[0m\u001b[0m shard_level_metrics       = [\n",
      "          \u001b[32m+\u001b[0m\u001b[0m \"IncomingBytes\",\n",
      "          \u001b[32m+\u001b[0m\u001b[0m \"OutgoingBytes\",\n",
      "        ]\n",
      "      \u001b[32m+\u001b[0m\u001b[0m tags_all                  = (known after apply)\n",
      "    }\n",
      "\n",
      "\u001b[1m  # aws_kinesis_stream.eaten_hot_dogs_stream\u001b[0m will be created\n",
      "\u001b[0m  \u001b[32m+\u001b[0m\u001b[0m resource \"aws_kinesis_stream\" \"eaten_hot_dogs_stream\" {\n",
      "      \u001b[32m+\u001b[0m\u001b[0m arn                       = (known after apply)\n",
      "      \u001b[32m+\u001b[0m\u001b[0m encryption_type           = \"NONE\"\n",
      "      \u001b[32m+\u001b[0m\u001b[0m enforce_consumer_deletion = false\n",
      "      \u001b[32m+\u001b[0m\u001b[0m id                        = (known after apply)\n",
      "      \u001b[32m+\u001b[0m\u001b[0m name                      = \"eatenHotDogs\"\n",
      "      \u001b[32m+\u001b[0m\u001b[0m retention_period          = 30\n",
      "      \u001b[32m+\u001b[0m\u001b[0m shard_count               = 1\n",
      "      \u001b[32m+\u001b[0m\u001b[0m shard_level_metrics       = [\n",
      "          \u001b[32m+\u001b[0m\u001b[0m \"IncomingBytes\",\n",
      "          \u001b[32m+\u001b[0m\u001b[0m \"OutgoingBytes\",\n",
      "        ]\n",
      "      \u001b[32m+\u001b[0m\u001b[0m tags_all                  = (known after apply)\n",
      "    }\n",
      "\n",
      "\u001b[1m  # aws_kinesis_stream.hot_dogs_stream\u001b[0m will be created\n",
      "\u001b[0m  \u001b[32m+\u001b[0m\u001b[0m resource \"aws_kinesis_stream\" \"hot_dogs_stream\" {\n",
      "      \u001b[32m+\u001b[0m\u001b[0m arn                       = (known after apply)\n",
      "      \u001b[32m+\u001b[0m\u001b[0m encryption_type           = \"NONE\"\n",
      "      \u001b[32m+\u001b[0m\u001b[0m enforce_consumer_deletion = false\n",
      "      \u001b[32m+\u001b[0m\u001b[0m id                        = (known after apply)\n",
      "      \u001b[32m+\u001b[0m\u001b[0m name                      = \"hotDogs\"\n",
      "      \u001b[32m+\u001b[0m\u001b[0m retention_period          = 30\n",
      "      \u001b[32m+\u001b[0m\u001b[0m shard_count               = 1\n",
      "      \u001b[32m+\u001b[0m\u001b[0m shard_level_metrics       = [\n",
      "          \u001b[32m+\u001b[0m\u001b[0m \"IncomingBytes\",\n",
      "          \u001b[32m+\u001b[0m\u001b[0m \"OutgoingBytes\",\n",
      "        ]\n",
      "      \u001b[32m+\u001b[0m\u001b[0m tags_all                  = (known after apply)\n",
      "    }\n",
      "\n",
      "\u001b[1mPlan:\u001b[0m 4 to add, 0 to change, 0 to destroy.\n",
      "\u001b[0m\u001b[0m\u001b[1maws_dynamodb_table.dogs: Creating...\u001b[0m\u001b[0m\n",
      "\u001b[0m\u001b[1maws_kinesis_stream.eaten_hot_dogs_stream: Creating...\u001b[0m\u001b[0m\n",
      "\u001b[0m\u001b[1maws_kinesis_stream.caught_dogs_stream: Creating...\u001b[0m\u001b[0m\n",
      "\u001b[0m\u001b[1maws_kinesis_stream.hot_dogs_stream: Creating...\u001b[0m\u001b[0m\n",
      "\u001b[0m\u001b[1maws_dynamodb_table.dogs: Creation complete after 2s [id=dogs]\u001b[0m\n",
      "\u001b[0m\u001b[1maws_kinesis_stream.eaten_hot_dogs_stream: Still creating... [10s elapsed]\u001b[0m\u001b[0m\n",
      "\u001b[0m\u001b[1maws_kinesis_stream.caught_dogs_stream: Still creating... [10s elapsed]\u001b[0m\u001b[0m\n",
      "\u001b[0m\u001b[1maws_kinesis_stream.hot_dogs_stream: Still creating... [10s elapsed]\u001b[0m\u001b[0m\n",
      "\u001b[0m\u001b[1maws_kinesis_stream.eaten_hot_dogs_stream: Still creating... [20s elapsed]\u001b[0m\u001b[0m\n",
      "\u001b[0m\u001b[1maws_kinesis_stream.caught_dogs_stream: Still creating... [20s elapsed]\u001b[0m\u001b[0m\n",
      "\u001b[0m\u001b[1maws_kinesis_stream.hot_dogs_stream: Still creating... [20s elapsed]\u001b[0m\u001b[0m\n",
      "\u001b[0m\u001b[1maws_kinesis_stream.caught_dogs_stream: Still creating... [30s elapsed]\u001b[0m\u001b[0m\n",
      "\u001b[0m\u001b[1maws_kinesis_stream.eaten_hot_dogs_stream: Still creating... [30s elapsed]\u001b[0m\u001b[0m\n",
      "\u001b[0m\u001b[1maws_kinesis_stream.hot_dogs_stream: Still creating... [30s elapsed]\u001b[0m\u001b[0m\n",
      "\u001b[0m\u001b[1maws_kinesis_stream.hot_dogs_stream: Still creating... [40s elapsed]\u001b[0m\u001b[0m\n",
      "\u001b[0m\u001b[1maws_kinesis_stream.caught_dogs_stream: Still creating... [40s elapsed]\u001b[0m\u001b[0m\n",
      "\u001b[0m\u001b[1maws_kinesis_stream.eaten_hot_dogs_stream: Still creating... [40s elapsed]\u001b[0m\u001b[0m\n",
      "\u001b[0m\u001b[1maws_kinesis_stream.caught_dogs_stream: Creation complete after 41s [id=arn:aws:kinesis:ap-southeast-2:000000000000:stream/caughtDogs]\u001b[0m\n",
      "\u001b[0m\u001b[1maws_kinesis_stream.hot_dogs_stream: Creation complete after 41s [id=arn:aws:kinesis:ap-southeast-2:000000000000:stream/hotDogs]\u001b[0m\n",
      "\u001b[0m\u001b[1maws_kinesis_stream.eaten_hot_dogs_stream: Creation complete after 41s [id=arn:aws:kinesis:ap-southeast-2:000000000000:stream/eatenHotDogs]\u001b[0m\n",
      "\u001b[33m╷\u001b[0m\u001b[0m\n",
      "\u001b[33m│\u001b[0m \u001b[0m\u001b[1m\u001b[33mWarning: \u001b[0m\u001b[0m\u001b[1mVersion constraints inside provider configuration blocks are deprecated\u001b[0m\n",
      "\u001b[33m│\u001b[0m \u001b[0m\n",
      "\u001b[33m│\u001b[0m \u001b[0m\u001b[0m  on LocalstackAwsExample.tf line 2, in provider \"aws\":\n",
      "\u001b[33m│\u001b[0m \u001b[0m   2:   version = \u001b[4m\"= 3.46.0\"\u001b[0m\u001b[0m\n",
      "\u001b[33m│\u001b[0m \u001b[0m\n",
      "\u001b[33m│\u001b[0m \u001b[0mTerraform 0.13 and earlier allowed provider version constraints inside the\n",
      "\u001b[33m│\u001b[0m \u001b[0mprovider configuration block, but that is now deprecated and will be\n",
      "\u001b[33m│\u001b[0m \u001b[0mremoved in a future version of Terraform. To silence this warning, move the\n",
      "\u001b[33m│\u001b[0m \u001b[0mprovider version constraint into the required_providers block.\n",
      "\u001b[33m╵\u001b[0m\u001b[0m\n",
      "\u001b[0m\u001b[1m\u001b[32m\n",
      "Apply complete! Resources: 4 added, 0 changed, 0 destroyed.\n",
      "\u001b[0m\n"
     ]
    }
   ],
   "source": [
    "$command = \".\\terraform -chdir=$WorkingDirectory apply --auto-approve\"\n",
    "Write-Output \"Executing the command:\"\n",
    "Write-Output $command\n",
    "Invoke-Expression $command"
   ]
  },
  {
   "cell_type": "code",
   "execution_count": 34,
   "metadata": {
    "dotnet_interactive": {
     "language": "pwsh"
    },
    "polyglot_notebook": {
     "kernelName": "pwsh"
    },
    "vscode": {
     "languageId": "polyglot-notebook"
    }
   },
   "outputs": [
    {
     "name": "stdout",
     "output_type": "stream",
     "text": [
      "Executing the command:\n",
      "awslocal dynamodb list-tables\n",
      "{\n",
      "    \"TableNames\": []\n",
      "}\n"
     ]
    }
   ],
   "source": [
    "$command = \"awslocal dynamodb list-tables\"\n",
    "Write-Output \"Executing the command:\"\n",
    "Write-Output $command\n",
    "Invoke-Expression $command"
   ]
  },
  {
   "cell_type": "code",
   "execution_count": null,
   "metadata": {
    "dotnet_interactive": {
     "language": "pwsh"
    },
    "polyglot_notebook": {
     "kernelName": "pwsh"
    },
    "vscode": {
     "languageId": "polyglot-notebook"
    }
   },
   "outputs": [],
   "source": [
    "if (!$IsWindows) {exit} # Guard Clause this section is only for Windows"
   ]
  },
  {
   "cell_type": "code",
   "execution_count": 47,
   "metadata": {
    "dotnet_interactive": {
     "language": "pwsh"
    },
    "polyglot_notebook": {
     "kernelName": "pwsh"
    },
    "vscode": {
     "languageId": "polyglot-notebook"
    }
   },
   "outputs": [
    {
     "name": "stdout",
     "output_type": "stream",
     "text": [
      "Executing the command:\n",
      "awslocal dynamodb create-table     --table-name Music     --attribute-definitions         AttributeName=Artist,AttributeType=S         AttributeName=SongTitle,AttributeType=S     --key-schema         AttributeName=Artist,KeyType=HASH         AttributeName=SongTitle,KeyType=RANGE     --provisioned-throughput         ReadCapacityUnits=5,WriteCapacityUnits=5     --table-class STANDARD\n",
      "{\n",
      "    \"TableDescription\": {\n",
      "        \"AttributeDefinitions\": [\n",
      "            {\n",
      "                \"AttributeName\": \"Artist\",\n",
      "                \"AttributeType\": \"S\"\n",
      "            },\n",
      "            {\n",
      "                \"AttributeName\": \"SongTitle\",\n",
      "                \"AttributeType\": \"S\"\n",
      "            }\n",
      "        ],\n",
      "        \"TableName\": \"Music\",\n",
      "        \"KeySchema\": [\n",
      "            {\n",
      "                \"AttributeName\": \"Artist\",\n",
      "                \"KeyType\": \"HASH\"\n",
      "            },\n",
      "            {\n",
      "                \"AttributeName\": \"SongTitle\",\n",
      "                \"KeyType\": \"RANGE\"\n",
      "            }\n",
      "        ],\n",
      "        \"TableStatus\": \"ACTIVE\",\n",
      "        \"CreationDateTime\": 1680289573.155,\n",
      "        \"ProvisionedThroughput\": {\n",
      "            \"ReadCapacityUnits\": 5,\n",
      "            \"WriteCapacityUnits\": 5\n",
      "        },\n",
      "        \"TableSizeBytes\": 0,\n",
      "        \"ItemCount\": 0,\n",
      "        \"TableArn\": \"arn:aws:dynamodb:us-east-1:000000000000:table/Music\",\n",
      "        \"TableId\": \"6df4b6b5-1dca-499d-9f26-a14f73c4863f\",\n",
      "        \"TableClassSummary\": {\n",
      "            \"TableClass\": \"STANDARD\"\n",
      "        }\n",
      "    }\n",
      "}\n"
     ]
    }
   ],
   "source": [
    "$command = @\"\n",
    "awslocal dynamodb create-table \n",
    "    --table-name Music \n",
    "    --attribute-definitions \n",
    "        AttributeName=Artist,AttributeType=S \n",
    "        AttributeName=SongTitle,AttributeType=S \n",
    "    --key-schema \n",
    "        AttributeName=Artist,KeyType=HASH \n",
    "        AttributeName=SongTitle,KeyType=RANGE \n",
    "    --provisioned-throughput \n",
    "        ReadCapacityUnits=5,WriteCapacityUnits=5 \n",
    "    --table-class STANDARD\n",
    "\"@\n",
    "Write-Output \"Executing the command:\"\n",
    "$command = $command.replace(\"`n\",\"\").replace(\"`r\",\"\")\n",
    "Write-Output $command\n",
    "Invoke-Expression $command"
   ]
  },
  {
   "cell_type": "code",
   "execution_count": 48,
   "metadata": {
    "dotnet_interactive": {
     "language": "pwsh"
    },
    "polyglot_notebook": {
     "kernelName": "pwsh"
    },
    "vscode": {
     "languageId": "polyglot-notebook"
    }
   },
   "outputs": [
    {
     "name": "stdout",
     "output_type": "stream",
     "text": [
      "Executing the command:\n",
      "awslocal dynamodb scan --endpoint-url http://localhost:4566 --table-name Music\n",
      "{\n",
      "    \"Items\": [],\n",
      "    \"Count\": 0,\n",
      "    \"ScannedCount\": 0,\n",
      "    \"ConsumedCapacity\": null\n",
      "}\n"
     ]
    }
   ],
   "source": [
    "$command = \"awslocal dynamodb scan --endpoint-url http://localhost:4566 --table-name Music\"\n",
    "Write-Output \"Executing the command:\"\n",
    "Write-Output $command\n",
    "Invoke-Expression $command"
   ]
  },
  {
   "cell_type": "code",
   "execution_count": null,
   "metadata": {
    "dotnet_interactive": {
     "language": "pwsh"
    },
    "polyglot_notebook": {
     "kernelName": "pwsh"
    },
    "vscode": {
     "languageId": "polyglot-notebook"
    }
   },
   "outputs": [],
   "source": [
    "# docker stop localstack_main"
   ]
  }
 ],
 "metadata": {
  "language_info": {
   "name": "python"
  },
  "orig_nbformat": 4
 },
 "nbformat": 4,
 "nbformat_minor": 2
}
