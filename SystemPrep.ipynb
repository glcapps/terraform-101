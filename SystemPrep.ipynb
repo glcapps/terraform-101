{
 "cells": [
  {
   "cell_type": "code",
   "execution_count": null,
   "metadata": {
    "dotnet_interactive": {
     "language": "html"
    },
    "polyglot_notebook": {
     "kernelName": "html"
    }
   },
   "outputs": [],
   "source": [
    "<a href='https://marketplace.visualstudio.com/items?itemName=HashiCorp.terraform'>VS Code plugin to syntax highlight for terraform code</a>"
   ]
  },
  {
   "cell_type": "code",
   "execution_count": null,
   "metadata": {
    "dotnet_interactive": {
     "language": "pwsh"
    },
    "polyglot_notebook": {
     "kernelName": "pwsh"
    }
   },
   "outputs": [],
   "source": [
    "code --install-extension hashicorp.terraform"
   ]
  },
  {
   "cell_type": "code",
   "execution_count": null,
   "metadata": {
    "dotnet_interactive": {
     "language": "pwsh"
    },
    "polyglot_notebook": {
     "kernelName": "pwsh"
    }
   },
   "outputs": [],
   "source": [
    "if (!$OriginalProjectPath) {$OriginalProjectPath = (Get-Item .).FullName}\n",
    "$WorkingDirectory = $OriginalProjectPath + '\\WorkingDirectory'\n",
    "\"OriginalProjectPath: $OriginalProjectPath\"\n",
    "\"WorkingDirectory: $WorkingDirectory\""
   ]
  },
  {
   "cell_type": "code",
   "execution_count": null,
   "metadata": {
    "dotnet_interactive": {
     "language": "pwsh"
    },
    "polyglot_notebook": {
     "kernelName": "pwsh"
    }
   },
   "outputs": [],
   "source": [
    "if (!$IsMacOS) {exit} # Guard Clause this section is only for MacOS\n",
    "brew tap hashicorp/tap\n",
    "brew install hashicorp/tap/terraform"
   ]
  },
  {
   "cell_type": "code",
   "execution_count": null,
   "metadata": {
    "dotnet_interactive": {
     "language": "pwsh"
    },
    "polyglot_notebook": {
     "kernelName": "pwsh"
    }
   },
   "outputs": [],
   "source": [
    "if (!$IsLinux) {exit} # Guard Clause this section is only for Linux\n",
    "sudo apt update && sudo apt install terraform"
   ]
  },
  {
   "cell_type": "code",
   "execution_count": null,
   "metadata": {
    "dotnet_interactive": {
     "language": "pwsh"
    },
    "polyglot_notebook": {
     "kernelName": "pwsh"
    }
   },
   "outputs": [],
   "source": [
    "if (!$IsWindows) {exit} # Guard Clause this section is only for Windows\n",
    "\n",
    "$url = 'https://releases.hashicorp.com/terraform/1.4.2/terraform_1.4.2_windows_amd64.zip'\n",
    "# create temp with zip extension (or Expand will complain)\n",
    "$tmp = New-TemporaryFile | Rename-Item -NewName { $_ -replace 'tmp$', 'zip' } –PassThru\n",
    "Invoke-WebRequest -OutFile $tmp $url # download\n",
    "mkdir $env:TEMP\\tf\n",
    "$tmp | Expand-Archive -DestinationPath $env:TEMP\\tf\\ -Force # exract to same folder \n",
    "$tmp | Remove-Item # remove temporary file\n"
   ]
  },
  {
   "cell_type": "code",
   "execution_count": null,
   "metadata": {
    "dotnet_interactive": {
     "language": "pwsh"
    },
    "polyglot_notebook": {
     "kernelName": "pwsh"
    }
   },
   "outputs": [],
   "source": [
    "cd $env:TEMP\\tf\n",
    "$TerraformExePath = (Get-ChildItem)[0].FullName"
   ]
  },
  {
   "cell_type": "code",
   "execution_count": null,
   "metadata": {
    "dotnet_interactive": {
     "language": "pwsh"
    },
    "polyglot_notebook": {
     "kernelName": "pwsh"
    }
   },
   "outputs": [],
   "source": [
    ".\\terraform version\n",
    ".\\terraform -help"
   ]
  },
  {
   "cell_type": "code",
   "execution_count": null,
   "metadata": {
    "dotnet_interactive": {
     "language": "pwsh"
    },
    "polyglot_notebook": {
     "kernelName": "pwsh"
    }
   },
   "outputs": [],
   "source": [
    "$command = \".\\terraform -chdir=$WorkingDirectory validate\"\n",
    "Write-Output \"Executing the command:\"\n",
    "Write-Output $command\n",
    "Invoke-Expression $command"
   ]
  },
  {
   "cell_type": "code",
   "execution_count": null,
   "metadata": {
    "dotnet_interactive": {
     "language": "pwsh"
    },
    "polyglot_notebook": {
     "kernelName": "pwsh"
    }
   },
   "outputs": [],
   "source": [
    "$command = \".\\terraform -chdir=$WorkingDirectory init\"\n",
    "Write-Output \"Executing the command:\"\n",
    "Write-Output $command\n",
    "Invoke-Expression $command"
   ]
  }
 ],
 "metadata": {
  "kernelspec": {
   "display_name": ".NET (C#)",
   "language": "C#",
   "name": ".net-csharp"
  },
  "language_info": {
   "name": "polyglot-notebook"
  },
  "polyglot_notebook": {
   "kernelInfo": {
    "defaultKernelName": "csharp",
    "items": [
     {
      "aliases": [],
      "name": "csharp"
     }
    ]
   }
  }
 },
 "nbformat": 4,
 "nbformat_minor": 2
}
