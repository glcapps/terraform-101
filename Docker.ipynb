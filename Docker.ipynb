{
 "cells": [
  {
   "cell_type": "code",
   "execution_count": null,
   "metadata": {
    "dotnet_interactive": {
     "language": "pwsh"
    },
    "polyglot_notebook": {
     "kernelName": "pwsh"
    },
    "vscode": {
     "languageId": "polyglot-notebook"
    }
   },
   "outputs": [],
   "source": [
    "docker ps --filter=\"name=sql\""
   ]
  },
  {
   "cell_type": "code",
   "execution_count": null,
   "metadata": {
    "dotnet_interactive": {
     "language": "pwsh"
    },
    "polyglot_notebook": {
     "kernelName": "pwsh"
    },
    "vscode": {
     "languageId": "polyglot-notebook"
    }
   },
   "outputs": [],
   "source": [
    "if (!$OriginalProjectPath) {$OriginalProjectPath = (Get-Item .).FullName}\n",
    "$WorkingDirectory = $OriginalProjectPath + '\\WorkingDirectory\\LocalDockerExample'\n",
    "\"OriginalProjectPath: $OriginalProjectPath\"\n",
    "\"WorkingDirectory: $WorkingDirectory\""
   ]
  },
  {
   "cell_type": "code",
   "execution_count": null,
   "metadata": {
    "dotnet_interactive": {
     "language": "pwsh"
    },
    "polyglot_notebook": {
     "kernelName": "pwsh"
    },
    "vscode": {
     "languageId": "polyglot-notebook"
    }
   },
   "outputs": [],
   "source": [
    "cd $env:TEMP\\tf\n",
    "$TerraformExePath = (Get-ChildItem)[0].FullName\n"
   ]
  },
  {
   "cell_type": "code",
   "execution_count": null,
   "metadata": {
    "dotnet_interactive": {
     "language": "pwsh"
    },
    "polyglot_notebook": {
     "kernelName": "pwsh"
    },
    "vscode": {
     "languageId": "polyglot-notebook"
    }
   },
   "outputs": [],
   "source": [
    "\"TerraformExePath: $TerraformExePath\""
   ]
  },
  {
   "cell_type": "code",
   "execution_count": null,
   "metadata": {
    "dotnet_interactive": {
     "language": "pwsh"
    },
    "polyglot_notebook": {
     "kernelName": "pwsh"
    },
    "vscode": {
     "languageId": "polyglot-notebook"
    }
   },
   "outputs": [],
   "source": [
    ".\\terraform version"
   ]
  },
  {
   "cell_type": "code",
   "execution_count": null,
   "metadata": {
    "dotnet_interactive": {
     "language": "pwsh"
    },
    "polyglot_notebook": {
     "kernelName": "pwsh"
    },
    "vscode": {
     "languageId": "polyglot-notebook"
    }
   },
   "outputs": [],
   "source": [
    "$command = 'docker inspect --format=\"{{.ID}}\" sql'\n",
    "Write-Output \"Executing the command:\"\n",
    "Write-Output $command\n",
    "$DockerId = Invoke-Expression $command\n",
    "Write-Output 'Docker Id in question:' $DockerId"
   ]
  },
  {
   "cell_type": "code",
   "execution_count": null,
   "metadata": {
    "dotnet_interactive": {
     "language": "pwsh"
    },
    "polyglot_notebook": {
     "kernelName": "pwsh"
    },
    "vscode": {
     "languageId": "polyglot-notebook"
    }
   },
   "outputs": [],
   "source": [
    "$content = Get-Content -Path \"$WorkingDirectory\\LocalDockerExampleOriginal.tf.bak\"\n",
    "$content | Set-Content \"$WorkingDirectory\\LocalDockerExample.tf\""
   ]
  },
  {
   "cell_type": "code",
   "execution_count": null,
   "metadata": {
    "dotnet_interactive": {
     "language": "pwsh"
    },
    "polyglot_notebook": {
     "kernelName": "pwsh"
    },
    "vscode": {
     "languageId": "polyglot-notebook"
    }
   },
   "outputs": [],
   "source": [
    "$command = \".\\terraform -chdir=$WorkingDirectory init\"\n",
    "Write-Output \"Executing the command:\"\n",
    "Write-Output $command\n",
    "Invoke-Expression $command"
   ]
  },
  {
   "cell_type": "code",
   "execution_count": null,
   "metadata": {
    "dotnet_interactive": {
     "language": "pwsh"
    },
    "polyglot_notebook": {
     "kernelName": "pwsh"
    },
    "vscode": {
     "languageId": "polyglot-notebook"
    }
   },
   "outputs": [],
   "source": [
    "$command = \".\\terraform -chdir=$WorkingDirectory import docker_container.arbitrarylabel $DockerId\"\n",
    "Write-Output \"Executing the command:\"\n",
    "Write-Output $command\n",
    "Invoke-Expression $command"
   ]
  },
  {
   "cell_type": "code",
   "execution_count": null,
   "metadata": {
    "dotnet_interactive": {
     "language": "pwsh"
    },
    "polyglot_notebook": {
     "kernelName": "pwsh"
    },
    "vscode": {
     "languageId": "polyglot-notebook"
    }
   },
   "outputs": [],
   "source": [
    "$command = \".\\terraform -chdir=$WorkingDirectory show\"\n",
    "Write-Output \"Executing the command:\"\n",
    "Write-Output $command\n",
    "Invoke-Expression $command"
   ]
  },
  {
   "cell_type": "code",
   "execution_count": null,
   "metadata": {
    "dotnet_interactive": {
     "language": "pwsh"
    },
    "polyglot_notebook": {
     "kernelName": "pwsh"
    },
    "vscode": {
     "languageId": "polyglot-notebook"
    }
   },
   "outputs": [],
   "source": [
    "$command = \".\\terraform -chdir=$WorkingDirectory plan\"\n",
    "Write-Output \"Executing the command:\"\n",
    "Write-Output $command\n",
    "Write-Output \"****** Errors are Expected ******\"\n",
    "Invoke-Expression $command"
   ]
  },
  {
   "cell_type": "code",
   "execution_count": null,
   "metadata": {
    "dotnet_interactive": {
     "language": "pwsh"
    },
    "polyglot_notebook": {
     "kernelName": "pwsh"
    },
    "vscode": {
     "languageId": "polyglot-notebook"
    }
   },
   "outputs": [],
   "source": [
    "$command = \".\\terraform -chdir=$WorkingDirectory show -no-color > $WorkingDirectory\\LocalDockerExample.tf\"\n",
    "Write-Output \"Executing the command:\"\n",
    "Write-Output $command\n",
    "Invoke-Expression $command"
   ]
  },
  {
   "cell_type": "code",
   "execution_count": null,
   "metadata": {
    "dotnet_interactive": {
     "language": "pwsh"
    },
    "polyglot_notebook": {
     "kernelName": "pwsh"
    },
    "vscode": {
     "languageId": "polyglot-notebook"
    }
   },
   "outputs": [],
   "source": [
    "(Get-Content -Raw \"$WorkingDirectory\\LocalDockerExample.tf\")"
   ]
  },
  {
   "cell_type": "code",
   "execution_count": null,
   "metadata": {
    "dotnet_interactive": {
     "language": "pwsh"
    },
    "polyglot_notebook": {
     "kernelName": "pwsh"
    },
    "vscode": {
     "languageId": "polyglot-notebook"
    }
   },
   "outputs": [],
   "source": [
    "$NewContent = (\n",
    "    @'\n",
    "terraform {\n",
    "    required_providers {\n",
    "        docker = {\n",
    "            source  = \"kreuzwerker/docker\"\n",
    "            version = \"~> 2.17.0\"\n",
    "        }\n",
    "    }\n",
    "}\n",
    "provider \"docker\" {\n",
    "  #host = \"unix:///var/run/docker.sock\"\n",
    "  host    = \"npipe:////.//pipe//docker_engine\"\n",
    "}\n",
    "\n",
    "'@).ReplaceLineEndings() + (Get-Content -Raw -Path \"$WorkingDirectory\\LocalDockerExample.tf\").ReplaceLineEndings()\n",
    "$NewContent = $NewContent.Replace('gateway           =',\"# gateway           =\")\n",
    "$NewContent = $NewContent.Replace('id                =',\"# id                =\")\n",
    "$NewContent = $NewContent.Replace('ip_address        =',\"# ip_address        =\")\n",
    "$NewContent = $NewContent.Replace('ip_prefix_length  =',\"# ip_prefix_length  =\")\n",
    "$NewContent = $NewContent.Replace('network_data      =',\"/*network_data      =\")\n",
    "$NewContent = $NewContent.Replace('network_mode      =',\"*/`n    network_mode      =\")\n",
    "$NewContent | Set-Content \"$WorkingDirectory\\LocalDockerExample.tf\""
   ]
  },
  {
   "cell_type": "code",
   "execution_count": null,
   "metadata": {
    "dotnet_interactive": {
     "language": "pwsh"
    },
    "polyglot_notebook": {
     "kernelName": "pwsh"
    },
    "vscode": {
     "languageId": "polyglot-notebook"
    }
   },
   "outputs": [],
   "source": [
    "(Get-Content -Raw \"$WorkingDirectory\\LocalDockerExample.tf\")"
   ]
  },
  {
   "cell_type": "code",
   "execution_count": null,
   "metadata": {
    "dotnet_interactive": {
     "language": "pwsh"
    },
    "polyglot_notebook": {
     "kernelName": "pwsh"
    },
    "vscode": {
     "languageId": "polyglot-notebook"
    }
   },
   "outputs": [],
   "source": [
    "$command = \".\\terraform -chdir=$WorkingDirectory init -upgrade -input=false\"\n",
    "Write-Output \"Executing the command:\"\n",
    "Write-Output $command\n",
    "Write-Output \"****** Errors are NOT Expected ******\"\n",
    "Invoke-Expression $command"
   ]
  },
  {
   "cell_type": "code",
   "execution_count": null,
   "metadata": {
    "dotnet_interactive": {
     "language": "pwsh"
    },
    "polyglot_notebook": {
     "kernelName": "pwsh"
    },
    "vscode": {
     "languageId": "polyglot-notebook"
    }
   },
   "outputs": [],
   "source": [
    "$command = \".\\terraform -chdir=$WorkingDirectory plan -input=false\"\n",
    "Write-Output \"Executing the command:\"\n",
    "Write-Output $command\n",
    "Write-Output \"****** Errors are NOT Expected ******\"\n",
    "Invoke-Expression $command"
   ]
  },
  {
   "cell_type": "code",
   "execution_count": null,
   "metadata": {
    "dotnet_interactive": {
     "language": "pwsh"
    },
    "polyglot_notebook": {
     "kernelName": "pwsh"
    },
    "vscode": {
     "languageId": "polyglot-notebook"
    }
   },
   "outputs": [],
   "source": [
    "$command = \".\\terraform -chdir=$WorkingDirectory plan -out=tfplan -input=false\"\n",
    "Write-Output \"Executing the command:\"\n",
    "Write-Output $command\n",
    "Write-Output \"****** Errors are NOT Expected ******\"\n",
    "Invoke-Expression $command"
   ]
  },
  {
   "cell_type": "code",
   "execution_count": null,
   "metadata": {
    "dotnet_interactive": {
     "language": "pwsh"
    },
    "polyglot_notebook": {
     "kernelName": "pwsh"
    },
    "vscode": {
     "languageId": "polyglot-notebook"
    }
   },
   "outputs": [],
   "source": [
    "$command = \".\\terraform -chdir=$WorkingDirectory apply -input=false tfplan\"\n",
    "Write-Output \"Executing the command:\"\n",
    "Write-Output $command\n",
    "Write-Output \"****** Errors are NOT Expected ******\"\n",
    "Invoke-Expression $command"
   ]
  },
  {
   "cell_type": "code",
   "execution_count": null,
   "metadata": {
    "dotnet_interactive": {
     "language": "pwsh"
    },
    "polyglot_notebook": {
     "kernelName": "pwsh"
    },
    "vscode": {
     "languageId": "polyglot-notebook"
    }
   },
   "outputs": [],
   "source": [
    "# Full Reset\n",
    "if (!$WorkingDirectory) {exit} # Guard Clause\n",
    "#Remove-Item -LiteralPath \"$WorkingDirectory\\.terraform\" #-Force -Recurse -whatif"
   ]
  }
 ],
 "metadata": {
  "language_info": {
   "name": "python"
  },
  "orig_nbformat": 4
 },
 "nbformat": 4,
 "nbformat_minor": 2
}
