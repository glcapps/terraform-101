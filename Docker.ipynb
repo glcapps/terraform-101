{
 "cells": [
  {
   "cell_type": "code",
   "execution_count": null,
   "metadata": {
    "dotnet_interactive": {
     "language": "pwsh"
    },
    "polyglot_notebook": {
     "kernelName": "pwsh"
    },
    "vscode": {
     "languageId": "polyglot-notebook"
    }
   },
   "outputs": [],
   "source": [
    "docker rm -f sql\n",
    "docker run -e \"ACCEPT_EULA=Y\" -e \"SA_PASSWORD=MyPass@word\" -e \"MSSQL_PID=Express\" -p 1433:1433 -d --name=sql mcr.microsoft.com/mssql/server:latest"
   ]
  },
  {
   "cell_type": "code",
   "execution_count": 1,
   "metadata": {
    "dotnet_interactive": {
     "language": "pwsh"
    },
    "polyglot_notebook": {
     "kernelName": "pwsh"
    },
    "vscode": {
     "languageId": "polyglot-notebook"
    }
   },
   "outputs": [
    {
     "name": "stdout",
     "output_type": "stream",
     "text": [
      "CONTAINER ID   IMAGE     COMMAND   CREATED   STATUS    PORTS     NAMES\r\n"
     ]
    }
   ],
   "source": [
    "docker ps --filter=\"name=sql\""
   ]
  },
  {
   "cell_type": "code",
   "execution_count": null,
   "metadata": {
    "dotnet_interactive": {
     "language": "pwsh"
    },
    "polyglot_notebook": {
     "kernelName": "pwsh"
    },
    "vscode": {
     "languageId": "polyglot-notebook"
    }
   },
   "outputs": [],
   "source": [
    "if (!$OriginalProjectPath) {$OriginalProjectPath = (Get-Item .).FullName}\n",
    "$Env:terraformworkingdir = $OriginalProjectPath + '\\WorkingDirectory\\LocalDockerExample'\n",
    "Write-Output \"OriginalProjectPath: $OriginalProjectPath\"\n",
    "Write-Output \"WorkingDirectory: $Env:terraformworkingdir\"\n",
    "$WorkingDirectory = $Env:terraformworkingdir"
   ]
  },
  {
   "cell_type": "code",
   "execution_count": null,
   "metadata": {
    "dotnet_interactive": {
     "language": "pwsh"
    },
    "polyglot_notebook": {
     "kernelName": "pwsh"
    },
    "vscode": {
     "languageId": "polyglot-notebook"
    }
   },
   "outputs": [],
   "source": [
    "cd $env:TEMP\\tf\n",
    "$TerraformExePath = (Get-ChildItem)[0].FullName\n"
   ]
  },
  {
   "cell_type": "code",
   "execution_count": null,
   "metadata": {
    "dotnet_interactive": {
     "language": "pwsh"
    },
    "polyglot_notebook": {
     "kernelName": "pwsh"
    },
    "vscode": {
     "languageId": "polyglot-notebook"
    }
   },
   "outputs": [],
   "source": [
    "\"TerraformExePath: $TerraformExePath\""
   ]
  },
  {
   "cell_type": "code",
   "execution_count": null,
   "metadata": {
    "dotnet_interactive": {
     "language": "pwsh"
    },
    "polyglot_notebook": {
     "kernelName": "pwsh"
    },
    "vscode": {
     "languageId": "polyglot-notebook"
    }
   },
   "outputs": [],
   "source": [
    ".\\terraform version"
   ]
  },
  {
   "cell_type": "code",
   "execution_count": null,
   "metadata": {
    "dotnet_interactive": {
     "language": "pwsh"
    },
    "polyglot_notebook": {
     "kernelName": "pwsh"
    },
    "vscode": {
     "languageId": "polyglot-notebook"
    }
   },
   "outputs": [],
   "source": [
    "$command = 'docker inspect --format=\"{{.ID}}\" sql'\n",
    "Write-Output \"Executing the command:\"\n",
    "Write-Output $command\n",
    "$DockerId = Invoke-Expression $command\n",
    "$Env:ImportDockerId = $DockerId\n",
    "Write-Output 'Docker Id in question:' $Env:ImportDockerId"
   ]
  },
  {
   "cell_type": "code",
   "execution_count": null,
   "metadata": {
    "dotnet_interactive": {
     "language": "pwsh"
    },
    "polyglot_notebook": {
     "kernelName": "pwsh"
    },
    "vscode": {
     "languageId": "polyglot-notebook"
    }
   },
   "outputs": [],
   "source": [
    "$content = Get-Content -Path \"$Env:terraformworkingdir\\LocalDockerExampleOriginal.tf.bak\"\n",
    "$content | Set-Content \"$Env:terraformworkingdir\\LocalDockerExample.tf\""
   ]
  },
  {
   "cell_type": "code",
   "execution_count": null,
   "metadata": {
    "dotnet_interactive": {
     "language": "pwsh"
    },
    "polyglot_notebook": {
     "kernelName": "pwsh"
    },
    "vscode": {
     "languageId": "polyglot-notebook"
    }
   },
   "outputs": [],
   "source": [
    ".\\terraform --% -chdir=%terraformworkingdir% init"
   ]
  },
  {
   "cell_type": "code",
   "execution_count": null,
   "metadata": {
    "dotnet_interactive": {
     "language": "pwsh"
    },
    "polyglot_notebook": {
     "kernelName": "pwsh"
    },
    "vscode": {
     "languageId": "polyglot-notebook"
    }
   },
   "outputs": [],
   "source": [
    ".\\terraform --% -chdir=%terraformworkingdir% import docker_container.arbitrarylabel %ImportDockerId%"
   ]
  },
  {
   "cell_type": "code",
   "execution_count": null,
   "metadata": {
    "dotnet_interactive": {
     "language": "pwsh"
    },
    "polyglot_notebook": {
     "kernelName": "pwsh"
    },
    "vscode": {
     "languageId": "polyglot-notebook"
    }
   },
   "outputs": [],
   "source": [
    ".\\terraform --% -chdir=%terraformworkingdir% show"
   ]
  },
  {
   "cell_type": "code",
   "execution_count": null,
   "metadata": {
    "dotnet_interactive": {
     "language": "pwsh"
    },
    "polyglot_notebook": {
     "kernelName": "pwsh"
    },
    "vscode": {
     "languageId": "polyglot-notebook"
    }
   },
   "outputs": [],
   "source": [
    ".\\terraform --% -chdir=%terraformworkingdir% plan\n",
    "Write-Output \"****** Errors are Expected ******\""
   ]
  },
  {
   "cell_type": "code",
   "execution_count": null,
   "metadata": {
    "dotnet_interactive": {
     "language": "pwsh"
    },
    "polyglot_notebook": {
     "kernelName": "pwsh"
    },
    "vscode": {
     "languageId": "polyglot-notebook"
    }
   },
   "outputs": [],
   "source": [
    "$command = \".\\terraform -chdir=$WorkingDirectory show -no-color > $WorkingDirectory\\LocalDockerExample.tf\"\n",
    "Write-Output \"Executing the command:\"\n",
    "Write-Output $command\n",
    "Invoke-Expression $command"
   ]
  },
  {
   "cell_type": "code",
   "execution_count": null,
   "metadata": {
    "dotnet_interactive": {
     "language": "pwsh"
    },
    "polyglot_notebook": {
     "kernelName": "pwsh"
    },
    "vscode": {
     "languageId": "polyglot-notebook"
    }
   },
   "outputs": [],
   "source": [
    "(Get-Content -Raw \"$WorkingDirectory\\LocalDockerExample.tf\")"
   ]
  },
  {
   "cell_type": "code",
   "execution_count": null,
   "metadata": {
    "dotnet_interactive": {
     "language": "pwsh"
    },
    "polyglot_notebook": {
     "kernelName": "pwsh"
    },
    "vscode": {
     "languageId": "polyglot-notebook"
    }
   },
   "outputs": [],
   "source": [
    "$NewContent = (\n",
    "    @'\n",
    "terraform {\n",
    "    required_providers {\n",
    "        docker = {\n",
    "            source  = \"kreuzwerker/docker\"\n",
    "            version = \"~> 2.17.0\"\n",
    "        }\n",
    "    }\n",
    "}\n",
    "provider \"docker\" {\n",
    "  #host = \"unix:///var/run/docker.sock\"\n",
    "  host    = \"npipe:////.//pipe//docker_engine\"\n",
    "}\n",
    "\n",
    "'@).ReplaceLineEndings() + (Get-Content -Raw -Path \"$WorkingDirectory\\LocalDockerExample.tf\").ReplaceLineEndings()\n",
    "$NewContent = $NewContent.Replace('gateway           =',\"# gateway           =\")\n",
    "$NewContent = $NewContent.Replace('id                =',\"# id                =\")\n",
    "$NewContent = $NewContent.Replace('ip_address        =',\"# ip_address        =\")\n",
    "$NewContent = $NewContent.Replace('ip_prefix_length  =',\"# ip_prefix_length  =\")\n",
    "$NewContent = $NewContent.Replace('network_data      =',\"/*network_data      =\")\n",
    "$NewContent = $NewContent.Replace('network_mode      =',\"*/`n    network_mode      =\")\n",
    "$NewContent | Set-Content \"$WorkingDirectory\\LocalDockerExample.tf\""
   ]
  },
  {
   "cell_type": "code",
   "execution_count": null,
   "metadata": {
    "dotnet_interactive": {
     "language": "pwsh"
    },
    "polyglot_notebook": {
     "kernelName": "pwsh"
    },
    "vscode": {
     "languageId": "polyglot-notebook"
    }
   },
   "outputs": [],
   "source": [
    "(Get-Content -Raw \"$WorkingDirectory\\LocalDockerExample.tf\")"
   ]
  },
  {
   "cell_type": "code",
   "execution_count": null,
   "metadata": {
    "dotnet_interactive": {
     "language": "pwsh"
    },
    "polyglot_notebook": {
     "kernelName": "pwsh"
    },
    "vscode": {
     "languageId": "polyglot-notebook"
    }
   },
   "outputs": [],
   "source": [
    ".\\terraform --% -chdir=%terraformworkingdir% init -upgrade -input=false\n",
    "Write-Output \"****** Errors are NOT Expected ******\""
   ]
  },
  {
   "cell_type": "code",
   "execution_count": null,
   "metadata": {
    "dotnet_interactive": {
     "language": "pwsh"
    },
    "polyglot_notebook": {
     "kernelName": "pwsh"
    },
    "vscode": {
     "languageId": "polyglot-notebook"
    }
   },
   "outputs": [],
   "source": [
    ".\\terraform --% -chdir=%terraformworkingdir% plan -input=false\n",
    "Write-Output \"****** Errors are NOT Expected ******\""
   ]
  },
  {
   "cell_type": "code",
   "execution_count": null,
   "metadata": {
    "dotnet_interactive": {
     "language": "pwsh"
    },
    "polyglot_notebook": {
     "kernelName": "pwsh"
    },
    "vscode": {
     "languageId": "polyglot-notebook"
    }
   },
   "outputs": [],
   "source": [
    ".\\terraform --% -chdir=%terraformworkingdir% plan -out=tfplan -input=false\n",
    "Write-Output \"****** Errors are NOT Expected ******\""
   ]
  },
  {
   "cell_type": "code",
   "execution_count": null,
   "metadata": {
    "dotnet_interactive": {
     "language": "pwsh"
    },
    "polyglot_notebook": {
     "kernelName": "pwsh"
    },
    "vscode": {
     "languageId": "polyglot-notebook"
    }
   },
   "outputs": [],
   "source": [
    ".\\terraform --% -chdir=%terraformworkingdir% apply -input=false tfplan"
   ]
  },
  {
   "cell_type": "code",
   "execution_count": null,
   "metadata": {
    "dotnet_interactive": {
     "language": "pwsh"
    },
    "polyglot_notebook": {
     "kernelName": "pwsh"
    },
    "vscode": {
     "languageId": "polyglot-notebook"
    }
   },
   "outputs": [],
   "source": [
    "$NewContent = (Get-Content -Raw -Path \"$WorkingDirectory\\LocalDockerExample.tf\").ReplaceLineEndings()\n",
    "$NewContent = $NewContent.Replace('    ports {', @\"\n",
    "    upload {\n",
    "        content = \"${file(\"sample.txt\")}\"\n",
    "        file = \"/var/sample.txt\"\n",
    "    }\n",
    "    ports {\n",
    "\"@)\n",
    "$NewContent | Set-Content \"$WorkingDirectory\\LocalDockerExample.tf\""
   ]
  },
  {
   "cell_type": "code",
   "execution_count": null,
   "metadata": {
    "dotnet_interactive": {
     "language": "pwsh"
    },
    "polyglot_notebook": {
     "kernelName": "pwsh"
    },
    "vscode": {
     "languageId": "polyglot-notebook"
    }
   },
   "outputs": [],
   "source": [
    "# Full Reset\n",
    "if (!$WorkingDirectory) {exit} # Guard Clause\n",
    "#Remove-Item -LiteralPath \"$WorkingDirectory\\.terraform\" #-Force -Recurse -whatif"
   ]
  },
  {
   "cell_type": "code",
   "execution_count": null,
   "metadata": {
    "dotnet_interactive": {
     "language": "pwsh"
    },
    "polyglot_notebook": {
     "kernelName": "pwsh"
    },
    "vscode": {
     "languageId": "polyglot-notebook"
    }
   },
   "outputs": [],
   "source": [
    ".\\terraform --% -chdir=%terraformworkingdir% destroy -auto-approve"
   ]
  },
  {
   "attachments": {},
   "cell_type": "markdown",
   "metadata": {},
   "source": [
    "[How to Deploy to a remote Docker](https://www.phillipsj.net/posts/yes-terraform-can-do-that-docker/)"
   ]
  }
 ],
 "metadata": {
  "language_info": {
   "name": "python"
  },
  "orig_nbformat": 4
 },
 "nbformat": 4,
 "nbformat_minor": 2
}
