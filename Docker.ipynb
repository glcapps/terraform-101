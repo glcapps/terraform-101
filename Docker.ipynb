{
 "cells": [
  {
   "cell_type": "code",
   "execution_count": 1,
   "metadata": {
    "dotnet_interactive": {
     "language": "pwsh"
    },
    "polyglot_notebook": {
     "kernelName": "pwsh"
    },
    "vscode": {
     "languageId": "polyglot-notebook"
    }
   },
   "outputs": [
    {
     "name": "stdout",
     "output_type": "stream",
     "text": [
      "CONTAINER ID   IMAGE                                   COMMAND                  CREATED       STATUS       PORTS                    NAMES\n",
      "538ebf573fff   mcr.microsoft.com/mssql/server:latest   \"/opt/mssql/bin/perm…\"   2 hours ago   Up 2 hours   0.0.0.0:1433->1433/tcp   sql\n"
     ]
    }
   ],
   "source": [
    "docker ps --filter=\"name=sql\""
   ]
  },
  {
   "cell_type": "code",
   "execution_count": 2,
   "metadata": {
    "dotnet_interactive": {
     "language": "pwsh"
    },
    "polyglot_notebook": {
     "kernelName": "pwsh"
    },
    "vscode": {
     "languageId": "polyglot-notebook"
    }
   },
   "outputs": [
    {
     "name": "stdout",
     "output_type": "stream",
     "text": [
      "OriginalProjectPath: C:\\Users\\gary\\OneDrive\\Documents\\GitHub\\terraform-101\n",
      "WorkingDirectory: C:\\Users\\gary\\OneDrive\\Documents\\GitHub\\terraform-101\\WorkingDirectory\\LocalDockerExample\n"
     ]
    }
   ],
   "source": [
    "if (!$OriginalProjectPath) {$OriginalProjectPath = (Get-Item .).FullName}\n",
    "$WorkingDirectory = $OriginalProjectPath + '\\WorkingDirectory\\LocalDockerExample'\n",
    "\"OriginalProjectPath: $OriginalProjectPath\"\n",
    "\"WorkingDirectory: $WorkingDirectory\""
   ]
  },
  {
   "cell_type": "code",
   "execution_count": 3,
   "metadata": {
    "dotnet_interactive": {
     "language": "pwsh"
    },
    "polyglot_notebook": {
     "kernelName": "pwsh"
    },
    "vscode": {
     "languageId": "polyglot-notebook"
    }
   },
   "outputs": [],
   "source": [
    "cd $env:TEMP\\tf\n",
    "$TerraformExePath = (Get-ChildItem)[0].FullName\n"
   ]
  },
  {
   "cell_type": "code",
   "execution_count": 8,
   "metadata": {
    "dotnet_interactive": {
     "language": "pwsh"
    },
    "polyglot_notebook": {
     "kernelName": "pwsh"
    },
    "vscode": {
     "languageId": "polyglot-notebook"
    }
   },
   "outputs": [
    {
     "name": "stdout",
     "output_type": "stream",
     "text": [
      "TerraformExePath: C:\\Users\\gary\\AppData\\Local\\Temp\\tf\\terraform.exe\r\n"
     ]
    }
   ],
   "source": [
    "\"TerraformExePath: $TerraformExePath\""
   ]
  },
  {
   "cell_type": "code",
   "execution_count": 4,
   "metadata": {
    "dotnet_interactive": {
     "language": "pwsh"
    },
    "polyglot_notebook": {
     "kernelName": "pwsh"
    },
    "vscode": {
     "languageId": "polyglot-notebook"
    }
   },
   "outputs": [
    {
     "name": "stdout",
     "output_type": "stream",
     "text": [
      "Terraform v1.4.2\n",
      "on windows_amd64\n"
     ]
    }
   ],
   "source": [
    ".\\terraform version"
   ]
  },
  {
   "cell_type": "code",
   "execution_count": 5,
   "metadata": {
    "dotnet_interactive": {
     "language": "pwsh"
    },
    "polyglot_notebook": {
     "kernelName": "pwsh"
    },
    "vscode": {
     "languageId": "polyglot-notebook"
    }
   },
   "outputs": [
    {
     "name": "stdout",
     "output_type": "stream",
     "text": [
      "Executing the command:\n",
      "docker inspect --format=\"{{.ID}}\" sql\n",
      "Docker Id in question:\n",
      "538ebf573fff2b57c9558864f6361bfed89fb8e47104235ca0bb13e15c8469f8\n"
     ]
    }
   ],
   "source": [
    "$command = 'docker inspect --format=\"{{.ID}}\" sql'\n",
    "Write-Output \"Executing the command:\"\n",
    "Write-Output $command\n",
    "$DockerId = Invoke-Expression $command\n",
    "Write-Output 'Docker Id in question:' $DockerId"
   ]
  },
  {
   "cell_type": "code",
   "execution_count": 9,
   "metadata": {
    "dotnet_interactive": {
     "language": "pwsh"
    },
    "polyglot_notebook": {
     "kernelName": "pwsh"
    },
    "vscode": {
     "languageId": "polyglot-notebook"
    }
   },
   "outputs": [
    {
     "name": "stdout",
     "output_type": "stream",
     "text": [
      "Executing the command:\n",
      ".\\terraform -chdir=C:\\Users\\gary\\OneDrive\\Documents\\GitHub\\terraform-101\\WorkingDirectory\\LocalDockerExample init\n",
      "\n",
      "\u001b[0m\u001b[1mInitializing the backend...\u001b[0m\n",
      "\n",
      "\u001b[0m\u001b[1mInitializing provider plugins...\u001b[0m\n",
      "- Reusing previous version of kreuzwerker/docker from the dependency lock file\n",
      "- Using previously-installed kreuzwerker/docker v2.17.0\n",
      "\n",
      "\u001b[0m\u001b[1m\u001b[32mTerraform has been successfully initialized!\u001b[0m\u001b[32m\u001b[0m\n",
      "\u001b[0m\u001b[32m\n",
      "You may now begin working with Terraform. Try running \"terraform plan\" to see\n",
      "any changes that are required for your infrastructure. All Terraform commands\n",
      "should now work.\n",
      "\n",
      "If you ever set or change modules or backend configuration for Terraform,\n",
      "rerun this command to reinitialize your working directory. If you forget, other\n",
      "commands will detect it and remind you to do so if necessary.\u001b[0m\n"
     ]
    }
   ],
   "source": [
    "$command = \".\\terraform -chdir=$WorkingDirectory init\"\n",
    "Write-Output \"Executing the command:\"\n",
    "Write-Output $command\n",
    "Invoke-Expression $command"
   ]
  },
  {
   "cell_type": "code",
   "execution_count": null,
   "metadata": {
    "dotnet_interactive": {
     "language": "pwsh"
    },
    "polyglot_notebook": {
     "kernelName": "pwsh"
    },
    "vscode": {
     "languageId": "polyglot-notebook"
    }
   },
   "outputs": [],
   "source": [
    "$command = \".\\terraform -chdir=$WorkingDirectory import docker_container.arbitrarylabel $DockerId\"\n",
    "Write-Output \"Executing the command:\"\n",
    "Write-Output $command\n",
    "Invoke-Expression $command"
   ]
  },
  {
   "cell_type": "code",
   "execution_count": 11,
   "metadata": {
    "dotnet_interactive": {
     "language": "pwsh"
    },
    "polyglot_notebook": {
     "kernelName": "pwsh"
    },
    "vscode": {
     "languageId": "polyglot-notebook"
    }
   },
   "outputs": [
    {
     "name": "stdout",
     "output_type": "stream",
     "text": [
      "Executing the command:\n",
      ".\\terraform -chdir=C:\\Users\\gary\\OneDrive\\Documents\\GitHub\\terraform-101\\WorkingDirectory\\LocalDockerExample show\n",
      "# docker_container.arbitrarylabel:\n",
      "resource \"docker_container\" \"arbitrarylabel\" {\n",
      "    command           = [\n",
      "        \"/opt/mssql/bin/sqlservr\",\n",
      "    ]\n",
      "    cpu_shares        = 0\n",
      "    dns               = []\n",
      "    dns_opts          = []\n",
      "    dns_search        = []\n",
      "    entrypoint        = [\n",
      "        \"/opt/mssql/bin/permissions_check.sh\",\n",
      "    ]\n",
      "    exit_code         = 137\n",
      "    group_add         = []\n",
      "    hostname          = \"538ebf573fff\"\n",
      "    id                = \"538ebf573fff2b57c9558864f6361bfed89fb8e47104235ca0bb13e15c8469f8\"\n",
      "    image             = \"sha256:880c02b9631c5813e3e5d0ed8cb0aaca6db059311d41d199dd0409b7850410ef\"\n",
      "    init              = false\n",
      "    ip_prefix_length  = 0\n",
      "    ipc_mode          = \"private\"\n",
      "    links             = []\n",
      "    log_driver        = \"json-file\"\n",
      "    log_opts          = {}\n",
      "    max_retry_count   = 0\n",
      "    memory            = 0\n",
      "    memory_swap       = 0\n",
      "    name              = \"sql\"\n",
      "    network_data      = [\n",
      "        {\n",
      "            gateway                   = \"\"\n",
      "            global_ipv6_address       = \"\"\n",
      "            global_ipv6_prefix_length = 0\n",
      "            ip_address                = \"\"\n",
      "            ip_prefix_length          = 0\n",
      "            ipv6_gateway              = \"\"\n",
      "            network_name              = \"bridge\"\n",
      "        },\n",
      "    ]\n",
      "    network_mode      = \"default\"\n",
      "    privileged        = false\n",
      "    publish_all_ports = false\n",
      "    read_only         = false\n",
      "    restart           = \"no\"\n",
      "    rm                = false\n",
      "    security_opts     = []\n",
      "    shm_size          = 64\n",
      "    stdin_open        = false\n",
      "    storage_opts      = {}\n",
      "    sysctls           = {}\n",
      "    tmpfs             = {}\n",
      "    tty               = false\n",
      "    user              = \"mssql\"\n",
      "}\n"
     ]
    }
   ],
   "source": [
    "$command = \".\\terraform -chdir=$WorkingDirectory show\"\n",
    "Write-Output \"Executing the command:\"\n",
    "Write-Output $command\n",
    "Invoke-Expression $command"
   ]
  },
  {
   "cell_type": "code",
   "execution_count": 14,
   "metadata": {
    "dotnet_interactive": {
     "language": "pwsh"
    },
    "polyglot_notebook": {
     "kernelName": "pwsh"
    },
    "vscode": {
     "languageId": "polyglot-notebook"
    }
   },
   "outputs": [
    {
     "name": "stdout",
     "output_type": "stream",
     "text": [
      "Executing the command:\n",
      ".\\terraform -chdir=C:\\Users\\gary\\OneDrive\\Documents\\GitHub\\terraform-101\\WorkingDirectory\\LocalDockerExample plan\n",
      "****** Errors are Expected ******\n",
      "\u001b[31;1m\u001b[31m╷\u001b[0m\u001b[0m\u001b[0m\n",
      "\u001b[31;1m\u001b[31m│\u001b[0m \u001b[0m\u001b[1m\u001b[31mError: \u001b[0m\u001b[0m\u001b[1mMissing required argument\u001b[0m\u001b[0m\n",
      "\u001b[31;1m\u001b[31m│\u001b[0m \u001b[0m\u001b[0m\n",
      "\u001b[31;1m\u001b[31m│\u001b[0m \u001b[0m\u001b[0m  on LocalDockerExample.tf line 13, in resource \"docker_container\" \"arbitrarylabel\":\u001b[0m\n",
      "\u001b[31;1m\u001b[31m│\u001b[0m \u001b[0m  13: resource \"docker_container\" \"arbitrarylabel\" \u001b[4m{\u001b[0m\u001b[0m\u001b[0m\n",
      "\u001b[31;1m\u001b[31m│\u001b[0m \u001b[0m\u001b[0m\n",
      "\u001b[31;1m\u001b[31m│\u001b[0m \u001b[0mThe argument \"image\" is required, but no definition was found.\u001b[0m\n",
      "\u001b[31;1m\u001b[31m╵\u001b[0m\u001b[0m\u001b[0m\n",
      "\u001b[31;1m\u001b[31m╷\u001b[0m\u001b[0m\u001b[0m\n",
      "\u001b[31;1m\u001b[31m│\u001b[0m \u001b[0m\u001b[1m\u001b[31mError: \u001b[0m\u001b[0m\u001b[1mMissing required argument\u001b[0m\u001b[0m\n",
      "\u001b[31;1m\u001b[31m│\u001b[0m \u001b[0m\u001b[0m\n",
      "\u001b[31;1m\u001b[31m│\u001b[0m \u001b[0m\u001b[0m  on LocalDockerExample.tf line 13, in resource \"docker_container\" \"arbitrarylabel\":\u001b[0m\n",
      "\u001b[31;1m\u001b[31m│\u001b[0m \u001b[0m  13: resource \"docker_container\" \"arbitrarylabel\" \u001b[4m{\u001b[0m\u001b[0m\u001b[0m\n",
      "\u001b[31;1m\u001b[31m│\u001b[0m \u001b[0m\u001b[0m\n",
      "\u001b[31;1m\u001b[31m│\u001b[0m \u001b[0mThe argument \"name\" is required, but no definition was found.\u001b[0m\n",
      "\u001b[31;1m\u001b[31m╵\u001b[0m\u001b[0m\u001b[0m\n"
     ]
    }
   ],
   "source": [
    "$command = \".\\terraform -chdir=$WorkingDirectory plan\"\n",
    "Write-Output \"Executing the command:\"\n",
    "Write-Output $command\n",
    "Write-Output \"****** Errors are Expected ******\"\n",
    "Invoke-Expression $command"
   ]
  },
  {
   "cell_type": "code",
   "execution_count": 15,
   "metadata": {
    "dotnet_interactive": {
     "language": "pwsh"
    },
    "polyglot_notebook": {
     "kernelName": "pwsh"
    },
    "vscode": {
     "languageId": "polyglot-notebook"
    }
   },
   "outputs": [
    {
     "name": "stdout",
     "output_type": "stream",
     "text": [
      "Executing the command:\n",
      ".\\terraform -chdir=C:\\Users\\gary\\OneDrive\\Documents\\GitHub\\terraform-101\\WorkingDirectory\\LocalDockerExample show -no-color > C:\\Users\\gary\\OneDrive\\Documents\\GitHub\\terraform-101\\WorkingDirectory\\LocalDockerExample\\LocalDockerExample.tf\n",
      "****** Errors are Expected ******\n"
     ]
    }
   ],
   "source": [
    "$command = \".\\terraform -chdir=$WorkingDirectory show -no-color > $WorkingDirectory\\LocalDockerExample.tf\"\n",
    "Write-Output \"Executing the command:\"\n",
    "Write-Output $command\n",
    "Invoke-Expression $command"
   ]
  },
  {
   "cell_type": "code",
   "execution_count": 24,
   "metadata": {
    "dotnet_interactive": {
     "language": "pwsh"
    },
    "polyglot_notebook": {
     "kernelName": "pwsh"
    },
    "vscode": {
     "languageId": "polyglot-notebook"
    }
   },
   "outputs": [
    {
     "name": "stdout",
     "output_type": "stream",
     "text": [
      "terraform {\r\n",
      "    required_providers {\r\n",
      "        docker = {\r\n",
      "            source  = \"kreuzwerker/docker\"\r\n",
      "            version = \"~> 2.17.0\"\r\n",
      "        }\r\n",
      "    }\r\n",
      "}\r\n",
      "provider \"docker\" {\r\n",
      "  #host = \"unix:///var/run/docker.sock\"\r\n",
      "  host    = \"npipe:////.//pipe//docker_engine\"\r\n",
      "}terraform {     required_providers {         docker = {             source  = \"kreuzwerker/docker\"             version = \"~> 2.17.0\"         }     } } provider \"docker\" {   #host = \"unix:///var/run/docker.sock\"   host    = \"npipe:////.//pipe//docker_engine\" } # docker_container.arbitrarylabel: resource \"docker_container\" \"arbitrarylabel\" {     command           = [         \"/opt/mssql/bin/sqlservr\",     ]     cpu_shares        = 0     dns               = []     dns_opts          = []     dns_search        = []     entrypoint        = [         \"/opt/mssql/bin/permissions_check.sh\",     ]     exit_code         = 137     group_add         = []     hostname          = \"538ebf573fff\"     id                = \"538ebf573fff2b57c9558864f6361bfed89fb8e47104235ca0bb13e15c8469f8\"     image             = \"sha256:880c02b9631c5813e3e5d0ed8cb0aaca6db059311d41d199dd0409b7850410ef\"     init              = false     ip_prefix_length  = 0     ipc_mode          = \"private\"     links             = []     log_driver        = \"json-file\"     log_opts          = {}     max_retry_count   = 0     memory            = 0     memory_swap       = 0     name              = \"sql\"     network_data      = [         {             gateway                   = \"\"             global_ipv6_address       = \"\"             global_ipv6_prefix_length = 0             ip_address                = \"\"             ip_prefix_length          = 0             ipv6_gateway              = \"\"             network_name              = \"bridge\"         },     ]     network_mode      = \"default\"     privileged        = false     publish_all_ports = false     read_only         = false     restart           = \"no\"     rm                = false     security_opts     = []     shm_size          = 64     stdin_open        = false     storage_opts      = {}     sysctls           = {}     tmpfs             = {}     tty               = false     user              = \"mssql\" }\r\n"
     ]
    }
   ],
   "source": [
    "\n",
    "@'\n",
    "terraform {\n",
    "    required_providers {\n",
    "        docker = {\n",
    "            source  = \"kreuzwerker/docker\"\n",
    "            version = \"~> 2.17.0\"\n",
    "        }\n",
    "    }\n",
    "}\n",
    "provider \"docker\" {\n",
    "  #host = \"unix:///var/run/docker.sock\"\n",
    "  host    = \"npipe:////.//pipe//docker_engine\"\n",
    "}\n",
    "'@ + (Get-Content \"$WorkingDirectory\\LocalDockerExample.tf\") | Set-Content \"$WorkingDirectory\\LocalDockerExample.tf\""
   ]
  },
  {
   "cell_type": "code",
   "execution_count": 19,
   "metadata": {
    "dotnet_interactive": {
     "language": "pwsh"
    },
    "polyglot_notebook": {
     "kernelName": "pwsh"
    },
    "vscode": {
     "languageId": "polyglot-notebook"
    }
   },
   "outputs": [
    {
     "name": "stdout",
     "output_type": "stream",
     "text": [
      "Executing the command:\n",
      ".\\terraform -chdir=C:\\Users\\gary\\OneDrive\\Documents\\GitHub\\terraform-101\\WorkingDirectory\\LocalDockerExample init -upgrade\n",
      "****** Errors are Expected ******\n",
      "\n",
      "\u001b[0m\u001b[1mInitializing the backend...\u001b[0m\n",
      "\n",
      "\u001b[0m\u001b[1mInitializing provider plugins...\u001b[0m\n",
      "- Finding kreuzwerker/docker versions matching \"~> 2.17.0\"...\n",
      "- Using previously-installed kreuzwerker/docker v2.17.0\n",
      "\n",
      "\u001b[0m\u001b[1m\u001b[32mTerraform has been successfully initialized!\u001b[0m\u001b[32m\u001b[0m\n",
      "\u001b[0m\u001b[32m\n",
      "You may now begin working with Terraform. Try running \"terraform plan\" to see\n",
      "any changes that are required for your infrastructure. All Terraform commands\n",
      "should now work.\n",
      "\n",
      "If you ever set or change modules or backend configuration for Terraform,\n",
      "rerun this command to reinitialize your working directory. If you forget, other\n",
      "commands will detect it and remind you to do so if necessary.\u001b[0m\n"
     ]
    }
   ],
   "source": [
    "$command = \".\\terraform -chdir=$WorkingDirectory init -upgrade\"\n",
    "Write-Output \"Executing the command:\"\n",
    "Write-Output $command\n",
    "Write-Output \"****** Errors are Expected ******\"\n",
    "Invoke-Expression $command"
   ]
  },
  {
   "cell_type": "code",
   "execution_count": 30,
   "metadata": {
    "dotnet_interactive": {
     "language": "pwsh"
    },
    "polyglot_notebook": {
     "kernelName": "pwsh"
    },
    "vscode": {
     "languageId": "polyglot-notebook"
    }
   },
   "outputs": [
    {
     "name": "stdout",
     "output_type": "stream",
     "text": [
      "Executing the command:\n",
      ".\\terraform -chdir=C:\\Users\\gary\\OneDrive\\Documents\\GitHub\\terraform-101\\WorkingDirectory\\LocalDockerExample plan\n",
      "****** Errors are NOT Expected ******\n",
      "\u001b[33m╷\u001b[0m\u001b[0m\n",
      "\u001b[33m│\u001b[0m \u001b[0m\u001b[1m\u001b[33mWarning: \u001b[0m\u001b[0m\u001b[1mArgument is deprecated\u001b[0m\n",
      "\u001b[33m│\u001b[0m \u001b[0m\n",
      "\u001b[33m│\u001b[0m \u001b[0m\u001b[0m  with docker_container.arbitrarylabel,\n",
      "\u001b[33m│\u001b[0m \u001b[0m  on LocalDockerExample.tf line 33, in resource \"docker_container\" \"arbitrarylabel\":\n",
      "\u001b[33m│\u001b[0m \u001b[0m  33:     links             = \u001b[4m[]\u001b[0m\u001b[0m\n",
      "\u001b[33m│\u001b[0m \u001b[0m\n",
      "\u001b[33m│\u001b[0m \u001b[0mThe --link flag is a legacy feature of Docker. It may eventually be\n",
      "\u001b[33m│\u001b[0m \u001b[0mremoved.\n",
      "\u001b[33m╵\u001b[0m\u001b[0m\n",
      "\u001b[31;1m\u001b[31m╷\u001b[0m\u001b[0m\u001b[0m\n",
      "\u001b[31;1m\u001b[31m│\u001b[0m \u001b[0m\u001b[1m\u001b[31mError: \u001b[0m\u001b[0m\u001b[1mInvalid or unknown key\u001b[0m\u001b[0m\n",
      "\u001b[31;1m\u001b[31m│\u001b[0m \u001b[0m\u001b[0m\n",
      "\u001b[31;1m\u001b[31m│\u001b[0m \u001b[0m\u001b[0m  with docker_container.arbitrarylabel,\u001b[0m\n",
      "\u001b[31;1m\u001b[31m│\u001b[0m \u001b[0m  on LocalDockerExample.tf line 28, in resource \"docker_container\" \"arbitrarylabel\":\u001b[0m\n",
      "\u001b[31;1m\u001b[31m│\u001b[0m \u001b[0m  28:     id                = \u001b[4m\"538ebf573fff2b57c9558864f6361bfed89fb8e47104235ca0bb13e15c8469f8\"\u001b[0m\u001b[0m\u001b[0m\n",
      "\u001b[31;1m\u001b[31m│\u001b[0m \u001b[0m\u001b[0m\n",
      "\u001b[31;1m\u001b[31m╵\u001b[0m\u001b[0m\u001b[0m\n",
      "\u001b[31;1m\u001b[31m╷\u001b[0m\u001b[0m\u001b[0m\n",
      "\u001b[31;1m\u001b[31m│\u001b[0m \u001b[0m\u001b[1m\u001b[31mError: \u001b[0m\u001b[0m\u001b[1mValue for unconfigurable attribute\u001b[0m\u001b[0m\n",
      "\u001b[31;1m\u001b[31m│\u001b[0m \u001b[0m\u001b[0m\n",
      "\u001b[31;1m\u001b[31m│\u001b[0m \u001b[0m\u001b[0m  with docker_container.arbitrarylabel,\u001b[0m\n",
      "\u001b[31;1m\u001b[31m│\u001b[0m \u001b[0m  on LocalDockerExample.tf line 31, in resource \"docker_container\" \"arbitrarylabel\":\u001b[0m\n",
      "\u001b[31;1m\u001b[31m│\u001b[0m \u001b[0m  31:     ip_prefix_length  = \u001b[4m0\u001b[0m\u001b[0m\u001b[0m\n",
      "\u001b[31;1m\u001b[31m│\u001b[0m \u001b[0m\u001b[0m\n",
      "\u001b[31;1m\u001b[31m│\u001b[0m \u001b[0mCan't configure a value for \"ip_prefix_length\": its value will be decided\u001b[0m\n",
      "\u001b[31;1m\u001b[31m│\u001b[0m \u001b[0mautomatically based on the result of applying this configuration.\u001b[0m\n",
      "\u001b[31;1m\u001b[31m╵\u001b[0m\u001b[0m\u001b[0m\n"
     ]
    }
   ],
   "source": [
    "$command = \".\\terraform -chdir=$WorkingDirectory plan\"\n",
    "Write-Output \"Executing the command:\"\n",
    "Write-Output $command\n",
    "Write-Output \"****** Errors are NOT Expected ******\"\n",
    "Invoke-Expression $command"
   ]
  },
  {
   "cell_type": "code",
   "execution_count": 27,
   "metadata": {
    "dotnet_interactive": {
     "language": "pwsh"
    },
    "polyglot_notebook": {
     "kernelName": "pwsh"
    },
    "vscode": {
     "languageId": "polyglot-notebook"
    }
   },
   "outputs": [],
   "source": [
    "$content = Get-Content -Path \"$WorkingDirectory\\LocalDockerExample.tf\"\n",
    "$content = $content.Replace('# exit_code','exit_code').Replace('exit_code','# exit_code')\n",
    "$content | Set-Content \"$WorkingDirectory\\LocalDockerExample.tf\""
   ]
  },
  {
   "cell_type": "code",
   "execution_count": null,
   "metadata": {
    "dotnet_interactive": {
     "language": "pwsh"
    },
    "polyglot_notebook": {
     "kernelName": "pwsh"
    },
    "vscode": {
     "languageId": "polyglot-notebook"
    }
   },
   "outputs": [],
   "source": [
    "## Full Reset\n",
    "if (!$WorkingDirectory) {exit} # Guard Clause\n",
    "\n",
    "$command = \"rm $WorkingDirectory\\.terraform\"\n",
    "Write-Output \"Executing the command:\"\n",
    "Write-Output $command\n",
    "Write-Output \"****** Errors are NOT Expected ******\"\n",
    "Invoke-Expression $command"
   ]
  }
 ],
 "metadata": {
  "language_info": {
   "name": "python"
  },
  "orig_nbformat": 4
 },
 "nbformat": 4,
 "nbformat_minor": 2
}
