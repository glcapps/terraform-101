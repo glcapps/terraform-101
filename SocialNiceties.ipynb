{
 "cells": [
  {
   "cell_type": "code",
   "execution_count": null,
   "metadata": {
    "dotnet_interactive": {
     "language": "html"
    },
    "polyglot_notebook": {
     "kernelName": "html"
    }
   },
   "outputs": [],
   "source": [
    "<a href='https://marketplace.visualstudio.com/items?itemName=HashiCorp.terraform'>VS Code plugin to syntax highlight for terraform code</a>"
   ]
  },
  {
   "attachments": {},
   "cell_type": "markdown",
   "metadata": {},
   "source": [
    "\n",
    "[VS Code plugin to syntax highlight for terraform code](https://marketplace.visualstudio.com/items?itemName=HashiCorp.terraform)"
   ]
  },
  {
   "cell_type": "code",
   "execution_count": null,
   "metadata": {
    "dotnet_interactive": {
     "language": "pwsh"
    },
    "polyglot_notebook": {
     "kernelName": "pwsh"
    }
   },
   "outputs": [],
   "source": [
    "code --list-extensions\n"
   ]
  },
  {
   "cell_type": "code",
   "execution_count": null,
   "metadata": {
    "dotnet_interactive": {
     "language": "pwsh"
    },
    "polyglot_notebook": {
     "kernelName": "pwsh"
    }
   },
   "outputs": [],
   "source": [
    "code --install-extension ms-dotnettools.dotnet-interactive-vscode"
   ]
  },
  {
   "cell_type": "code",
   "execution_count": null,
   "metadata": {
    "dotnet_interactive": {
     "language": "csharp"
    },
    "polyglot_notebook": {
     "kernelName": "csharp"
    }
   },
   "outputs": [],
   "source": [
    "#!share --from sql-MIDAMDATA trainingdata\n",
    "trainingdata.ToArray().Length"
   ]
  },
  {
   "cell_type": "code",
   "execution_count": null,
   "metadata": {
    "dotnet_interactive": {
     "language": "csharp"
    },
    "polyglot_notebook": {
     "kernelName": "csharp"
    }
   },
   "outputs": [],
   "source": [
    "#r \"nuget: Microsoft.DotNet.Interactive.SqlServer, *-*\""
   ]
  },
  {
   "cell_type": "code",
   "execution_count": null,
   "metadata": {
    "dotnet_interactive": {
     "language": "csharp"
    },
    "polyglot_notebook": {
     "kernelName": "csharp"
    }
   },
   "outputs": [],
   "source": [
    "#!connect mssql --create-dbcontext --kernel-name MIDAMDATA \"Server=localhost,1433;Encrypt=False;Integrated Security=False;User Id=sa;Password=MyPass@word;\""
   ]
  },
  {
   "cell_type": "code",
   "execution_count": null,
   "metadata": {
    "dotnet_interactive": {
     "language": "sql"
    },
    "polyglot_notebook": {
     "kernelName": "sql"
    }
   },
   "outputs": [],
   "source": [
    "#!sql-MIDAMDATA --name trainingdata\n",
    "--this is, I KID YOU NOT, T-sql that runs in the db connected to from above\n",
    "DECLARE @whatnot as int = 1;\n",
    "select @whatnot as [Feature1], *, 'dat' as [Label] from master.sys.databases"
   ]
  },
  {
   "cell_type": "code",
   "execution_count": null,
   "metadata": {
    "dotnet_interactive": {
     "language": "javascript"
    },
    "polyglot_notebook": {
     "kernelName": "javascript"
    }
   },
   "outputs": [],
   "source": [
    "#!share --from sql-MIDAMDATA trainingdata\n",
    "console.log(trainingdata)"
   ]
  },
  {
   "cell_type": "code",
   "execution_count": null,
   "metadata": {
    "dotnet_interactive": {
     "language": "csharp"
    },
    "polyglot_notebook": {
     "kernelName": "csharp"
    }
   },
   "outputs": [],
   "source": [
    "#r \"nuget: RazorInteractive, 1.1.8\"\n",
    "//https://learn.microsoft.com/en-us/aspnet/core/mvc/views/razor?view=aspnetcore-5.0#razor-reserved-keywords\n",
    "//https://plbonneville.com/blog/introducing-the-dotnet-interactive-notebooks-razor-extension/"
   ]
  },
  {
   "cell_type": "code",
   "execution_count": null,
   "metadata": {
    "dotnet_interactive": {
     "language": "csharp"
    },
    "polyglot_notebook": {
     "kernelName": "csharp"
    }
   },
   "outputs": [],
   "source": [
    "#!share --from sql-MIDAMDATA trainingdata\n",
    "trainingdata.ToArray().Length"
   ]
  },
  {
   "cell_type": "code",
   "execution_count": null,
   "metadata": {
    "dotnet_interactive": {
     "language": "csharp"
    },
    "polyglot_notebook": {
     "kernelName": "csharp"
    }
   },
   "outputs": [],
   "source": [
    "#r \"nuget: BlazorInteractive, 1.1.5\""
   ]
  },
  {
   "attachments": {},
   "cell_type": "markdown",
   "metadata": {},
   "source": [
    "[Conversation with GPT about sharing variables across kernels without magic command](https://sharegpt.com/c/lvaYObE)"
   ]
  },
  {
   "cell_type": "code",
   "execution_count": null,
   "metadata": {
    "dotnet_interactive": {
     "language": "csharp"
    },
    "polyglot_notebook": {
     "kernelName": "csharp"
    }
   },
   "outputs": [],
   "source": [
    "#!blazor --name Counter\n",
    "<h1>Display SQL Data</h1>\n",
    "\n",
    "<p>\n",
    "    SQL Sourced Data: @representData\n",
    "</p>\n",
    "\n",
    "<button class=\"btn btn-primary\" @onclick=\"ShowSomething\">Click me</button>\n",
    "\n",
    "@code {\n",
    "  using System.Threading.Tasks;\n",
    "  using Microsoft.DotNet.Interactive;\n",
    "  using Microsoft.DotNet.Interactive.CSharp;\n",
    "  \n",
    "  List<Microsoft.DotNet.Interactive.Formatting.TabularData.TabularDataResource> representData = await ((CSharpKernel)Kernel.Root).GetValueAsync<List<Microsoft.DotNet.Interactive.Formatting.TabularData.TabularDataResource>>(\"trainingdata\");\n",
    "\n",
    "  int newNumber = myNumber * 2;\n",
    "  Console.WriteLine(newNumber);\n",
    "  public str representData = \"n\";\n",
    "\n",
    "  void ShowSomething()\n",
    "  {\n",
    "    representData = \"y\";\n",
    "  }\n",
    "}"
   ]
  }
 ],
 "metadata": {
  "kernelspec": {
   "display_name": ".NET (C#)",
   "language": "C#",
   "name": ".net-csharp"
  },
  "language_info": {
   "name": "polyglot-notebook"
  },
  "polyglot_notebook": {
   "kernelInfo": {
    "defaultKernelName": "csharp",
    "items": [
     {
      "aliases": [],
      "name": "csharp"
     },
     {
      "aliases": [],
      "name": "razor"
     }
    ]
   }
  }
 },
 "nbformat": 4,
 "nbformat_minor": 2
}
