{
 "cells": [
  {
   "cell_type": "code",
   "execution_count": null,
   "metadata": {
    "dotnet_interactive": {
     "language": "html"
    },
    "polyglot_notebook": {
     "kernelName": "html"
    }
   },
   "outputs": [],
   "source": [
    "<a href='https://marketplace.visualstudio.com/items?itemName=HashiCorp.terraform'>VS Code plugin to syntax highlight for terraform code</a>"
   ]
  },
  {
   "attachments": {},
   "cell_type": "markdown",
   "metadata": {},
   "source": [
    "\n",
    "[VS Code plugin to syntax highlight for terraform code](https://marketplace.visualstudio.com/items?itemName=HashiCorp.terraform)"
   ]
  },
  {
   "cell_type": "code",
   "execution_count": null,
   "metadata": {
    "dotnet_interactive": {
     "language": "pwsh"
    },
    "polyglot_notebook": {
     "kernelName": "pwsh"
    }
   },
   "outputs": [],
   "source": [
    "code --list-extensions\n"
   ]
  },
  {
   "cell_type": "code",
   "execution_count": null,
   "metadata": {
    "dotnet_interactive": {
     "language": "pwsh"
    },
    "polyglot_notebook": {
     "kernelName": "pwsh"
    }
   },
   "outputs": [],
   "source": [
    "code --install-extension ms-dotnettools.dotnet-interactive-vscode"
   ]
  },
  {
   "cell_type": "code",
   "execution_count": null,
   "metadata": {
    "dotnet_interactive": {
     "language": "pwsh"
    },
    "polyglot_notebook": {
     "kernelName": "pwsh"
    }
   },
   "outputs": [],
   "source": [
    "start \"C:\\Program Files\\Docker\\Docker\\docker desktop.exe\"\n",
    "docker ps\n"
   ]
  },
  {
   "cell_type": "code",
   "execution_count": null,
   "metadata": {
    "dotnet_interactive": {
     "language": "pwsh"
    },
    "polyglot_notebook": {
     "kernelName": "pwsh"
    }
   },
   "outputs": [],
   "source": [
    "docker pull mcr.microsoft.com/mssql/server:latest"
   ]
  },
  {
   "cell_type": "code",
   "execution_count": null,
   "metadata": {
    "dotnet_interactive": {
     "language": "pwsh"
    },
    "polyglot_notebook": {
     "kernelName": "pwsh"
    }
   },
   "outputs": [
    {
     "name": "stdout",
     "output_type": "stream",
     "text": [
      "\u001b[31;1mError: No such container: sql\u001b[0m\n",
      "\u001b[31;1mUnable to find image 'mcr.microsoft.com/mssql/server:latest' locally\u001b[0m\n",
      "\u001b[31;1mlatest: Pulling from mssql/server\u001b[0m\n",
      "\u001b[31;1mbae6b34fa7a8: Pulling fs layer\u001b[0m\n",
      "\u001b[31;1m0cb520c39ba5: Pulling fs layer\u001b[0m\n",
      "\u001b[31;1m3b1673483533: Pulling fs layer\u001b[0m\n",
      "\u001b[31;1mbae6b34fa7a8: Verifying Checksum\u001b[0m\n",
      "\u001b[31;1mbae6b34fa7a8: Download complete\u001b[0m\n",
      "\u001b[31;1mbae6b34fa7a8: Pull complete\u001b[0m\n"
     ]
    }
   ],
   "source": [
    "docker rm -f sql\n",
    "docker run -e \"ACCEPT_EULA=Y\" -e \"SA_PASSWORD=MyPass@word\" -e \"MSSQL_PID=Express\" -p 1433:1433 -d --name=sql mcr.microsoft.com/mssql/server:latest\n"
   ]
  },
  {
   "cell_type": "code",
   "execution_count": null,
   "metadata": {
    "dotnet_interactive": {
     "language": "csharp"
    },
    "polyglot_notebook": {
     "kernelName": "csharp"
    }
   },
   "outputs": [],
   "source": [
    "#r \"nuget: Microsoft.DotNet.Interactive.SqlServer, *-*\""
   ]
  },
  {
   "cell_type": "code",
   "execution_count": null,
   "metadata": {
    "dotnet_interactive": {
     "language": "csharp"
    },
    "polyglot_notebook": {
     "kernelName": "csharp"
    }
   },
   "outputs": [],
   "source": [
    "#!connect mssql --create-dbcontext --kernel-name MYDATA \"Server=localhost,1433;Encrypt=False;Integrated Security=False;User Id=sa;Password=MyPass@word;\""
   ]
  },
  {
   "cell_type": "code",
   "execution_count": null,
   "metadata": {
    "dotnet_interactive": {
     "language": "sql"
    },
    "polyglot_notebook": {
     "kernelName": "sql"
    }
   },
   "outputs": [],
   "source": [
    "#!sql-MYDATA --name trainingdata\n",
    "\n",
    "--this is, I KID YOU NOT, T-sql that runs in the db connected to from above\n",
    "DECLARE @whatnot as int = 1;\n",
    "select @whatnot as [Feature1], *, 'dat' as [Label] from master.sys.databases"
   ]
  },
  {
   "cell_type": "code",
   "execution_count": null,
   "metadata": {
    "dotnet_interactive": {
     "language": "csharp"
    },
    "polyglot_notebook": {
     "kernelName": "csharp"
    }
   },
   "outputs": [],
   "source": [
    "#!share --from sql-MYDATA trainingdata\n",
    "trainingdata.ToArray().Length"
   ]
  },
  {
   "cell_type": "code",
   "execution_count": null,
   "metadata": {
    "dotnet_interactive": {
     "language": "javascript"
    },
    "polyglot_notebook": {
     "kernelName": "javascript"
    }
   },
   "outputs": [],
   "source": [
    "#!share --from sql-MYDATA trainingdata\n",
    "console.log(trainingdata)"
   ]
  },
  {
   "cell_type": "code",
   "execution_count": null,
   "metadata": {
    "dotnet_interactive": {
     "language": "csharp"
    },
    "polyglot_notebook": {
     "kernelName": "csharp"
    }
   },
   "outputs": [],
   "source": [
    "#!share --from sql-MYDATA trainingdata\n",
    "trainingdata.ToArray().Length"
   ]
  },
  {
   "attachments": {},
   "cell_type": "markdown",
   "metadata": {},
   "source": [
    "---\n",
    "### We can add kernels to the kernel workspace with a nuget package reference\n",
    "- [Razor Keyword Reference](https://learn.microsoft.com/en-us/aspnet/core/mvc/views/razor?view=aspnetcore-5.0#razor-reserved-keywords)\n",
    "- [Razor Interactive Extension](https://plbonneville.com/blog/introducing-the-dotnet-interactive-notebooks-razor-extension/)"
   ]
  },
  {
   "cell_type": "code",
   "execution_count": null,
   "metadata": {
    "dotnet_interactive": {
     "language": "csharp"
    },
    "polyglot_notebook": {
     "kernelName": "csharp"
    }
   },
   "outputs": [],
   "source": [
    "#r \"nuget: RazorInteractive, 1.1.8\""
   ]
  },
  {
   "cell_type": "code",
   "execution_count": null,
   "metadata": {
    "dotnet_interactive": {
     "language": "csharp"
    },
    "polyglot_notebook": {
     "kernelName": "csharp"
    }
   },
   "outputs": [],
   "source": [
    "// Keep an eye on development of #r \"nuget: BlazorInteractive, 1.1.5\""
   ]
  },
  {
   "attachments": {},
   "cell_type": "markdown",
   "metadata": {},
   "source": [
    "---\n",
    "### We might find a Kernel that doesn't use the !Share magic command\n",
    "[Conversation with GPT about sharing variables across kernels without magic command](https://sharegpt.com/c/lvaYObE)"
   ]
  },
  {
   "cell_type": "code",
   "execution_count": null,
   "metadata": {
    "dotnet_interactive": {
     "language": "csharp"
    },
    "polyglot_notebook": {
     "kernelName": "csharp"
    }
   },
   "outputs": [],
   "source": [
    "#!razor\n",
    "@using System.Text.Json;\n",
    "@using Microsoft.DotNet.Interactive.Formatting.TabularData;\n",
    "@{\n",
    "    var text = JsonSerializer.Serialize(Model.trainingdata, TabularDataResourceFormatter.JsonSerializerOptions);\n",
    "\n",
    "    // var deserialized = JsonSerializer.Deserialize<TabularDataResource>(text, TabularDataResourceFormatter.JsonSerializerOptions);\n",
    "}\n",
    "<p>Hello, the number of rows in the data is <b>@Model.trainingdata.ToArray().Length</b></p>\n",
    "\n",
    "<ol>\n",
    "@foreach(var item in Model.trainingdata)\n",
    "{\n",
    "    <li>@text</li>\n",
    "}\n",
    "</ol>"
   ]
  }
 ],
 "metadata": {
  "kernelspec": {
   "display_name": ".NET (C#)",
   "language": "C#",
   "name": ".net-csharp"
  },
  "language_info": {
   "name": "polyglot-notebook"
  },
  "polyglot_notebook": {
   "kernelInfo": {
    "defaultKernelName": "csharp",
    "items": [
     {
      "aliases": [],
      "name": "csharp"
     },
     {
      "aliases": [],
      "name": "razor"
     },
     {
      "aliases": [],
      "languageName": "T-SQL",
      "name": "sql-MIDAMDATA"
     }
    ]
   }
  }
 },
 "nbformat": 4,
 "nbformat_minor": 2
}
