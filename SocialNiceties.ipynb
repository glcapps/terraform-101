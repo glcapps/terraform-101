{
 "cells": [
  {
   "cell_type": "code",
   "execution_count": 17,
   "metadata": {
    "dotnet_interactive": {
     "language": "html"
    },
    "polyglot_notebook": {
     "kernelName": "html"
    }
   },
   "outputs": [
    {
     "data": {
      "text/html": [
       "<a href='https://marketplace.visualstudio.com/items?itemName=HashiCorp.terraform'>VS Code plugin to syntax highlight for terraform code</a>"
      ]
     },
     "metadata": {},
     "output_type": "display_data"
    }
   ],
   "source": [
    "<a href='https://marketplace.visualstudio.com/items?itemName=HashiCorp.terraform'>VS Code plugin to syntax highlight for terraform code</a>"
   ]
  },
  {
   "attachments": {},
   "cell_type": "markdown",
   "metadata": {},
   "source": [
    "\n",
    "[VS Code plugin to syntax highlight for terraform code](https://marketplace.visualstudio.com/items?itemName=HashiCorp.terraform)"
   ]
  },
  {
   "cell_type": "code",
   "execution_count": null,
   "metadata": {
    "dotnet_interactive": {
     "language": "pwsh"
    },
    "polyglot_notebook": {
     "kernelName": "pwsh"
    }
   },
   "outputs": [],
   "source": [
    "code --list-extensions\n"
   ]
  },
  {
   "cell_type": "code",
   "execution_count": null,
   "metadata": {
    "dotnet_interactive": {
     "language": "pwsh"
    },
    "polyglot_notebook": {
     "kernelName": "pwsh"
    }
   },
   "outputs": [],
   "source": [
    "code --install-extension ms-dotnettools.dotnet-interactive-vscode"
   ]
  },
  {
   "cell_type": "code",
   "execution_count": 7,
   "metadata": {
    "dotnet_interactive": {
     "language": "csharp"
    },
    "polyglot_notebook": {
     "kernelName": "csharp"
    }
   },
   "outputs": [
    {
     "data": {
      "text/html": [
       "<div class=\"dni-plaintext\"><pre>1</pre></div><style>\r\n",
       ".dni-code-hint {\r\n",
       "    font-style: italic;\r\n",
       "    overflow: hidden;\r\n",
       "    white-space: nowrap;\r\n",
       "}\r\n",
       ".dni-treeview {\r\n",
       "    white-space: nowrap;\r\n",
       "}\r\n",
       ".dni-treeview td {\r\n",
       "    vertical-align: top;\r\n",
       "    text-align: start;\r\n",
       "}\r\n",
       "details.dni-treeview {\r\n",
       "    padding-left: 1em;\r\n",
       "}\r\n",
       "table td {\r\n",
       "    text-align: start;\r\n",
       "}\r\n",
       "table tr { \r\n",
       "    vertical-align: top; \r\n",
       "    margin: 0em 0px;\r\n",
       "}\r\n",
       "table tr td pre \r\n",
       "{ \r\n",
       "    vertical-align: top !important; \r\n",
       "    margin: 0em 0px !important;\r\n",
       "} \r\n",
       "table th {\r\n",
       "    text-align: start;\r\n",
       "}\r\n",
       "</style>"
      ]
     },
     "metadata": {},
     "output_type": "display_data"
    }
   ],
   "source": [
    "#!share --from sql-MIDAMDATA trainingdata\n",
    "trainingdata.ToArray().Length"
   ]
  },
  {
   "cell_type": "code",
   "execution_count": 1,
   "metadata": {
    "dotnet_interactive": {
     "language": "csharp"
    },
    "polyglot_notebook": {
     "kernelName": "csharp"
    }
   },
   "outputs": [
    {
     "data": {
      "text/html": [
       "<div><div></div><div></div><div><strong>Installed Packages</strong><ul><li><span>Microsoft.DotNet.Interactive.SqlServer, 1.0.0-beta.23165.2</span></li></ul></div></div>"
      ]
     },
     "metadata": {},
     "output_type": "display_data"
    },
    {
     "data": {
      "text/plain": [
       "Loading extensions from `C:\\Users\\gary\\.nuget\\packages\\microsoft.dotnet.interactive.sqlserver\\1.0.0-beta.23165.2\\interactive-extensions\\dotnet\\Microsoft.DotNet.Interactive.SqlServer.dll`"
      ]
     },
     "metadata": {},
     "output_type": "display_data"
    },
    {
     "data": {
      "text/html": [
       "<details><summary>Query Microsoft SQL Server databases.</summary>\r\n",
       "<p>This extension adds support for connecting to Microsoft SQL Server databases using the <code>#!connect mssql</code> magic command. For more information, run a cell using the <code>#!sql</code> magic command.</p>\r\n",
       "</details>"
      ]
     },
     "metadata": {},
     "output_type": "display_data"
    }
   ],
   "source": [
    "#r \"nuget: Microsoft.DotNet.Interactive.SqlServer, *-*\""
   ]
  },
  {
   "cell_type": "code",
   "execution_count": 2,
   "metadata": {
    "dotnet_interactive": {
     "language": "csharp"
    },
    "polyglot_notebook": {
     "kernelName": "csharp"
    }
   },
   "outputs": [
    {
     "data": {
      "text/markdown": [
       "Scaffolding a `DbContext` and initializing an instance of it called `MIDAMDATA` in the C# kernel."
      ]
     },
     "metadata": {},
     "output_type": "display_data"
    },
    {
     "data": {
      "text/html": [
       "<div><div></div><div></div><div><strong>Installed Packages</strong><ul><li><span>Humanizer, 2.14.1</span></li><li><span>humanizer.core, 2.14.1</span></li><li><span>Microsoft.EntityFrameworkCore.Design, 7.0.0</span></li><li><span>microsoft.entityframeworkcore.sqlserver, 7.0.0</span></li><li><span>microsoft.identity.client, 4.48.1</span></li></ul></div></div>"
      ]
     },
     "metadata": {},
     "output_type": "display_data"
    },
    {
     "data": {
      "text/plain": [
       "Kernel added: #!sql-MIDAMDATA"
      ]
     },
     "metadata": {},
     "output_type": "display_data"
    }
   ],
   "source": [
    "#!connect mssql --create-dbcontext --kernel-name MIDAMDATA \"Server=localhost,1433;Encrypt=False;Integrated Security=False;User Id=sa;Password=MyPass@word;\""
   ]
  },
  {
   "cell_type": "code",
   "execution_count": 5,
   "metadata": {
    "dotnet_interactive": {
     "language": "sql"
    },
    "polyglot_notebook": {
     "kernelName": "sql"
    }
   },
   "outputs": [
    {
     "data": {
      "text/plain": [
       "(4 rows affected)"
      ]
     },
     "metadata": {},
     "output_type": "display_data"
    },
    {
     "data": {
      "text/csv": [
       "Feature1,name,database_id,source_database_id,owner_sid,create_date,compatibility_level,collation_name,user_access,user_access_desc,is_read_only,is_auto_close_on,is_auto_shrink_on,state,state_desc,is_in_standby,is_cleanly_shutdown,is_supplemental_logging_enabled,snapshot_isolation_state,snapshot_isolation_state_desc,is_read_committed_snapshot_on,recovery_model,recovery_model_desc,page_verify_option,page_verify_option_desc,is_auto_create_stats_on,is_auto_create_stats_incremental_on,is_auto_update_stats_on,is_auto_update_stats_async_on,is_ansi_null_default_on,is_ansi_nulls_on,is_ansi_padding_on,is_ansi_warnings_on,is_arithabort_on,is_concat_null_yields_null_on,is_numeric_roundabort_on,is_quoted_identifier_on,is_recursive_triggers_on,is_cursor_close_on_commit_on,is_local_cursor_default,is_fulltext_enabled,is_trustworthy_on,is_db_chaining_on,is_parameterization_forced,is_master_key_encrypted_by_server,is_query_store_on,is_published,is_subscribed,is_merge_published,is_distributor,is_sync_with_backup,service_broker_guid,is_broker_enabled,log_reuse_wait,log_reuse_wait_desc,is_date_correlation_on,is_cdc_enabled,is_encrypted,is_honor_broker_priority_on,replica_id,group_database_id,resource_pool_id,default_language_lcid,default_language_name,default_fulltext_language_lcid,default_fulltext_language_name,is_nested_triggers_on,is_transform_noise_words_on,two_digit_year_cutoff,containment,containment_desc,target_recovery_time_in_seconds,delayed_durability,delayed_durability_desc,is_memory_optimized_elevate_to_snapshot_on,is_federation_member,is_remote_data_archive_enabled,is_mixed_page_allocation_on,is_temporal_history_retention_enabled,catalog_collation_type,catalog_collation_type_desc,physical_database_name,is_result_set_caching_on,is_accelerated_database_recovery_on,is_tempdb_spill_to_remote_store,is_stale_page_detection_on,is_memory_optimized_enabled,is_data_retention_enabled,is_ledger_on,is_change_feed_enabled,Label\r\n",
       "1,master,1,,,2003-04-08T09:13:36.3900000,160,SQL_Latin1_General_CP1_CI_AS,0,MULTI_USER,False,False,False,0,ONLINE,False,False,False,1,ON,False,3,SIMPLE,2,CHECKSUM,True,False,True,False,False,False,False,False,False,False,False,False,False,False,False,False,False,True,False,False,False,False,False,False,False,False,00000000-0000-0000-0000-000000000000,False,0,NOTHING,False,False,False,False,,,,,,,,,,,0,NONE,0,0,DISABLED,False,False,False,True,True,0,DATABASE_DEFAULT,master,False,False,False,False,True,False,False,False,dat\r\n",
       "1,tempdb,2,,,2023-03-29T13:49:13.9400000,160,SQL_Latin1_General_CP1_CI_AS,0,MULTI_USER,False,False,False,0,ONLINE,False,False,False,0,OFF,False,3,SIMPLE,2,CHECKSUM,True,False,True,False,False,False,False,False,False,False,False,False,False,False,False,False,False,True,False,False,False,False,False,False,False,False,0e7fa998-68e7-4c88-8637-96d75972d644,True,0,NOTHING,False,False,False,False,,,,,,,,,,,0,NONE,60,0,DISABLED,False,False,False,False,True,0,DATABASE_DEFAULT,tempdb,False,False,False,False,True,False,False,False,dat\r\n",
       "1,model,3,,,2003-04-08T09:13:36.3900000,160,SQL_Latin1_General_CP1_CI_AS,0,MULTI_USER,False,False,False,0,ONLINE,False,False,False,0,OFF,False,1,FULL,2,CHECKSUM,True,False,True,False,False,False,False,False,False,False,False,False,False,False,False,False,False,False,False,False,True,False,False,False,False,False,00000000-0000-0000-0000-000000000000,False,0,NOTHING,False,False,False,False,,,,,,,,,,,0,NONE,60,0,DISABLED,False,False,False,True,True,0,DATABASE_DEFAULT,model,False,False,False,False,True,False,False,False,dat\r\n",
       "1,msdb,4,,,2023-02-27T16:18:05.5370000,160,SQL_Latin1_General_CP1_CI_AS,0,MULTI_USER,False,False,False,0,ONLINE,False,False,False,1,ON,False,3,SIMPLE,2,CHECKSUM,True,False,True,False,False,False,False,False,False,False,False,False,False,False,False,True,True,True,False,False,False,False,False,False,False,False,c4443c83-fde7-423c-b8cd-56460261170d,True,13,OLDEST_PAGE,False,False,False,False,,,,,,,,,,,0,NONE,60,0,DISABLED,False,False,False,True,True,0,DATABASE_DEFAULT,msdb,False,False,False,False,True,False,False,False,dat\r\n"
      ],
      "text/html": [
       "<table><thead><tr><td><span>Feature1</span></td><td><span>name</span></td><td><span>database_id</span></td><td><span>source_database_id</span></td><td><span>owner_sid</span></td><td><span>create_date</span></td><td><span>compatibility_level</span></td><td><span>collation_name</span></td><td><span>user_access</span></td><td><span>user_access_desc</span></td><td><span>is_read_only</span></td><td><span>is_auto_close_on</span></td><td><span>is_auto_shrink_on</span></td><td><span>state</span></td><td><span>state_desc</span></td><td><span>is_in_standby</span></td><td><span>is_cleanly_shutdown</span></td><td><span>is_supplemental_logging_enabled</span></td><td><span>snapshot_isolation_state</span></td><td><span>snapshot_isolation_state_desc</span></td><td><span>is_read_committed_snapshot_on</span></td><td><span>recovery_model</span></td><td><span>recovery_model_desc</span></td><td><span>page_verify_option</span></td><td><span>page_verify_option_desc</span></td><td><span>is_auto_create_stats_on</span></td><td><span>is_auto_create_stats_incremental_on</span></td><td><span>is_auto_update_stats_on</span></td><td><span>is_auto_update_stats_async_on</span></td><td><span>is_ansi_null_default_on</span></td><td><span>is_ansi_nulls_on</span></td><td><span>is_ansi_padding_on</span></td><td><span>is_ansi_warnings_on</span></td><td><span>is_arithabort_on</span></td><td><span>is_concat_null_yields_null_on</span></td><td><span>is_numeric_roundabort_on</span></td><td><span>is_quoted_identifier_on</span></td><td><span>is_recursive_triggers_on</span></td><td><span>is_cursor_close_on_commit_on</span></td><td><span>is_local_cursor_default</span></td><td><span>is_fulltext_enabled</span></td><td><span>is_trustworthy_on</span></td><td><span>is_db_chaining_on</span></td><td><span>is_parameterization_forced</span></td><td><span>is_master_key_encrypted_by_server</span></td><td><span>is_query_store_on</span></td><td><span>is_published</span></td><td><span>is_subscribed</span></td><td><span>is_merge_published</span></td><td><span>is_distributor</span></td><td><span>is_sync_with_backup</span></td><td><span>service_broker_guid</span></td><td><span>is_broker_enabled</span></td><td><span>log_reuse_wait</span></td><td><span>log_reuse_wait_desc</span></td><td><span>is_date_correlation_on</span></td><td><span>is_cdc_enabled</span></td><td><span>is_encrypted</span></td><td><span>is_honor_broker_priority_on</span></td><td><span>replica_id</span></td><td><span>group_database_id</span></td><td><span>resource_pool_id</span></td><td><span>default_language_lcid</span></td><td><span>default_language_name</span></td><td><span>default_fulltext_language_lcid</span></td><td><span>default_fulltext_language_name</span></td><td><span>is_nested_triggers_on</span></td><td><span>is_transform_noise_words_on</span></td><td><span>two_digit_year_cutoff</span></td><td><span>containment</span></td><td><span>containment_desc</span></td><td><span>target_recovery_time_in_seconds</span></td><td><span>delayed_durability</span></td><td><span>delayed_durability_desc</span></td><td><span>is_memory_optimized_elevate_to_snapshot_on</span></td><td><span>is_federation_member</span></td><td><span>is_remote_data_archive_enabled</span></td><td><span>is_mixed_page_allocation_on</span></td><td><span>is_temporal_history_retention_enabled</span></td><td><span>catalog_collation_type</span></td><td><span>catalog_collation_type_desc</span></td><td><span>physical_database_name</span></td><td><span>is_result_set_caching_on</span></td><td><span>is_accelerated_database_recovery_on</span></td><td><span>is_tempdb_spill_to_remote_store</span></td><td><span>is_stale_page_detection_on</span></td><td><span>is_memory_optimized_enabled</span></td><td><span>is_data_retention_enabled</span></td><td><span>is_ledger_on</span></td><td><span>is_change_feed_enabled</span></td><td><span>Label</span></td></tr></thead><tbody><tr><td><div class=\"dni-plaintext\"><pre>1</pre></div></td><td>master</td><td><div class=\"dni-plaintext\"><pre>1</pre></div></td><td><div class=\"dni-plaintext\"><pre>&lt;null&gt;</pre></div></td><td><div class=\"dni-plaintext\"><pre>&lt;null&gt;</pre></div></td><td><span>2003-04-08 09:13:36Z</span></td><td><div class=\"dni-plaintext\"><pre>160</pre></div></td><td>SQL_Latin1_General_CP1_CI_AS</td><td><div class=\"dni-plaintext\"><pre>0</pre></div></td><td>MULTI_USER</td><td><div class=\"dni-plaintext\"><pre>False</pre></div></td><td><div class=\"dni-plaintext\"><pre>False</pre></div></td><td><div class=\"dni-plaintext\"><pre>False</pre></div></td><td><div class=\"dni-plaintext\"><pre>0</pre></div></td><td>ONLINE</td><td><div class=\"dni-plaintext\"><pre>False</pre></div></td><td><div class=\"dni-plaintext\"><pre>False</pre></div></td><td><div class=\"dni-plaintext\"><pre>False</pre></div></td><td><div class=\"dni-plaintext\"><pre>1</pre></div></td><td>ON</td><td><div class=\"dni-plaintext\"><pre>False</pre></div></td><td><div class=\"dni-plaintext\"><pre>3</pre></div></td><td>SIMPLE</td><td><div class=\"dni-plaintext\"><pre>2</pre></div></td><td>CHECKSUM</td><td><div class=\"dni-plaintext\"><pre>True</pre></div></td><td><div class=\"dni-plaintext\"><pre>False</pre></div></td><td><div class=\"dni-plaintext\"><pre>True</pre></div></td><td><div class=\"dni-plaintext\"><pre>False</pre></div></td><td><div class=\"dni-plaintext\"><pre>False</pre></div></td><td><div class=\"dni-plaintext\"><pre>False</pre></div></td><td><div class=\"dni-plaintext\"><pre>False</pre></div></td><td><div class=\"dni-plaintext\"><pre>False</pre></div></td><td><div class=\"dni-plaintext\"><pre>False</pre></div></td><td><div class=\"dni-plaintext\"><pre>False</pre></div></td><td><div class=\"dni-plaintext\"><pre>False</pre></div></td><td><div class=\"dni-plaintext\"><pre>False</pre></div></td><td><div class=\"dni-plaintext\"><pre>False</pre></div></td><td><div class=\"dni-plaintext\"><pre>False</pre></div></td><td><div class=\"dni-plaintext\"><pre>False</pre></div></td><td><div class=\"dni-plaintext\"><pre>False</pre></div></td><td><div class=\"dni-plaintext\"><pre>False</pre></div></td><td><div class=\"dni-plaintext\"><pre>True</pre></div></td><td><div class=\"dni-plaintext\"><pre>False</pre></div></td><td><div class=\"dni-plaintext\"><pre>False</pre></div></td><td><div class=\"dni-plaintext\"><pre>False</pre></div></td><td><div class=\"dni-plaintext\"><pre>False</pre></div></td><td><div class=\"dni-plaintext\"><pre>False</pre></div></td><td><div class=\"dni-plaintext\"><pre>False</pre></div></td><td><div class=\"dni-plaintext\"><pre>False</pre></div></td><td><div class=\"dni-plaintext\"><pre>False</pre></div></td><td><div class=\"dni-plaintext\"><pre>00000000-0000-0000-0000-000000000000</pre></div></td><td><div class=\"dni-plaintext\"><pre>False</pre></div></td><td><div class=\"dni-plaintext\"><pre>0</pre></div></td><td>NOTHING</td><td><div class=\"dni-plaintext\"><pre>False</pre></div></td><td><div class=\"dni-plaintext\"><pre>False</pre></div></td><td><div class=\"dni-plaintext\"><pre>False</pre></div></td><td><div class=\"dni-plaintext\"><pre>False</pre></div></td><td><div class=\"dni-plaintext\"><pre>&lt;null&gt;</pre></div></td><td><div class=\"dni-plaintext\"><pre>&lt;null&gt;</pre></div></td><td><div class=\"dni-plaintext\"><pre>&lt;null&gt;</pre></div></td><td><div class=\"dni-plaintext\"><pre>&lt;null&gt;</pre></div></td><td><div class=\"dni-plaintext\"><pre>&lt;null&gt;</pre></div></td><td><div class=\"dni-plaintext\"><pre>&lt;null&gt;</pre></div></td><td><div class=\"dni-plaintext\"><pre>&lt;null&gt;</pre></div></td><td><div class=\"dni-plaintext\"><pre>&lt;null&gt;</pre></div></td><td><div class=\"dni-plaintext\"><pre>&lt;null&gt;</pre></div></td><td><div class=\"dni-plaintext\"><pre>&lt;null&gt;</pre></div></td><td><div class=\"dni-plaintext\"><pre>0</pre></div></td><td>NONE</td><td><div class=\"dni-plaintext\"><pre>0</pre></div></td><td><div class=\"dni-plaintext\"><pre>0</pre></div></td><td>DISABLED</td><td><div class=\"dni-plaintext\"><pre>False</pre></div></td><td><div class=\"dni-plaintext\"><pre>False</pre></div></td><td><div class=\"dni-plaintext\"><pre>False</pre></div></td><td><div class=\"dni-plaintext\"><pre>True</pre></div></td><td><div class=\"dni-plaintext\"><pre>True</pre></div></td><td><div class=\"dni-plaintext\"><pre>0</pre></div></td><td>DATABASE_DEFAULT</td><td>master</td><td><div class=\"dni-plaintext\"><pre>False</pre></div></td><td><div class=\"dni-plaintext\"><pre>False</pre></div></td><td><div class=\"dni-plaintext\"><pre>False</pre></div></td><td><div class=\"dni-plaintext\"><pre>False</pre></div></td><td><div class=\"dni-plaintext\"><pre>True</pre></div></td><td><div class=\"dni-plaintext\"><pre>False</pre></div></td><td><div class=\"dni-plaintext\"><pre>False</pre></div></td><td><div class=\"dni-plaintext\"><pre>False</pre></div></td><td>dat</td></tr><tr><td><div class=\"dni-plaintext\"><pre>1</pre></div></td><td>tempdb</td><td><div class=\"dni-plaintext\"><pre>2</pre></div></td><td><div class=\"dni-plaintext\"><pre>&lt;null&gt;</pre></div></td><td><div class=\"dni-plaintext\"><pre>&lt;null&gt;</pre></div></td><td><span>2023-03-29 13:49:13Z</span></td><td><div class=\"dni-plaintext\"><pre>160</pre></div></td><td>SQL_Latin1_General_CP1_CI_AS</td><td><div class=\"dni-plaintext\"><pre>0</pre></div></td><td>MULTI_USER</td><td><div class=\"dni-plaintext\"><pre>False</pre></div></td><td><div class=\"dni-plaintext\"><pre>False</pre></div></td><td><div class=\"dni-plaintext\"><pre>False</pre></div></td><td><div class=\"dni-plaintext\"><pre>0</pre></div></td><td>ONLINE</td><td><div class=\"dni-plaintext\"><pre>False</pre></div></td><td><div class=\"dni-plaintext\"><pre>False</pre></div></td><td><div class=\"dni-plaintext\"><pre>False</pre></div></td><td><div class=\"dni-plaintext\"><pre>0</pre></div></td><td>OFF</td><td><div class=\"dni-plaintext\"><pre>False</pre></div></td><td><div class=\"dni-plaintext\"><pre>3</pre></div></td><td>SIMPLE</td><td><div class=\"dni-plaintext\"><pre>2</pre></div></td><td>CHECKSUM</td><td><div class=\"dni-plaintext\"><pre>True</pre></div></td><td><div class=\"dni-plaintext\"><pre>False</pre></div></td><td><div class=\"dni-plaintext\"><pre>True</pre></div></td><td><div class=\"dni-plaintext\"><pre>False</pre></div></td><td><div class=\"dni-plaintext\"><pre>False</pre></div></td><td><div class=\"dni-plaintext\"><pre>False</pre></div></td><td><div class=\"dni-plaintext\"><pre>False</pre></div></td><td><div class=\"dni-plaintext\"><pre>False</pre></div></td><td><div class=\"dni-plaintext\"><pre>False</pre></div></td><td><div class=\"dni-plaintext\"><pre>False</pre></div></td><td><div class=\"dni-plaintext\"><pre>False</pre></div></td><td><div class=\"dni-plaintext\"><pre>False</pre></div></td><td><div class=\"dni-plaintext\"><pre>False</pre></div></td><td><div class=\"dni-plaintext\"><pre>False</pre></div></td><td><div class=\"dni-plaintext\"><pre>False</pre></div></td><td><div class=\"dni-plaintext\"><pre>False</pre></div></td><td><div class=\"dni-plaintext\"><pre>False</pre></div></td><td><div class=\"dni-plaintext\"><pre>True</pre></div></td><td><div class=\"dni-plaintext\"><pre>False</pre></div></td><td><div class=\"dni-plaintext\"><pre>False</pre></div></td><td><div class=\"dni-plaintext\"><pre>False</pre></div></td><td><div class=\"dni-plaintext\"><pre>False</pre></div></td><td><div class=\"dni-plaintext\"><pre>False</pre></div></td><td><div class=\"dni-plaintext\"><pre>False</pre></div></td><td><div class=\"dni-plaintext\"><pre>False</pre></div></td><td><div class=\"dni-plaintext\"><pre>False</pre></div></td><td><div class=\"dni-plaintext\"><pre>0e7fa998-68e7-4c88-8637-96d75972d644</pre></div></td><td><div class=\"dni-plaintext\"><pre>True</pre></div></td><td><div class=\"dni-plaintext\"><pre>0</pre></div></td><td>NOTHING</td><td><div class=\"dni-plaintext\"><pre>False</pre></div></td><td><div class=\"dni-plaintext\"><pre>False</pre></div></td><td><div class=\"dni-plaintext\"><pre>False</pre></div></td><td><div class=\"dni-plaintext\"><pre>False</pre></div></td><td><div class=\"dni-plaintext\"><pre>&lt;null&gt;</pre></div></td><td><div class=\"dni-plaintext\"><pre>&lt;null&gt;</pre></div></td><td><div class=\"dni-plaintext\"><pre>&lt;null&gt;</pre></div></td><td><div class=\"dni-plaintext\"><pre>&lt;null&gt;</pre></div></td><td><div class=\"dni-plaintext\"><pre>&lt;null&gt;</pre></div></td><td><div class=\"dni-plaintext\"><pre>&lt;null&gt;</pre></div></td><td><div class=\"dni-plaintext\"><pre>&lt;null&gt;</pre></div></td><td><div class=\"dni-plaintext\"><pre>&lt;null&gt;</pre></div></td><td><div class=\"dni-plaintext\"><pre>&lt;null&gt;</pre></div></td><td><div class=\"dni-plaintext\"><pre>&lt;null&gt;</pre></div></td><td><div class=\"dni-plaintext\"><pre>0</pre></div></td><td>NONE</td><td><div class=\"dni-plaintext\"><pre>60</pre></div></td><td><div class=\"dni-plaintext\"><pre>0</pre></div></td><td>DISABLED</td><td><div class=\"dni-plaintext\"><pre>False</pre></div></td><td><div class=\"dni-plaintext\"><pre>False</pre></div></td><td><div class=\"dni-plaintext\"><pre>False</pre></div></td><td><div class=\"dni-plaintext\"><pre>False</pre></div></td><td><div class=\"dni-plaintext\"><pre>True</pre></div></td><td><div class=\"dni-plaintext\"><pre>0</pre></div></td><td>DATABASE_DEFAULT</td><td>tempdb</td><td><div class=\"dni-plaintext\"><pre>False</pre></div></td><td><div class=\"dni-plaintext\"><pre>False</pre></div></td><td><div class=\"dni-plaintext\"><pre>False</pre></div></td><td><div class=\"dni-plaintext\"><pre>False</pre></div></td><td><div class=\"dni-plaintext\"><pre>True</pre></div></td><td><div class=\"dni-plaintext\"><pre>False</pre></div></td><td><div class=\"dni-plaintext\"><pre>False</pre></div></td><td><div class=\"dni-plaintext\"><pre>False</pre></div></td><td>dat</td></tr><tr><td><div class=\"dni-plaintext\"><pre>1</pre></div></td><td>model</td><td><div class=\"dni-plaintext\"><pre>3</pre></div></td><td><div class=\"dni-plaintext\"><pre>&lt;null&gt;</pre></div></td><td><div class=\"dni-plaintext\"><pre>&lt;null&gt;</pre></div></td><td><span>2003-04-08 09:13:36Z</span></td><td><div class=\"dni-plaintext\"><pre>160</pre></div></td><td>SQL_Latin1_General_CP1_CI_AS</td><td><div class=\"dni-plaintext\"><pre>0</pre></div></td><td>MULTI_USER</td><td><div class=\"dni-plaintext\"><pre>False</pre></div></td><td><div class=\"dni-plaintext\"><pre>False</pre></div></td><td><div class=\"dni-plaintext\"><pre>False</pre></div></td><td><div class=\"dni-plaintext\"><pre>0</pre></div></td><td>ONLINE</td><td><div class=\"dni-plaintext\"><pre>False</pre></div></td><td><div class=\"dni-plaintext\"><pre>False</pre></div></td><td><div class=\"dni-plaintext\"><pre>False</pre></div></td><td><div class=\"dni-plaintext\"><pre>0</pre></div></td><td>OFF</td><td><div class=\"dni-plaintext\"><pre>False</pre></div></td><td><div class=\"dni-plaintext\"><pre>1</pre></div></td><td>FULL</td><td><div class=\"dni-plaintext\"><pre>2</pre></div></td><td>CHECKSUM</td><td><div class=\"dni-plaintext\"><pre>True</pre></div></td><td><div class=\"dni-plaintext\"><pre>False</pre></div></td><td><div class=\"dni-plaintext\"><pre>True</pre></div></td><td><div class=\"dni-plaintext\"><pre>False</pre></div></td><td><div class=\"dni-plaintext\"><pre>False</pre></div></td><td><div class=\"dni-plaintext\"><pre>False</pre></div></td><td><div class=\"dni-plaintext\"><pre>False</pre></div></td><td><div class=\"dni-plaintext\"><pre>False</pre></div></td><td><div class=\"dni-plaintext\"><pre>False</pre></div></td><td><div class=\"dni-plaintext\"><pre>False</pre></div></td><td><div class=\"dni-plaintext\"><pre>False</pre></div></td><td><div class=\"dni-plaintext\"><pre>False</pre></div></td><td><div class=\"dni-plaintext\"><pre>False</pre></div></td><td><div class=\"dni-plaintext\"><pre>False</pre></div></td><td><div class=\"dni-plaintext\"><pre>False</pre></div></td><td><div class=\"dni-plaintext\"><pre>False</pre></div></td><td><div class=\"dni-plaintext\"><pre>False</pre></div></td><td><div class=\"dni-plaintext\"><pre>False</pre></div></td><td><div class=\"dni-plaintext\"><pre>False</pre></div></td><td><div class=\"dni-plaintext\"><pre>False</pre></div></td><td><div class=\"dni-plaintext\"><pre>True</pre></div></td><td><div class=\"dni-plaintext\"><pre>False</pre></div></td><td><div class=\"dni-plaintext\"><pre>False</pre></div></td><td><div class=\"dni-plaintext\"><pre>False</pre></div></td><td><div class=\"dni-plaintext\"><pre>False</pre></div></td><td><div class=\"dni-plaintext\"><pre>False</pre></div></td><td><div class=\"dni-plaintext\"><pre>00000000-0000-0000-0000-000000000000</pre></div></td><td><div class=\"dni-plaintext\"><pre>False</pre></div></td><td><div class=\"dni-plaintext\"><pre>0</pre></div></td><td>NOTHING</td><td><div class=\"dni-plaintext\"><pre>False</pre></div></td><td><div class=\"dni-plaintext\"><pre>False</pre></div></td><td><div class=\"dni-plaintext\"><pre>False</pre></div></td><td><div class=\"dni-plaintext\"><pre>False</pre></div></td><td><div class=\"dni-plaintext\"><pre>&lt;null&gt;</pre></div></td><td><div class=\"dni-plaintext\"><pre>&lt;null&gt;</pre></div></td><td><div class=\"dni-plaintext\"><pre>&lt;null&gt;</pre></div></td><td><div class=\"dni-plaintext\"><pre>&lt;null&gt;</pre></div></td><td><div class=\"dni-plaintext\"><pre>&lt;null&gt;</pre></div></td><td><div class=\"dni-plaintext\"><pre>&lt;null&gt;</pre></div></td><td><div class=\"dni-plaintext\"><pre>&lt;null&gt;</pre></div></td><td><div class=\"dni-plaintext\"><pre>&lt;null&gt;</pre></div></td><td><div class=\"dni-plaintext\"><pre>&lt;null&gt;</pre></div></td><td><div class=\"dni-plaintext\"><pre>&lt;null&gt;</pre></div></td><td><div class=\"dni-plaintext\"><pre>0</pre></div></td><td>NONE</td><td><div class=\"dni-plaintext\"><pre>60</pre></div></td><td><div class=\"dni-plaintext\"><pre>0</pre></div></td><td>DISABLED</td><td><div class=\"dni-plaintext\"><pre>False</pre></div></td><td><div class=\"dni-plaintext\"><pre>False</pre></div></td><td><div class=\"dni-plaintext\"><pre>False</pre></div></td><td><div class=\"dni-plaintext\"><pre>True</pre></div></td><td><div class=\"dni-plaintext\"><pre>True</pre></div></td><td><div class=\"dni-plaintext\"><pre>0</pre></div></td><td>DATABASE_DEFAULT</td><td>model</td><td><div class=\"dni-plaintext\"><pre>False</pre></div></td><td><div class=\"dni-plaintext\"><pre>False</pre></div></td><td><div class=\"dni-plaintext\"><pre>False</pre></div></td><td><div class=\"dni-plaintext\"><pre>False</pre></div></td><td><div class=\"dni-plaintext\"><pre>True</pre></div></td><td><div class=\"dni-plaintext\"><pre>False</pre></div></td><td><div class=\"dni-plaintext\"><pre>False</pre></div></td><td><div class=\"dni-plaintext\"><pre>False</pre></div></td><td>dat</td></tr><tr><td><div class=\"dni-plaintext\"><pre>1</pre></div></td><td>msdb</td><td><div class=\"dni-plaintext\"><pre>4</pre></div></td><td><div class=\"dni-plaintext\"><pre>&lt;null&gt;</pre></div></td><td><div class=\"dni-plaintext\"><pre>&lt;null&gt;</pre></div></td><td><span>2023-02-27 16:18:05Z</span></td><td><div class=\"dni-plaintext\"><pre>160</pre></div></td><td>SQL_Latin1_General_CP1_CI_AS</td><td><div class=\"dni-plaintext\"><pre>0</pre></div></td><td>MULTI_USER</td><td><div class=\"dni-plaintext\"><pre>False</pre></div></td><td><div class=\"dni-plaintext\"><pre>False</pre></div></td><td><div class=\"dni-plaintext\"><pre>False</pre></div></td><td><div class=\"dni-plaintext\"><pre>0</pre></div></td><td>ONLINE</td><td><div class=\"dni-plaintext\"><pre>False</pre></div></td><td><div class=\"dni-plaintext\"><pre>False</pre></div></td><td><div class=\"dni-plaintext\"><pre>False</pre></div></td><td><div class=\"dni-plaintext\"><pre>1</pre></div></td><td>ON</td><td><div class=\"dni-plaintext\"><pre>False</pre></div></td><td><div class=\"dni-plaintext\"><pre>3</pre></div></td><td>SIMPLE</td><td><div class=\"dni-plaintext\"><pre>2</pre></div></td><td>CHECKSUM</td><td><div class=\"dni-plaintext\"><pre>True</pre></div></td><td><div class=\"dni-plaintext\"><pre>False</pre></div></td><td><div class=\"dni-plaintext\"><pre>True</pre></div></td><td><div class=\"dni-plaintext\"><pre>False</pre></div></td><td><div class=\"dni-plaintext\"><pre>False</pre></div></td><td><div class=\"dni-plaintext\"><pre>False</pre></div></td><td><div class=\"dni-plaintext\"><pre>False</pre></div></td><td><div class=\"dni-plaintext\"><pre>False</pre></div></td><td><div class=\"dni-plaintext\"><pre>False</pre></div></td><td><div class=\"dni-plaintext\"><pre>False</pre></div></td><td><div class=\"dni-plaintext\"><pre>False</pre></div></td><td><div class=\"dni-plaintext\"><pre>False</pre></div></td><td><div class=\"dni-plaintext\"><pre>False</pre></div></td><td><div class=\"dni-plaintext\"><pre>False</pre></div></td><td><div class=\"dni-plaintext\"><pre>False</pre></div></td><td><div class=\"dni-plaintext\"><pre>True</pre></div></td><td><div class=\"dni-plaintext\"><pre>True</pre></div></td><td><div class=\"dni-plaintext\"><pre>True</pre></div></td><td><div class=\"dni-plaintext\"><pre>False</pre></div></td><td><div class=\"dni-plaintext\"><pre>False</pre></div></td><td><div class=\"dni-plaintext\"><pre>False</pre></div></td><td><div class=\"dni-plaintext\"><pre>False</pre></div></td><td><div class=\"dni-plaintext\"><pre>False</pre></div></td><td><div class=\"dni-plaintext\"><pre>False</pre></div></td><td><div class=\"dni-plaintext\"><pre>False</pre></div></td><td><div class=\"dni-plaintext\"><pre>False</pre></div></td><td><div class=\"dni-plaintext\"><pre>c4443c83-fde7-423c-b8cd-56460261170d</pre></div></td><td><div class=\"dni-plaintext\"><pre>True</pre></div></td><td><div class=\"dni-plaintext\"><pre>13</pre></div></td><td>OLDEST_PAGE</td><td><div class=\"dni-plaintext\"><pre>False</pre></div></td><td><div class=\"dni-plaintext\"><pre>False</pre></div></td><td><div class=\"dni-plaintext\"><pre>False</pre></div></td><td><div class=\"dni-plaintext\"><pre>False</pre></div></td><td><div class=\"dni-plaintext\"><pre>&lt;null&gt;</pre></div></td><td><div class=\"dni-plaintext\"><pre>&lt;null&gt;</pre></div></td><td><div class=\"dni-plaintext\"><pre>&lt;null&gt;</pre></div></td><td><div class=\"dni-plaintext\"><pre>&lt;null&gt;</pre></div></td><td><div class=\"dni-plaintext\"><pre>&lt;null&gt;</pre></div></td><td><div class=\"dni-plaintext\"><pre>&lt;null&gt;</pre></div></td><td><div class=\"dni-plaintext\"><pre>&lt;null&gt;</pre></div></td><td><div class=\"dni-plaintext\"><pre>&lt;null&gt;</pre></div></td><td><div class=\"dni-plaintext\"><pre>&lt;null&gt;</pre></div></td><td><div class=\"dni-plaintext\"><pre>&lt;null&gt;</pre></div></td><td><div class=\"dni-plaintext\"><pre>0</pre></div></td><td>NONE</td><td><div class=\"dni-plaintext\"><pre>60</pre></div></td><td><div class=\"dni-plaintext\"><pre>0</pre></div></td><td>DISABLED</td><td><div class=\"dni-plaintext\"><pre>False</pre></div></td><td><div class=\"dni-plaintext\"><pre>False</pre></div></td><td><div class=\"dni-plaintext\"><pre>False</pre></div></td><td><div class=\"dni-plaintext\"><pre>True</pre></div></td><td><div class=\"dni-plaintext\"><pre>True</pre></div></td><td><div class=\"dni-plaintext\"><pre>0</pre></div></td><td>DATABASE_DEFAULT</td><td>msdb</td><td><div class=\"dni-plaintext\"><pre>False</pre></div></td><td><div class=\"dni-plaintext\"><pre>False</pre></div></td><td><div class=\"dni-plaintext\"><pre>False</pre></div></td><td><div class=\"dni-plaintext\"><pre>False</pre></div></td><td><div class=\"dni-plaintext\"><pre>True</pre></div></td><td><div class=\"dni-plaintext\"><pre>False</pre></div></td><td><div class=\"dni-plaintext\"><pre>False</pre></div></td><td><div class=\"dni-plaintext\"><pre>False</pre></div></td><td>dat</td></tr></tbody></table><style>\r\n",
       ".dni-code-hint {\r\n",
       "    font-style: italic;\r\n",
       "    overflow: hidden;\r\n",
       "    white-space: nowrap;\r\n",
       "}\r\n",
       ".dni-treeview {\r\n",
       "    white-space: nowrap;\r\n",
       "}\r\n",
       ".dni-treeview td {\r\n",
       "    vertical-align: top;\r\n",
       "    text-align: start;\r\n",
       "}\r\n",
       "details.dni-treeview {\r\n",
       "    padding-left: 1em;\r\n",
       "}\r\n",
       "table td {\r\n",
       "    text-align: start;\r\n",
       "}\r\n",
       "table tr { \r\n",
       "    vertical-align: top; \r\n",
       "    margin: 0em 0px;\r\n",
       "}\r\n",
       "table tr td pre \r\n",
       "{ \r\n",
       "    vertical-align: top !important; \r\n",
       "    margin: 0em 0px !important;\r\n",
       "} \r\n",
       "table th {\r\n",
       "    text-align: start;\r\n",
       "}\r\n",
       "</style>"
      ]
     },
     "metadata": {},
     "output_type": "display_data"
    }
   ],
   "source": [
    "#!sql-MIDAMDATA --name trainingdata\n",
    "--this is, I KID YOU NOT, T-sql that runs in the db connected to from above\n",
    "DECLARE @whatnot as int = 1;\n",
    "select @whatnot as [Feature1], *, 'dat' as [Label] from master.sys.databases"
   ]
  },
  {
   "cell_type": "code",
   "execution_count": 6,
   "metadata": {
    "dotnet_interactive": {
     "language": "javascript"
    },
    "polyglot_notebook": {
     "kernelName": "javascript"
    }
   },
   "outputs": [
    {
     "data": {
      "application/json": [
       {
        "data": [
         {
          "Feature1": 1,
          "Label": "dat",
          "catalog_collation_type": 0,
          "catalog_collation_type_desc": "DATABASE_DEFAULT",
          "collation_name": "SQL_Latin1_General_CP1_CI_AS",
          "compatibility_level": 160,
          "containment": 0,
          "containment_desc": "NONE",
          "create_date": "2003-04-08T09:13:36.39",
          "database_id": 1,
          "default_fulltext_language_lcid": null,
          "default_fulltext_language_name": null,
          "default_language_lcid": null,
          "default_language_name": null,
          "delayed_durability": 0,
          "delayed_durability_desc": "DISABLED",
          "group_database_id": null,
          "is_accelerated_database_recovery_on": false,
          "is_ansi_null_default_on": false,
          "is_ansi_nulls_on": false,
          "is_ansi_padding_on": false,
          "is_ansi_warnings_on": false,
          "is_arithabort_on": false,
          "is_auto_close_on": false,
          "is_auto_create_stats_incremental_on": false,
          "is_auto_create_stats_on": true,
          "is_auto_shrink_on": false,
          "is_auto_update_stats_async_on": false,
          "is_auto_update_stats_on": true,
          "is_broker_enabled": false,
          "is_cdc_enabled": false,
          "is_change_feed_enabled": false,
          "is_cleanly_shutdown": false,
          "is_concat_null_yields_null_on": false,
          "is_cursor_close_on_commit_on": false,
          "is_data_retention_enabled": false,
          "is_date_correlation_on": false,
          "is_db_chaining_on": true,
          "is_distributor": false,
          "is_encrypted": false,
          "is_federation_member": false,
          "is_fulltext_enabled": false,
          "is_honor_broker_priority_on": false,
          "is_in_standby": false,
          "is_ledger_on": false,
          "is_local_cursor_default": false,
          "is_master_key_encrypted_by_server": false,
          "is_memory_optimized_elevate_to_snapshot_on": false,
          "is_memory_optimized_enabled": true,
          "is_merge_published": false,
          "is_mixed_page_allocation_on": true,
          "is_nested_triggers_on": null,
          "is_numeric_roundabort_on": false,
          "is_parameterization_forced": false,
          "is_published": false,
          "is_query_store_on": false,
          "is_quoted_identifier_on": false,
          "is_read_committed_snapshot_on": false,
          "is_read_only": false,
          "is_recursive_triggers_on": false,
          "is_remote_data_archive_enabled": false,
          "is_result_set_caching_on": false,
          "is_stale_page_detection_on": false,
          "is_subscribed": false,
          "is_supplemental_logging_enabled": false,
          "is_sync_with_backup": false,
          "is_tempdb_spill_to_remote_store": false,
          "is_temporal_history_retention_enabled": true,
          "is_transform_noise_words_on": null,
          "is_trustworthy_on": false,
          "log_reuse_wait": 0,
          "log_reuse_wait_desc": "NOTHING",
          "name": "master",
          "owner_sid": null,
          "page_verify_option": 2,
          "page_verify_option_desc": "CHECKSUM",
          "physical_database_name": "master",
          "recovery_model": 3,
          "recovery_model_desc": "SIMPLE",
          "replica_id": null,
          "resource_pool_id": null,
          "service_broker_guid": "00000000-0000-0000-0000-000000000000",
          "snapshot_isolation_state": 1,
          "snapshot_isolation_state_desc": "ON",
          "source_database_id": null,
          "state": 0,
          "state_desc": "ONLINE",
          "target_recovery_time_in_seconds": 0,
          "two_digit_year_cutoff": null,
          "user_access": 0,
          "user_access_desc": "MULTI_USER"
         },
         {
          "Feature1": 1,
          "Label": "dat",
          "catalog_collation_type": 0,
          "catalog_collation_type_desc": "DATABASE_DEFAULT",
          "collation_name": "SQL_Latin1_General_CP1_CI_AS",
          "compatibility_level": 160,
          "containment": 0,
          "containment_desc": "NONE",
          "create_date": "2023-03-29T13:49:13.94",
          "database_id": 2,
          "default_fulltext_language_lcid": null,
          "default_fulltext_language_name": null,
          "default_language_lcid": null,
          "default_language_name": null,
          "delayed_durability": 0,
          "delayed_durability_desc": "DISABLED",
          "group_database_id": null,
          "is_accelerated_database_recovery_on": false,
          "is_ansi_null_default_on": false,
          "is_ansi_nulls_on": false,
          "is_ansi_padding_on": false,
          "is_ansi_warnings_on": false,
          "is_arithabort_on": false,
          "is_auto_close_on": false,
          "is_auto_create_stats_incremental_on": false,
          "is_auto_create_stats_on": true,
          "is_auto_shrink_on": false,
          "is_auto_update_stats_async_on": false,
          "is_auto_update_stats_on": true,
          "is_broker_enabled": true,
          "is_cdc_enabled": false,
          "is_change_feed_enabled": false,
          "is_cleanly_shutdown": false,
          "is_concat_null_yields_null_on": false,
          "is_cursor_close_on_commit_on": false,
          "is_data_retention_enabled": false,
          "is_date_correlation_on": false,
          "is_db_chaining_on": true,
          "is_distributor": false,
          "is_encrypted": false,
          "is_federation_member": false,
          "is_fulltext_enabled": false,
          "is_honor_broker_priority_on": false,
          "is_in_standby": false,
          "is_ledger_on": false,
          "is_local_cursor_default": false,
          "is_master_key_encrypted_by_server": false,
          "is_memory_optimized_elevate_to_snapshot_on": false,
          "is_memory_optimized_enabled": true,
          "is_merge_published": false,
          "is_mixed_page_allocation_on": false,
          "is_nested_triggers_on": null,
          "is_numeric_roundabort_on": false,
          "is_parameterization_forced": false,
          "is_published": false,
          "is_query_store_on": false,
          "is_quoted_identifier_on": false,
          "is_read_committed_snapshot_on": false,
          "is_read_only": false,
          "is_recursive_triggers_on": false,
          "is_remote_data_archive_enabled": false,
          "is_result_set_caching_on": false,
          "is_stale_page_detection_on": false,
          "is_subscribed": false,
          "is_supplemental_logging_enabled": false,
          "is_sync_with_backup": false,
          "is_tempdb_spill_to_remote_store": false,
          "is_temporal_history_retention_enabled": true,
          "is_transform_noise_words_on": null,
          "is_trustworthy_on": false,
          "log_reuse_wait": 0,
          "log_reuse_wait_desc": "NOTHING",
          "name": "tempdb",
          "owner_sid": null,
          "page_verify_option": 2,
          "page_verify_option_desc": "CHECKSUM",
          "physical_database_name": "tempdb",
          "recovery_model": 3,
          "recovery_model_desc": "SIMPLE",
          "replica_id": null,
          "resource_pool_id": null,
          "service_broker_guid": "0e7fa998-68e7-4c88-8637-96d75972d644",
          "snapshot_isolation_state": 0,
          "snapshot_isolation_state_desc": "OFF",
          "source_database_id": null,
          "state": 0,
          "state_desc": "ONLINE",
          "target_recovery_time_in_seconds": 60,
          "two_digit_year_cutoff": null,
          "user_access": 0,
          "user_access_desc": "MULTI_USER"
         },
         {
          "Feature1": 1,
          "Label": "dat",
          "catalog_collation_type": 0,
          "catalog_collation_type_desc": "DATABASE_DEFAULT",
          "collation_name": "SQL_Latin1_General_CP1_CI_AS",
          "compatibility_level": 160,
          "containment": 0,
          "containment_desc": "NONE",
          "create_date": "2003-04-08T09:13:36.39",
          "database_id": 3,
          "default_fulltext_language_lcid": null,
          "default_fulltext_language_name": null,
          "default_language_lcid": null,
          "default_language_name": null,
          "delayed_durability": 0,
          "delayed_durability_desc": "DISABLED",
          "group_database_id": null,
          "is_accelerated_database_recovery_on": false,
          "is_ansi_null_default_on": false,
          "is_ansi_nulls_on": false,
          "is_ansi_padding_on": false,
          "is_ansi_warnings_on": false,
          "is_arithabort_on": false,
          "is_auto_close_on": false,
          "is_auto_create_stats_incremental_on": false,
          "is_auto_create_stats_on": true,
          "is_auto_shrink_on": false,
          "is_auto_update_stats_async_on": false,
          "is_auto_update_stats_on": true,
          "is_broker_enabled": false,
          "is_cdc_enabled": false,
          "is_change_feed_enabled": false,
          "is_cleanly_shutdown": false,
          "is_concat_null_yields_null_on": false,
          "is_cursor_close_on_commit_on": false,
          "is_data_retention_enabled": false,
          "is_date_correlation_on": false,
          "is_db_chaining_on": false,
          "is_distributor": false,
          "is_encrypted": false,
          "is_federation_member": false,
          "is_fulltext_enabled": false,
          "is_honor_broker_priority_on": false,
          "is_in_standby": false,
          "is_ledger_on": false,
          "is_local_cursor_default": false,
          "is_master_key_encrypted_by_server": false,
          "is_memory_optimized_elevate_to_snapshot_on": false,
          "is_memory_optimized_enabled": true,
          "is_merge_published": false,
          "is_mixed_page_allocation_on": true,
          "is_nested_triggers_on": null,
          "is_numeric_roundabort_on": false,
          "is_parameterization_forced": false,
          "is_published": false,
          "is_query_store_on": true,
          "is_quoted_identifier_on": false,
          "is_read_committed_snapshot_on": false,
          "is_read_only": false,
          "is_recursive_triggers_on": false,
          "is_remote_data_archive_enabled": false,
          "is_result_set_caching_on": false,
          "is_stale_page_detection_on": false,
          "is_subscribed": false,
          "is_supplemental_logging_enabled": false,
          "is_sync_with_backup": false,
          "is_tempdb_spill_to_remote_store": false,
          "is_temporal_history_retention_enabled": true,
          "is_transform_noise_words_on": null,
          "is_trustworthy_on": false,
          "log_reuse_wait": 0,
          "log_reuse_wait_desc": "NOTHING",
          "name": "model",
          "owner_sid": null,
          "page_verify_option": 2,
          "page_verify_option_desc": "CHECKSUM",
          "physical_database_name": "model",
          "recovery_model": 1,
          "recovery_model_desc": "FULL",
          "replica_id": null,
          "resource_pool_id": null,
          "service_broker_guid": "00000000-0000-0000-0000-000000000000",
          "snapshot_isolation_state": 0,
          "snapshot_isolation_state_desc": "OFF",
          "source_database_id": null,
          "state": 0,
          "state_desc": "ONLINE",
          "target_recovery_time_in_seconds": 60,
          "two_digit_year_cutoff": null,
          "user_access": 0,
          "user_access_desc": "MULTI_USER"
         },
         {
          "Feature1": 1,
          "Label": "dat",
          "catalog_collation_type": 0,
          "catalog_collation_type_desc": "DATABASE_DEFAULT",
          "collation_name": "SQL_Latin1_General_CP1_CI_AS",
          "compatibility_level": 160,
          "containment": 0,
          "containment_desc": "NONE",
          "create_date": "2023-02-27T16:18:05.537",
          "database_id": 4,
          "default_fulltext_language_lcid": null,
          "default_fulltext_language_name": null,
          "default_language_lcid": null,
          "default_language_name": null,
          "delayed_durability": 0,
          "delayed_durability_desc": "DISABLED",
          "group_database_id": null,
          "is_accelerated_database_recovery_on": false,
          "is_ansi_null_default_on": false,
          "is_ansi_nulls_on": false,
          "is_ansi_padding_on": false,
          "is_ansi_warnings_on": false,
          "is_arithabort_on": false,
          "is_auto_close_on": false,
          "is_auto_create_stats_incremental_on": false,
          "is_auto_create_stats_on": true,
          "is_auto_shrink_on": false,
          "is_auto_update_stats_async_on": false,
          "is_auto_update_stats_on": true,
          "is_broker_enabled": true,
          "is_cdc_enabled": false,
          "is_change_feed_enabled": false,
          "is_cleanly_shutdown": false,
          "is_concat_null_yields_null_on": false,
          "is_cursor_close_on_commit_on": false,
          "is_data_retention_enabled": false,
          "is_date_correlation_on": false,
          "is_db_chaining_on": true,
          "is_distributor": false,
          "is_encrypted": false,
          "is_federation_member": false,
          "is_fulltext_enabled": true,
          "is_honor_broker_priority_on": false,
          "is_in_standby": false,
          "is_ledger_on": false,
          "is_local_cursor_default": false,
          "is_master_key_encrypted_by_server": false,
          "is_memory_optimized_elevate_to_snapshot_on": false,
          "is_memory_optimized_enabled": true,
          "is_merge_published": false,
          "is_mixed_page_allocation_on": true,
          "is_nested_triggers_on": null,
          "is_numeric_roundabort_on": false,
          "is_parameterization_forced": false,
          "is_published": false,
          "is_query_store_on": false,
          "is_quoted_identifier_on": false,
          "is_read_committed_snapshot_on": false,
          "is_read_only": false,
          "is_recursive_triggers_on": false,
          "is_remote_data_archive_enabled": false,
          "is_result_set_caching_on": false,
          "is_stale_page_detection_on": false,
          "is_subscribed": false,
          "is_supplemental_logging_enabled": false,
          "is_sync_with_backup": false,
          "is_tempdb_spill_to_remote_store": false,
          "is_temporal_history_retention_enabled": true,
          "is_transform_noise_words_on": null,
          "is_trustworthy_on": true,
          "log_reuse_wait": 13,
          "log_reuse_wait_desc": "OLDEST_PAGE",
          "name": "msdb",
          "owner_sid": null,
          "page_verify_option": 2,
          "page_verify_option_desc": "CHECKSUM",
          "physical_database_name": "msdb",
          "recovery_model": 3,
          "recovery_model_desc": "SIMPLE",
          "replica_id": null,
          "resource_pool_id": null,
          "service_broker_guid": "c4443c83-fde7-423c-b8cd-56460261170d",
          "snapshot_isolation_state": 1,
          "snapshot_isolation_state_desc": "ON",
          "source_database_id": null,
          "state": 0,
          "state_desc": "ONLINE",
          "target_recovery_time_in_seconds": 60,
          "two_digit_year_cutoff": null,
          "user_access": 0,
          "user_access_desc": "MULTI_USER"
         }
        ],
        "profile": "tabular-data-resource",
        "schema": {
         "fields": [
          {
           "name": "Feature1",
           "type": "integer"
          },
          {
           "name": "name",
           "type": "string"
          },
          {
           "name": "database_id",
           "type": "integer"
          },
          {
           "name": "source_database_id",
           "type": "integer"
          },
          {
           "name": "owner_sid",
           "type": "any"
          },
          {
           "name": "create_date",
           "type": "datetime"
          },
          {
           "name": "compatibility_level",
           "type": "any"
          },
          {
           "name": "collation_name",
           "type": "string"
          },
          {
           "name": "user_access",
           "type": "any"
          },
          {
           "name": "user_access_desc",
           "type": "string"
          },
          {
           "name": "is_read_only",
           "type": "boolean"
          },
          {
           "name": "is_auto_close_on",
           "type": "boolean"
          },
          {
           "name": "is_auto_shrink_on",
           "type": "boolean"
          },
          {
           "name": "state",
           "type": "any"
          },
          {
           "name": "state_desc",
           "type": "string"
          },
          {
           "name": "is_in_standby",
           "type": "boolean"
          },
          {
           "name": "is_cleanly_shutdown",
           "type": "boolean"
          },
          {
           "name": "is_supplemental_logging_enabled",
           "type": "boolean"
          },
          {
           "name": "snapshot_isolation_state",
           "type": "any"
          },
          {
           "name": "snapshot_isolation_state_desc",
           "type": "string"
          },
          {
           "name": "is_read_committed_snapshot_on",
           "type": "boolean"
          },
          {
           "name": "recovery_model",
           "type": "any"
          },
          {
           "name": "recovery_model_desc",
           "type": "string"
          },
          {
           "name": "page_verify_option",
           "type": "any"
          },
          {
           "name": "page_verify_option_desc",
           "type": "string"
          },
          {
           "name": "is_auto_create_stats_on",
           "type": "boolean"
          },
          {
           "name": "is_auto_create_stats_incremental_on",
           "type": "boolean"
          },
          {
           "name": "is_auto_update_stats_on",
           "type": "boolean"
          },
          {
           "name": "is_auto_update_stats_async_on",
           "type": "boolean"
          },
          {
           "name": "is_ansi_null_default_on",
           "type": "boolean"
          },
          {
           "name": "is_ansi_nulls_on",
           "type": "boolean"
          },
          {
           "name": "is_ansi_padding_on",
           "type": "boolean"
          },
          {
           "name": "is_ansi_warnings_on",
           "type": "boolean"
          },
          {
           "name": "is_arithabort_on",
           "type": "boolean"
          },
          {
           "name": "is_concat_null_yields_null_on",
           "type": "boolean"
          },
          {
           "name": "is_numeric_roundabort_on",
           "type": "boolean"
          },
          {
           "name": "is_quoted_identifier_on",
           "type": "boolean"
          },
          {
           "name": "is_recursive_triggers_on",
           "type": "boolean"
          },
          {
           "name": "is_cursor_close_on_commit_on",
           "type": "boolean"
          },
          {
           "name": "is_local_cursor_default",
           "type": "boolean"
          },
          {
           "name": "is_fulltext_enabled",
           "type": "boolean"
          },
          {
           "name": "is_trustworthy_on",
           "type": "boolean"
          },
          {
           "name": "is_db_chaining_on",
           "type": "boolean"
          },
          {
           "name": "is_parameterization_forced",
           "type": "boolean"
          },
          {
           "name": "is_master_key_encrypted_by_server",
           "type": "boolean"
          },
          {
           "name": "is_query_store_on",
           "type": "boolean"
          },
          {
           "name": "is_published",
           "type": "boolean"
          },
          {
           "name": "is_subscribed",
           "type": "boolean"
          },
          {
           "name": "is_merge_published",
           "type": "boolean"
          },
          {
           "name": "is_distributor",
           "type": "boolean"
          },
          {
           "name": "is_sync_with_backup",
           "type": "boolean"
          },
          {
           "name": "service_broker_guid",
           "type": "any"
          },
          {
           "name": "is_broker_enabled",
           "type": "boolean"
          },
          {
           "name": "log_reuse_wait",
           "type": "any"
          },
          {
           "name": "log_reuse_wait_desc",
           "type": "string"
          },
          {
           "name": "is_date_correlation_on",
           "type": "boolean"
          },
          {
           "name": "is_cdc_enabled",
           "type": "boolean"
          },
          {
           "name": "is_encrypted",
           "type": "boolean"
          },
          {
           "name": "is_honor_broker_priority_on",
           "type": "boolean"
          },
          {
           "name": "replica_id",
           "type": "any"
          },
          {
           "name": "group_database_id",
           "type": "any"
          },
          {
           "name": "resource_pool_id",
           "type": "integer"
          },
          {
           "name": "default_language_lcid",
           "type": "any"
          },
          {
           "name": "default_language_name",
           "type": "string"
          },
          {
           "name": "default_fulltext_language_lcid",
           "type": "integer"
          },
          {
           "name": "default_fulltext_language_name",
           "type": "string"
          },
          {
           "name": "is_nested_triggers_on",
           "type": "boolean"
          },
          {
           "name": "is_transform_noise_words_on",
           "type": "boolean"
          },
          {
           "name": "two_digit_year_cutoff",
           "type": "any"
          },
          {
           "name": "containment",
           "type": "any"
          },
          {
           "name": "containment_desc",
           "type": "string"
          },
          {
           "name": "target_recovery_time_in_seconds",
           "type": "integer"
          },
          {
           "name": "delayed_durability",
           "type": "integer"
          },
          {
           "name": "delayed_durability_desc",
           "type": "string"
          },
          {
           "name": "is_memory_optimized_elevate_to_snapshot_on",
           "type": "boolean"
          },
          {
           "name": "is_federation_member",
           "type": "boolean"
          },
          {
           "name": "is_remote_data_archive_enabled",
           "type": "boolean"
          },
          {
           "name": "is_mixed_page_allocation_on",
           "type": "boolean"
          },
          {
           "name": "is_temporal_history_retention_enabled",
           "type": "boolean"
          },
          {
           "name": "catalog_collation_type",
           "type": "integer"
          },
          {
           "name": "catalog_collation_type_desc",
           "type": "string"
          },
          {
           "name": "physical_database_name",
           "type": "string"
          },
          {
           "name": "is_result_set_caching_on",
           "type": "boolean"
          },
          {
           "name": "is_accelerated_database_recovery_on",
           "type": "boolean"
          },
          {
           "name": "is_tempdb_spill_to_remote_store",
           "type": "boolean"
          },
          {
           "name": "is_stale_page_detection_on",
           "type": "boolean"
          },
          {
           "name": "is_memory_optimized_enabled",
           "type": "boolean"
          },
          {
           "name": "is_data_retention_enabled",
           "type": "boolean"
          },
          {
           "name": "is_ledger_on",
           "type": "boolean"
          },
          {
           "name": "is_change_feed_enabled",
           "type": "boolean"
          },
          {
           "name": "Label",
           "type": "string"
          }
         ],
         "primaryKey": []
        }
       }
      ]
     },
     "metadata": {},
     "output_type": "display_data"
    }
   ],
   "source": [
    "#!share --from sql-MIDAMDATA trainingdata\n",
    "console.log(trainingdata)"
   ]
  },
  {
   "cell_type": "code",
   "execution_count": 8,
   "metadata": {
    "dotnet_interactive": {
     "language": "csharp"
    },
    "polyglot_notebook": {
     "kernelName": "csharp"
    }
   },
   "outputs": [
    {
     "data": {
      "text/html": [
       "<div><div></div><div></div><div><strong>Installed Packages</strong><ul><li><span>RazorInteractive, 1.1.8</span></li></ul></div></div>"
      ]
     },
     "metadata": {},
     "output_type": "display_data"
    },
    {
     "data": {
      "text/plain": [
       "Loading extensions from `C:\\Users\\gary\\.nuget\\packages\\razorinteractive\\1.1.8\\interactive-extensions\\dotnet\\RazorInteractive.dll`"
      ]
     },
     "metadata": {},
     "output_type": "display_data"
    },
    {
     "data": {
      "text/html": [
       "<details>\n",
       "    <summary>Renders the code block as Razor markup in dotnet-interactive notebooks.</summary>\n",
       "    <p>This extension adds a new kernel that can render Razor markdown.</p>\n",
       "    <p>All C# and F# variables are available in the <code>@Model</code> property.</p>\n",
       "</details>"
      ]
     },
     "metadata": {},
     "output_type": "display_data"
    }
   ],
   "source": [
    "#r \"nuget: RazorInteractive, 1.1.8\"\n",
    "//https://learn.microsoft.com/en-us/aspnet/core/mvc/views/razor?view=aspnetcore-5.0#razor-reserved-keywords\n",
    "//https://plbonneville.com/blog/introducing-the-dotnet-interactive-notebooks-razor-extension/"
   ]
  },
  {
   "cell_type": "code",
   "execution_count": 14,
   "metadata": {
    "dotnet_interactive": {
     "language": "csharp"
    },
    "polyglot_notebook": {
     "kernelName": "csharp"
    }
   },
   "outputs": [
    {
     "data": {
      "text/html": [
       "<div class=\"dni-plaintext\"><pre>1</pre></div><style>\r\n",
       ".dni-code-hint {\r\n",
       "    font-style: italic;\r\n",
       "    overflow: hidden;\r\n",
       "    white-space: nowrap;\r\n",
       "}\r\n",
       ".dni-treeview {\r\n",
       "    white-space: nowrap;\r\n",
       "}\r\n",
       ".dni-treeview td {\r\n",
       "    vertical-align: top;\r\n",
       "    text-align: start;\r\n",
       "}\r\n",
       "details.dni-treeview {\r\n",
       "    padding-left: 1em;\r\n",
       "}\r\n",
       "table td {\r\n",
       "    text-align: start;\r\n",
       "}\r\n",
       "table tr { \r\n",
       "    vertical-align: top; \r\n",
       "    margin: 0em 0px;\r\n",
       "}\r\n",
       "table tr td pre \r\n",
       "{ \r\n",
       "    vertical-align: top !important; \r\n",
       "    margin: 0em 0px !important;\r\n",
       "} \r\n",
       "table th {\r\n",
       "    text-align: start;\r\n",
       "}\r\n",
       "</style>"
      ]
     },
     "metadata": {},
     "output_type": "display_data"
    }
   ],
   "source": [
    "#!share --from sql-MIDAMDATA trainingdata\n",
    "trainingdata.ToArray().Length"
   ]
  },
  {
   "cell_type": "code",
   "execution_count": 11,
   "metadata": {
    "dotnet_interactive": {
     "language": "csharp"
    },
    "polyglot_notebook": {
     "kernelName": "csharp"
    }
   },
   "outputs": [
    {
     "data": {
      "text/html": [
       "<div><div></div><div></div><div><strong>Installed Packages</strong><ul><li><span>BlazorInteractive, 1.1.5</span></li></ul></div></div>"
      ]
     },
     "metadata": {},
     "output_type": "display_data"
    },
    {
     "data": {
      "text/plain": [
       "Loading extensions from `C:\\Users\\gary\\.nuget\\packages\\blazorinteractive\\1.1.5\\interactive-extensions\\dotnet\\BlazorInteractive.dll`"
      ]
     },
     "metadata": {},
     "output_type": "display_data"
    },
    {
     "data": {
      "text/html": [
       "<details>\n",
       "    <summary>Compile and render Razor components (.razor) in .NET Interactive Notebooks.</summary>\n",
       "    <p>This extension adds a new kernel that can render Blazor markdown.</p>\n",
       "\n",
       "    <pre>\n",
       "        <code>\n",
       "#!blazor\n",
       "<h1>Counter</h1>\n",
       "\n",
       "<p>\n",
       "    Current count: @currentCount\n",
       "</p>\n",
       "\n",
       "@code {\n",
       "  int currentCount = 0;\n",
       "}</code>\n",
       "    </pre>\n",
       "\n",
       "    <p>This extension also adds the compiled component as a type to the interactive workspace.</p>\n",
       "\n",
       "    <p>Options:</p>\n",
       "    <ul>\n",
       "    <li>-n, --name &nbsp;&nbsp;&nbsp;&nbsp;The Razor component's (.razor) type name. The default value is <code>__Main</code></li>\n",
       "    </ul>\n",
       "</details>"
      ]
     },
     "metadata": {},
     "output_type": "display_data"
    }
   ],
   "source": [
    "#r \"nuget: BlazorInteractive, 1.1.5\""
   ]
  },
  {
   "attachments": {},
   "cell_type": "markdown",
   "metadata": {},
   "source": [
    "[Conversation with GPT about sharing variables across kernels without magic command](https://sharegpt.com/c/lvaYObE)"
   ]
  },
  {
   "cell_type": "code",
   "execution_count": 20,
   "metadata": {
    "dotnet_interactive": {
     "language": "csharp"
    },
    "polyglot_notebook": {
     "kernelName": "csharp"
    }
   },
   "outputs": [
    {
     "ename": "Error",
     "evalue": "System.AggregateException: One or more errors occurred. (Value cannot be null. (Parameter 'rawAssembly'))\r\n ---> System.ArgumentNullException: Value cannot be null. (Parameter 'rawAssembly')\r\n   at System.ArgumentNullException.Throw(String paramName)\r\n   at System.Reflection.Assembly.Load(Byte[] rawAssembly, Byte[] rawSymbolStore)\r\n   at BlazorInteractive.BlazorExtensions.GenerateHtml(Byte[] assemblyBytes, String componentName)\r\n   at BlazorInteractive.BlazorExtensions.<>c__DisplayClass0_1`1.<<UseBlazor>b__1>d.MoveNext()\r\n   --- End of inner exception stack trace ---\r\n   at System.Threading.Tasks.Task.ThrowIfExceptional(Boolean includeTaskCanceledExceptions)\r\n   at System.Threading.Tasks.Task.Wait(Int32 millisecondsTimeout, CancellationToken cancellationToken)\r\n   at System.Threading.Tasks.Task.Wait()\r\n   at BlazorInteractive.BlazorExtensions.<>c__DisplayClass0_0`1.<UseBlazor>b__0(BlazorMarkdown markdown, TextWriter writer)\r\n   at Microsoft.DotNet.Interactive.Formatting.Formatter.<>c__DisplayClass48_0`1.<Register>b__0(Object value, FormatContext context) in D:\\a\\_work\\1\\s\\src\\Microsoft.DotNet.Interactive.Formatting\\Formatter.cs:line 497\r\n   at Microsoft.DotNet.Interactive.Formatting.Formatter`1.FormatTo(T obj, FormatContext context, String mimeType) in D:\\a\\_work\\1\\s\\src\\Microsoft.DotNet.Interactive.Formatting\\Formatter{T}.cs:line 86\r\n   at Microsoft.DotNet.Interactive.Formatting.Formatter.ToDisplayString(Object obj, String mimeType) in D:\\a\\_work\\1\\s\\src\\Microsoft.DotNet.Interactive.Formatting\\Formatter.cs:line 269\r\n   at Microsoft.DotNet.Interactive.FormattedValue.<>c__DisplayClass7_0.<FromObject>b__0(String mimeType) in D:\\a\\_work\\1\\s\\src\\Microsoft.DotNet.Interactive\\FormattedValue.cs:line 37\r\n   at System.Linq.Enumerable.SelectArrayIterator`2.ToArray()\r\n   at Microsoft.DotNet.Interactive.KernelInvocationContextExtensions.Display(KernelInvocationContext context, Object value, String[] mimeTypes) in D:\\a\\_work\\1\\s\\src\\Microsoft.DotNet.Interactive\\KernelInvocationContextExtensions.cs:line 24\r\n   at BlazorInteractive.BlazorKernel.HandleAsync(SubmitCode command, KernelInvocationContext context)\r\n   at Microsoft.DotNet.Interactive.Kernel.HandleAsync(KernelCommand command, KernelInvocationContext context) in D:\\a\\_work\\1\\s\\src\\Microsoft.DotNet.Interactive\\Kernel.cs:line 326\r\n   at Microsoft.DotNet.Interactive.KernelCommandPipeline.<BuildPipeline>b__6_0(KernelCommand command, KernelInvocationContext context, KernelPipelineContinuation _) in D:\\a\\_work\\1\\s\\src\\Microsoft.DotNet.Interactive\\KernelCommandPipeline.cs:line 60\r\n   at Microsoft.DotNet.Interactive.KernelCommandPipeline.SendAsync(KernelCommand command, KernelInvocationContext context) in D:\\a\\_work\\1\\s\\src\\Microsoft.DotNet.Interactive\\KernelCommandPipeline.cs:line 51",
     "output_type": "error",
     "traceback": [
      "System.AggregateException: One or more errors occurred. (Value cannot be null. (Parameter 'rawAssembly'))\r\n",
      " ---> System.ArgumentNullException: Value cannot be null. (Parameter 'rawAssembly')\r\n",
      "   at System.ArgumentNullException.Throw(String paramName)\r\n",
      "   at System.Reflection.Assembly.Load(Byte[] rawAssembly, Byte[] rawSymbolStore)\r\n",
      "   at BlazorInteractive.BlazorExtensions.GenerateHtml(Byte[] assemblyBytes, String componentName)\r\n",
      "   at BlazorInteractive.BlazorExtensions.<>c__DisplayClass0_1`1.<<UseBlazor>b__1>d.MoveNext()\r\n",
      "   --- End of inner exception stack trace ---\r\n",
      "   at System.Threading.Tasks.Task.ThrowIfExceptional(Boolean includeTaskCanceledExceptions)\r\n",
      "   at System.Threading.Tasks.Task.Wait(Int32 millisecondsTimeout, CancellationToken cancellationToken)\r\n",
      "   at System.Threading.Tasks.Task.Wait()\r\n",
      "   at BlazorInteractive.BlazorExtensions.<>c__DisplayClass0_0`1.<UseBlazor>b__0(BlazorMarkdown markdown, TextWriter writer)\r\n",
      "   at Microsoft.DotNet.Interactive.Formatting.Formatter.<>c__DisplayClass48_0`1.<Register>b__0(Object value, FormatContext context) in D:\\a\\_work\\1\\s\\src\\Microsoft.DotNet.Interactive.Formatting\\Formatter.cs:line 497\r\n",
      "   at Microsoft.DotNet.Interactive.Formatting.Formatter`1.FormatTo(T obj, FormatContext context, String mimeType) in D:\\a\\_work\\1\\s\\src\\Microsoft.DotNet.Interactive.Formatting\\Formatter{T}.cs:line 86\r\n",
      "   at Microsoft.DotNet.Interactive.Formatting.Formatter.ToDisplayString(Object obj, String mimeType) in D:\\a\\_work\\1\\s\\src\\Microsoft.DotNet.Interactive.Formatting\\Formatter.cs:line 269\r\n",
      "   at Microsoft.DotNet.Interactive.FormattedValue.<>c__DisplayClass7_0.<FromObject>b__0(String mimeType) in D:\\a\\_work\\1\\s\\src\\Microsoft.DotNet.Interactive\\FormattedValue.cs:line 37\r\n",
      "   at System.Linq.Enumerable.SelectArrayIterator`2.ToArray()\r\n",
      "   at Microsoft.DotNet.Interactive.KernelInvocationContextExtensions.Display(KernelInvocationContext context, Object value, String[] mimeTypes) in D:\\a\\_work\\1\\s\\src\\Microsoft.DotNet.Interactive\\KernelInvocationContextExtensions.cs:line 24\r\n",
      "   at BlazorInteractive.BlazorKernel.HandleAsync(SubmitCode command, KernelInvocationContext context)\r\n",
      "   at Microsoft.DotNet.Interactive.Kernel.HandleAsync(KernelCommand command, KernelInvocationContext context) in D:\\a\\_work\\1\\s\\src\\Microsoft.DotNet.Interactive\\Kernel.cs:line 326\r\n",
      "   at Microsoft.DotNet.Interactive.KernelCommandPipeline.<BuildPipeline>b__6_0(KernelCommand command, KernelInvocationContext context, KernelPipelineContinuation _) in D:\\a\\_work\\1\\s\\src\\Microsoft.DotNet.Interactive\\KernelCommandPipeline.cs:line 60\r\n",
      "   at Microsoft.DotNet.Interactive.KernelCommandPipeline.SendAsync(KernelCommand command, KernelInvocationContext context) in D:\\a\\_work\\1\\s\\src\\Microsoft.DotNet.Interactive\\KernelCommandPipeline.cs:line 51"
     ]
    }
   ],
   "source": [
    "#!blazor --name Counter\n",
    "<h1>Display SQL Data</h1>\n",
    "\n",
    "<p>\n",
    "    SQL Sourced Data: @representData\n",
    "</p>\n",
    "\n",
    "<button class=\"btn btn-primary\" @onclick=\"ShowSomething\">Click me</button>\n",
    "\n",
    "@code {\n",
    "  using System.Threading.Tasks;\n",
    "  using Microsoft.DotNet.Interactive;\n",
    "  using Microsoft.DotNet.Interactive.CSharp;\n",
    "  \n",
    "  List<Microsoft.DotNet.Interactive.Formatting.TabularData.TabularDataResource> representData = await ((CSharpKernel)Kernel.Root).GetValueAsync<List<Microsoft.DotNet.Interactive.Formatting.TabularData.TabularDataResource>>(\"trainingdata\");\n",
    "\n",
    "  int newNumber = myNumber * 2;\n",
    "  Console.WriteLine(newNumber);\n",
    "  public str representData = \"n\";\n",
    "\n",
    "  void ShowSomething()\n",
    "  {\n",
    "    representData = \"y\";\n",
    "  }\n",
    "}"
   ]
  }
 ],
 "metadata": {
  "kernelspec": {
   "display_name": ".NET (C#)",
   "language": "C#",
   "name": ".net-csharp"
  },
  "language_info": {
   "name": "polyglot-notebook"
  },
  "polyglot_notebook": {
   "kernelInfo": {
    "defaultKernelName": "csharp",
    "items": [
     {
      "aliases": [],
      "name": "csharp"
     },
     {
      "aliases": [],
      "name": "razor"
     }
    ]
   }
  }
 },
 "nbformat": 4,
 "nbformat_minor": 2
}
