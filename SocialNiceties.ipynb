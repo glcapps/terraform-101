{
 "cells": [
  {
   "cell_type": "code",
   "execution_count": null,
   "metadata": {
    "dotnet_interactive": {
     "language": "html"
    },
    "polyglot_notebook": {
     "kernelName": "html"
    }
   },
   "outputs": [],
   "source": [
    "<a href='https://marketplace.visualstudio.com/items?itemName=HashiCorp.terraform'>VS Code plugin to syntax highlight for terraform code</a>"
   ]
  },
  {
   "attachments": {},
   "cell_type": "markdown",
   "metadata": {},
   "source": [
    "\n",
    "[VS Code plugin to syntax highlight for terraform code](https://marketplace.visualstudio.com/items?itemName=HashiCorp.terraform)"
   ]
  },
  {
   "cell_type": "code",
   "execution_count": null,
   "metadata": {
    "dotnet_interactive": {
     "language": "pwsh"
    },
    "polyglot_notebook": {
     "kernelName": "pwsh"
    }
   },
   "outputs": [],
   "source": [
    "code --list-extensions\n"
   ]
  },
  {
   "cell_type": "code",
   "execution_count": null,
   "metadata": {
    "dotnet_interactive": {
     "language": "pwsh"
    },
    "polyglot_notebook": {
     "kernelName": "pwsh"
    }
   },
   "outputs": [],
   "source": [
    "code --install-extension ms-dotnettools.dotnet-interactive-vscode"
   ]
  },
  {
   "cell_type": "code",
   "execution_count": null,
   "metadata": {
    "dotnet_interactive": {
     "language": "pwsh"
    },
    "polyglot_notebook": {
     "kernelName": "pwsh"
    }
   },
   "outputs": [],
   "source": [
    "start \"C:\\Program Files\\Docker\\Docker\\docker desktop.exe\"\n",
    "docker ps\n"
   ]
  },
  {
   "cell_type": "code",
   "execution_count": null,
   "metadata": {
    "dotnet_interactive": {
     "language": "pwsh"
    },
    "polyglot_notebook": {
     "kernelName": "pwsh"
    }
   },
   "outputs": [],
   "source": [
    "docker rm -f sql\n",
    "docker run -e \"ACCEPT_EULA=Y\" -e \"SA_PASSWORD=MyPass@word\" -e \"MSSQL_PID=Express\" -p 1433:1433 -d --name=sql mcr.microsoft.com/mssql/server:latest\n"
   ]
  },
  {
   "cell_type": "code",
   "execution_count": 1,
   "metadata": {
    "dotnet_interactive": {
     "language": "csharp"
    },
    "polyglot_notebook": {
     "kernelName": "csharp"
    }
   },
   "outputs": [
    {
     "data": {
      "text/html": [
       "<div><div></div><div></div><div><strong>Installed Packages</strong><ul><li><span>Microsoft.DotNet.Interactive.SqlServer, 1.0.0-beta.23165.2</span></li></ul></div></div>"
      ]
     },
     "metadata": {},
     "output_type": "display_data"
    },
    {
     "data": {
      "text/plain": [
       "Loading extensions from `C:\\Users\\gary\\.nuget\\packages\\microsoft.dotnet.interactive.sqlserver\\1.0.0-beta.23165.2\\interactive-extensions\\dotnet\\Microsoft.DotNet.Interactive.SqlServer.dll`"
      ]
     },
     "metadata": {},
     "output_type": "display_data"
    },
    {
     "data": {
      "text/html": [
       "<details><summary>Query Microsoft SQL Server databases.</summary>\r\n",
       "<p>This extension adds support for connecting to Microsoft SQL Server databases using the <code>#!connect mssql</code> magic command. For more information, run a cell using the <code>#!sql</code> magic command.</p>\r\n",
       "</details>"
      ]
     },
     "metadata": {},
     "output_type": "display_data"
    }
   ],
   "source": [
    "#r \"nuget: Microsoft.DotNet.Interactive.SqlServer, *-*\""
   ]
  },
  {
   "cell_type": "code",
   "execution_count": 2,
   "metadata": {
    "dotnet_interactive": {
     "language": "csharp"
    },
    "polyglot_notebook": {
     "kernelName": "csharp"
    }
   },
   "outputs": [
    {
     "data": {
      "text/markdown": [
       "Scaffolding a `DbContext` and initializing an instance of it called `MIDAMDATA` in the C# kernel."
      ]
     },
     "metadata": {},
     "output_type": "display_data"
    },
    {
     "data": {
      "text/html": [
       "<div><div></div><div></div><div><strong>Installed Packages</strong><ul><li><span>Humanizer, 2.14.1</span></li><li><span>humanizer.core, 2.14.1</span></li><li><span>Microsoft.EntityFrameworkCore.Design, 7.0.0</span></li><li><span>microsoft.entityframeworkcore.sqlserver, 7.0.0</span></li><li><span>microsoft.identity.client, 4.48.1</span></li></ul></div></div>"
      ]
     },
     "metadata": {},
     "output_type": "display_data"
    },
    {
     "data": {
      "text/plain": [
       "Kernel added: #!sql-MIDAMDATA"
      ]
     },
     "metadata": {},
     "output_type": "display_data"
    }
   ],
   "source": [
    "#!connect mssql --create-dbcontext --kernel-name MIDAMDATA \"Server=localhost,1433;Encrypt=False;Integrated Security=False;User Id=sa;Password=MyPass@word;\""
   ]
  },
  {
   "cell_type": "code",
   "execution_count": 3,
   "metadata": {
    "dotnet_interactive": {
     "language": "sql"
    },
    "polyglot_notebook": {
     "kernelName": "sql"
    }
   },
   "outputs": [
    {
     "data": {
      "text/plain": [
       "(4 rows affected)"
      ]
     },
     "metadata": {},
     "output_type": "display_data"
    },
    {
     "data": {
      "text/csv": [
       "Feature1,name,database_id,source_database_id,owner_sid,create_date,compatibility_level,collation_name,user_access,user_access_desc,is_read_only,is_auto_close_on,is_auto_shrink_on,state,state_desc,is_in_standby,is_cleanly_shutdown,is_supplemental_logging_enabled,snapshot_isolation_state,snapshot_isolation_state_desc,is_read_committed_snapshot_on,recovery_model,recovery_model_desc,page_verify_option,page_verify_option_desc,is_auto_create_stats_on,is_auto_create_stats_incremental_on,is_auto_update_stats_on,is_auto_update_stats_async_on,is_ansi_null_default_on,is_ansi_nulls_on,is_ansi_padding_on,is_ansi_warnings_on,is_arithabort_on,is_concat_null_yields_null_on,is_numeric_roundabort_on,is_quoted_identifier_on,is_recursive_triggers_on,is_cursor_close_on_commit_on,is_local_cursor_default,is_fulltext_enabled,is_trustworthy_on,is_db_chaining_on,is_parameterization_forced,is_master_key_encrypted_by_server,is_query_store_on,is_published,is_subscribed,is_merge_published,is_distributor,is_sync_with_backup,service_broker_guid,is_broker_enabled,log_reuse_wait,log_reuse_wait_desc,is_date_correlation_on,is_cdc_enabled,is_encrypted,is_honor_broker_priority_on,replica_id,group_database_id,resource_pool_id,default_language_lcid,default_language_name,default_fulltext_language_lcid,default_fulltext_language_name,is_nested_triggers_on,is_transform_noise_words_on,two_digit_year_cutoff,containment,containment_desc,target_recovery_time_in_seconds,delayed_durability,delayed_durability_desc,is_memory_optimized_elevate_to_snapshot_on,is_federation_member,is_remote_data_archive_enabled,is_mixed_page_allocation_on,is_temporal_history_retention_enabled,catalog_collation_type,catalog_collation_type_desc,physical_database_name,is_result_set_caching_on,is_accelerated_database_recovery_on,is_tempdb_spill_to_remote_store,is_stale_page_detection_on,is_memory_optimized_enabled,is_data_retention_enabled,is_ledger_on,is_change_feed_enabled,Label\r\n",
       "1,master,1,,,2003-04-08T09:13:36.3900000,160,SQL_Latin1_General_CP1_CI_AS,0,MULTI_USER,False,False,False,0,ONLINE,False,False,False,1,ON,False,3,SIMPLE,2,CHECKSUM,True,False,True,False,False,False,False,False,False,False,False,False,False,False,False,False,False,True,False,False,False,False,False,False,False,False,00000000-0000-0000-0000-000000000000,False,1,CHECKPOINT,False,False,False,False,,,,,,,,,,,0,NONE,0,0,DISABLED,False,False,False,True,True,0,DATABASE_DEFAULT,master,False,False,False,False,True,False,False,False,dat\r\n",
       "1,tempdb,2,,,2023-03-30T12:28:10.0670000,160,SQL_Latin1_General_CP1_CI_AS,0,MULTI_USER,False,False,False,0,ONLINE,False,False,False,0,OFF,False,3,SIMPLE,2,CHECKSUM,True,False,True,False,False,False,False,False,False,False,False,False,False,False,False,False,False,True,False,False,False,False,False,False,False,False,0e7fa998-68e7-4c88-8637-96d75972d644,True,0,NOTHING,False,False,False,False,,,,,,,,,,,0,NONE,60,0,DISABLED,False,False,False,False,True,0,DATABASE_DEFAULT,tempdb,False,False,False,False,True,False,False,False,dat\r\n",
       "1,model,3,,,2003-04-08T09:13:36.3900000,160,SQL_Latin1_General_CP1_CI_AS,0,MULTI_USER,False,False,False,0,ONLINE,False,False,False,0,OFF,False,1,FULL,2,CHECKSUM,True,False,True,False,False,False,False,False,False,False,False,False,False,False,False,False,False,False,False,False,True,False,False,False,False,False,00000000-0000-0000-0000-000000000000,False,0,NOTHING,False,False,False,False,,,,,,,,,,,0,NONE,60,0,DISABLED,False,False,False,True,True,0,DATABASE_DEFAULT,model,False,False,False,False,True,False,False,False,dat\r\n",
       "1,msdb,4,,,2023-02-27T16:18:05.5370000,160,SQL_Latin1_General_CP1_CI_AS,0,MULTI_USER,False,False,False,0,ONLINE,False,False,False,1,ON,False,3,SIMPLE,2,CHECKSUM,True,False,True,False,False,False,False,False,False,False,False,False,False,False,False,True,True,True,False,False,False,False,False,False,False,False,c4443c83-fde7-423c-b8cd-56460261170d,True,0,NOTHING,False,False,False,False,,,,,,,,,,,0,NONE,60,0,DISABLED,False,False,False,True,True,0,DATABASE_DEFAULT,msdb,False,False,False,False,True,False,False,False,dat\r\n"
      ],
      "text/html": [
       "<table><thead><tr><td><span>Feature1</span></td><td><span>name</span></td><td><span>database_id</span></td><td><span>source_database_id</span></td><td><span>owner_sid</span></td><td><span>create_date</span></td><td><span>compatibility_level</span></td><td><span>collation_name</span></td><td><span>user_access</span></td><td><span>user_access_desc</span></td><td><span>is_read_only</span></td><td><span>is_auto_close_on</span></td><td><span>is_auto_shrink_on</span></td><td><span>state</span></td><td><span>state_desc</span></td><td><span>is_in_standby</span></td><td><span>is_cleanly_shutdown</span></td><td><span>is_supplemental_logging_enabled</span></td><td><span>snapshot_isolation_state</span></td><td><span>snapshot_isolation_state_desc</span></td><td><span>is_read_committed_snapshot_on</span></td><td><span>recovery_model</span></td><td><span>recovery_model_desc</span></td><td><span>page_verify_option</span></td><td><span>page_verify_option_desc</span></td><td><span>is_auto_create_stats_on</span></td><td><span>is_auto_create_stats_incremental_on</span></td><td><span>is_auto_update_stats_on</span></td><td><span>is_auto_update_stats_async_on</span></td><td><span>is_ansi_null_default_on</span></td><td><span>is_ansi_nulls_on</span></td><td><span>is_ansi_padding_on</span></td><td><span>is_ansi_warnings_on</span></td><td><span>is_arithabort_on</span></td><td><span>is_concat_null_yields_null_on</span></td><td><span>is_numeric_roundabort_on</span></td><td><span>is_quoted_identifier_on</span></td><td><span>is_recursive_triggers_on</span></td><td><span>is_cursor_close_on_commit_on</span></td><td><span>is_local_cursor_default</span></td><td><span>is_fulltext_enabled</span></td><td><span>is_trustworthy_on</span></td><td><span>is_db_chaining_on</span></td><td><span>is_parameterization_forced</span></td><td><span>is_master_key_encrypted_by_server</span></td><td><span>is_query_store_on</span></td><td><span>is_published</span></td><td><span>is_subscribed</span></td><td><span>is_merge_published</span></td><td><span>is_distributor</span></td><td><span>is_sync_with_backup</span></td><td><span>service_broker_guid</span></td><td><span>is_broker_enabled</span></td><td><span>log_reuse_wait</span></td><td><span>log_reuse_wait_desc</span></td><td><span>is_date_correlation_on</span></td><td><span>is_cdc_enabled</span></td><td><span>is_encrypted</span></td><td><span>is_honor_broker_priority_on</span></td><td><span>replica_id</span></td><td><span>group_database_id</span></td><td><span>resource_pool_id</span></td><td><span>default_language_lcid</span></td><td><span>default_language_name</span></td><td><span>default_fulltext_language_lcid</span></td><td><span>default_fulltext_language_name</span></td><td><span>is_nested_triggers_on</span></td><td><span>is_transform_noise_words_on</span></td><td><span>two_digit_year_cutoff</span></td><td><span>containment</span></td><td><span>containment_desc</span></td><td><span>target_recovery_time_in_seconds</span></td><td><span>delayed_durability</span></td><td><span>delayed_durability_desc</span></td><td><span>is_memory_optimized_elevate_to_snapshot_on</span></td><td><span>is_federation_member</span></td><td><span>is_remote_data_archive_enabled</span></td><td><span>is_mixed_page_allocation_on</span></td><td><span>is_temporal_history_retention_enabled</span></td><td><span>catalog_collation_type</span></td><td><span>catalog_collation_type_desc</span></td><td><span>physical_database_name</span></td><td><span>is_result_set_caching_on</span></td><td><span>is_accelerated_database_recovery_on</span></td><td><span>is_tempdb_spill_to_remote_store</span></td><td><span>is_stale_page_detection_on</span></td><td><span>is_memory_optimized_enabled</span></td><td><span>is_data_retention_enabled</span></td><td><span>is_ledger_on</span></td><td><span>is_change_feed_enabled</span></td><td><span>Label</span></td></tr></thead><tbody><tr><td><div class=\"dni-plaintext\"><pre>1</pre></div></td><td>master</td><td><div class=\"dni-plaintext\"><pre>1</pre></div></td><td><div class=\"dni-plaintext\"><pre>&lt;null&gt;</pre></div></td><td><div class=\"dni-plaintext\"><pre>&lt;null&gt;</pre></div></td><td><span>2003-04-08 09:13:36Z</span></td><td><div class=\"dni-plaintext\"><pre>160</pre></div></td><td>SQL_Latin1_General_CP1_CI_AS</td><td><div class=\"dni-plaintext\"><pre>0</pre></div></td><td>MULTI_USER</td><td><div class=\"dni-plaintext\"><pre>False</pre></div></td><td><div class=\"dni-plaintext\"><pre>False</pre></div></td><td><div class=\"dni-plaintext\"><pre>False</pre></div></td><td><div class=\"dni-plaintext\"><pre>0</pre></div></td><td>ONLINE</td><td><div class=\"dni-plaintext\"><pre>False</pre></div></td><td><div class=\"dni-plaintext\"><pre>False</pre></div></td><td><div class=\"dni-plaintext\"><pre>False</pre></div></td><td><div class=\"dni-plaintext\"><pre>1</pre></div></td><td>ON</td><td><div class=\"dni-plaintext\"><pre>False</pre></div></td><td><div class=\"dni-plaintext\"><pre>3</pre></div></td><td>SIMPLE</td><td><div class=\"dni-plaintext\"><pre>2</pre></div></td><td>CHECKSUM</td><td><div class=\"dni-plaintext\"><pre>True</pre></div></td><td><div class=\"dni-plaintext\"><pre>False</pre></div></td><td><div class=\"dni-plaintext\"><pre>True</pre></div></td><td><div class=\"dni-plaintext\"><pre>False</pre></div></td><td><div class=\"dni-plaintext\"><pre>False</pre></div></td><td><div class=\"dni-plaintext\"><pre>False</pre></div></td><td><div class=\"dni-plaintext\"><pre>False</pre></div></td><td><div class=\"dni-plaintext\"><pre>False</pre></div></td><td><div class=\"dni-plaintext\"><pre>False</pre></div></td><td><div class=\"dni-plaintext\"><pre>False</pre></div></td><td><div class=\"dni-plaintext\"><pre>False</pre></div></td><td><div class=\"dni-plaintext\"><pre>False</pre></div></td><td><div class=\"dni-plaintext\"><pre>False</pre></div></td><td><div class=\"dni-plaintext\"><pre>False</pre></div></td><td><div class=\"dni-plaintext\"><pre>False</pre></div></td><td><div class=\"dni-plaintext\"><pre>False</pre></div></td><td><div class=\"dni-plaintext\"><pre>False</pre></div></td><td><div class=\"dni-plaintext\"><pre>True</pre></div></td><td><div class=\"dni-plaintext\"><pre>False</pre></div></td><td><div class=\"dni-plaintext\"><pre>False</pre></div></td><td><div class=\"dni-plaintext\"><pre>False</pre></div></td><td><div class=\"dni-plaintext\"><pre>False</pre></div></td><td><div class=\"dni-plaintext\"><pre>False</pre></div></td><td><div class=\"dni-plaintext\"><pre>False</pre></div></td><td><div class=\"dni-plaintext\"><pre>False</pre></div></td><td><div class=\"dni-plaintext\"><pre>False</pre></div></td><td><div class=\"dni-plaintext\"><pre>00000000-0000-0000-0000-000000000000</pre></div></td><td><div class=\"dni-plaintext\"><pre>False</pre></div></td><td><div class=\"dni-plaintext\"><pre>1</pre></div></td><td>CHECKPOINT</td><td><div class=\"dni-plaintext\"><pre>False</pre></div></td><td><div class=\"dni-plaintext\"><pre>False</pre></div></td><td><div class=\"dni-plaintext\"><pre>False</pre></div></td><td><div class=\"dni-plaintext\"><pre>False</pre></div></td><td><div class=\"dni-plaintext\"><pre>&lt;null&gt;</pre></div></td><td><div class=\"dni-plaintext\"><pre>&lt;null&gt;</pre></div></td><td><div class=\"dni-plaintext\"><pre>&lt;null&gt;</pre></div></td><td><div class=\"dni-plaintext\"><pre>&lt;null&gt;</pre></div></td><td><div class=\"dni-plaintext\"><pre>&lt;null&gt;</pre></div></td><td><div class=\"dni-plaintext\"><pre>&lt;null&gt;</pre></div></td><td><div class=\"dni-plaintext\"><pre>&lt;null&gt;</pre></div></td><td><div class=\"dni-plaintext\"><pre>&lt;null&gt;</pre></div></td><td><div class=\"dni-plaintext\"><pre>&lt;null&gt;</pre></div></td><td><div class=\"dni-plaintext\"><pre>&lt;null&gt;</pre></div></td><td><div class=\"dni-plaintext\"><pre>0</pre></div></td><td>NONE</td><td><div class=\"dni-plaintext\"><pre>0</pre></div></td><td><div class=\"dni-plaintext\"><pre>0</pre></div></td><td>DISABLED</td><td><div class=\"dni-plaintext\"><pre>False</pre></div></td><td><div class=\"dni-plaintext\"><pre>False</pre></div></td><td><div class=\"dni-plaintext\"><pre>False</pre></div></td><td><div class=\"dni-plaintext\"><pre>True</pre></div></td><td><div class=\"dni-plaintext\"><pre>True</pre></div></td><td><div class=\"dni-plaintext\"><pre>0</pre></div></td><td>DATABASE_DEFAULT</td><td>master</td><td><div class=\"dni-plaintext\"><pre>False</pre></div></td><td><div class=\"dni-plaintext\"><pre>False</pre></div></td><td><div class=\"dni-plaintext\"><pre>False</pre></div></td><td><div class=\"dni-plaintext\"><pre>False</pre></div></td><td><div class=\"dni-plaintext\"><pre>True</pre></div></td><td><div class=\"dni-plaintext\"><pre>False</pre></div></td><td><div class=\"dni-plaintext\"><pre>False</pre></div></td><td><div class=\"dni-plaintext\"><pre>False</pre></div></td><td>dat</td></tr><tr><td><div class=\"dni-plaintext\"><pre>1</pre></div></td><td>tempdb</td><td><div class=\"dni-plaintext\"><pre>2</pre></div></td><td><div class=\"dni-plaintext\"><pre>&lt;null&gt;</pre></div></td><td><div class=\"dni-plaintext\"><pre>&lt;null&gt;</pre></div></td><td><span>2023-03-30 12:28:10Z</span></td><td><div class=\"dni-plaintext\"><pre>160</pre></div></td><td>SQL_Latin1_General_CP1_CI_AS</td><td><div class=\"dni-plaintext\"><pre>0</pre></div></td><td>MULTI_USER</td><td><div class=\"dni-plaintext\"><pre>False</pre></div></td><td><div class=\"dni-plaintext\"><pre>False</pre></div></td><td><div class=\"dni-plaintext\"><pre>False</pre></div></td><td><div class=\"dni-plaintext\"><pre>0</pre></div></td><td>ONLINE</td><td><div class=\"dni-plaintext\"><pre>False</pre></div></td><td><div class=\"dni-plaintext\"><pre>False</pre></div></td><td><div class=\"dni-plaintext\"><pre>False</pre></div></td><td><div class=\"dni-plaintext\"><pre>0</pre></div></td><td>OFF</td><td><div class=\"dni-plaintext\"><pre>False</pre></div></td><td><div class=\"dni-plaintext\"><pre>3</pre></div></td><td>SIMPLE</td><td><div class=\"dni-plaintext\"><pre>2</pre></div></td><td>CHECKSUM</td><td><div class=\"dni-plaintext\"><pre>True</pre></div></td><td><div class=\"dni-plaintext\"><pre>False</pre></div></td><td><div class=\"dni-plaintext\"><pre>True</pre></div></td><td><div class=\"dni-plaintext\"><pre>False</pre></div></td><td><div class=\"dni-plaintext\"><pre>False</pre></div></td><td><div class=\"dni-plaintext\"><pre>False</pre></div></td><td><div class=\"dni-plaintext\"><pre>False</pre></div></td><td><div class=\"dni-plaintext\"><pre>False</pre></div></td><td><div class=\"dni-plaintext\"><pre>False</pre></div></td><td><div class=\"dni-plaintext\"><pre>False</pre></div></td><td><div class=\"dni-plaintext\"><pre>False</pre></div></td><td><div class=\"dni-plaintext\"><pre>False</pre></div></td><td><div class=\"dni-plaintext\"><pre>False</pre></div></td><td><div class=\"dni-plaintext\"><pre>False</pre></div></td><td><div class=\"dni-plaintext\"><pre>False</pre></div></td><td><div class=\"dni-plaintext\"><pre>False</pre></div></td><td><div class=\"dni-plaintext\"><pre>False</pre></div></td><td><div class=\"dni-plaintext\"><pre>True</pre></div></td><td><div class=\"dni-plaintext\"><pre>False</pre></div></td><td><div class=\"dni-plaintext\"><pre>False</pre></div></td><td><div class=\"dni-plaintext\"><pre>False</pre></div></td><td><div class=\"dni-plaintext\"><pre>False</pre></div></td><td><div class=\"dni-plaintext\"><pre>False</pre></div></td><td><div class=\"dni-plaintext\"><pre>False</pre></div></td><td><div class=\"dni-plaintext\"><pre>False</pre></div></td><td><div class=\"dni-plaintext\"><pre>False</pre></div></td><td><div class=\"dni-plaintext\"><pre>0e7fa998-68e7-4c88-8637-96d75972d644</pre></div></td><td><div class=\"dni-plaintext\"><pre>True</pre></div></td><td><div class=\"dni-plaintext\"><pre>0</pre></div></td><td>NOTHING</td><td><div class=\"dni-plaintext\"><pre>False</pre></div></td><td><div class=\"dni-plaintext\"><pre>False</pre></div></td><td><div class=\"dni-plaintext\"><pre>False</pre></div></td><td><div class=\"dni-plaintext\"><pre>False</pre></div></td><td><div class=\"dni-plaintext\"><pre>&lt;null&gt;</pre></div></td><td><div class=\"dni-plaintext\"><pre>&lt;null&gt;</pre></div></td><td><div class=\"dni-plaintext\"><pre>&lt;null&gt;</pre></div></td><td><div class=\"dni-plaintext\"><pre>&lt;null&gt;</pre></div></td><td><div class=\"dni-plaintext\"><pre>&lt;null&gt;</pre></div></td><td><div class=\"dni-plaintext\"><pre>&lt;null&gt;</pre></div></td><td><div class=\"dni-plaintext\"><pre>&lt;null&gt;</pre></div></td><td><div class=\"dni-plaintext\"><pre>&lt;null&gt;</pre></div></td><td><div class=\"dni-plaintext\"><pre>&lt;null&gt;</pre></div></td><td><div class=\"dni-plaintext\"><pre>&lt;null&gt;</pre></div></td><td><div class=\"dni-plaintext\"><pre>0</pre></div></td><td>NONE</td><td><div class=\"dni-plaintext\"><pre>60</pre></div></td><td><div class=\"dni-plaintext\"><pre>0</pre></div></td><td>DISABLED</td><td><div class=\"dni-plaintext\"><pre>False</pre></div></td><td><div class=\"dni-plaintext\"><pre>False</pre></div></td><td><div class=\"dni-plaintext\"><pre>False</pre></div></td><td><div class=\"dni-plaintext\"><pre>False</pre></div></td><td><div class=\"dni-plaintext\"><pre>True</pre></div></td><td><div class=\"dni-plaintext\"><pre>0</pre></div></td><td>DATABASE_DEFAULT</td><td>tempdb</td><td><div class=\"dni-plaintext\"><pre>False</pre></div></td><td><div class=\"dni-plaintext\"><pre>False</pre></div></td><td><div class=\"dni-plaintext\"><pre>False</pre></div></td><td><div class=\"dni-plaintext\"><pre>False</pre></div></td><td><div class=\"dni-plaintext\"><pre>True</pre></div></td><td><div class=\"dni-plaintext\"><pre>False</pre></div></td><td><div class=\"dni-plaintext\"><pre>False</pre></div></td><td><div class=\"dni-plaintext\"><pre>False</pre></div></td><td>dat</td></tr><tr><td><div class=\"dni-plaintext\"><pre>1</pre></div></td><td>model</td><td><div class=\"dni-plaintext\"><pre>3</pre></div></td><td><div class=\"dni-plaintext\"><pre>&lt;null&gt;</pre></div></td><td><div class=\"dni-plaintext\"><pre>&lt;null&gt;</pre></div></td><td><span>2003-04-08 09:13:36Z</span></td><td><div class=\"dni-plaintext\"><pre>160</pre></div></td><td>SQL_Latin1_General_CP1_CI_AS</td><td><div class=\"dni-plaintext\"><pre>0</pre></div></td><td>MULTI_USER</td><td><div class=\"dni-plaintext\"><pre>False</pre></div></td><td><div class=\"dni-plaintext\"><pre>False</pre></div></td><td><div class=\"dni-plaintext\"><pre>False</pre></div></td><td><div class=\"dni-plaintext\"><pre>0</pre></div></td><td>ONLINE</td><td><div class=\"dni-plaintext\"><pre>False</pre></div></td><td><div class=\"dni-plaintext\"><pre>False</pre></div></td><td><div class=\"dni-plaintext\"><pre>False</pre></div></td><td><div class=\"dni-plaintext\"><pre>0</pre></div></td><td>OFF</td><td><div class=\"dni-plaintext\"><pre>False</pre></div></td><td><div class=\"dni-plaintext\"><pre>1</pre></div></td><td>FULL</td><td><div class=\"dni-plaintext\"><pre>2</pre></div></td><td>CHECKSUM</td><td><div class=\"dni-plaintext\"><pre>True</pre></div></td><td><div class=\"dni-plaintext\"><pre>False</pre></div></td><td><div class=\"dni-plaintext\"><pre>True</pre></div></td><td><div class=\"dni-plaintext\"><pre>False</pre></div></td><td><div class=\"dni-plaintext\"><pre>False</pre></div></td><td><div class=\"dni-plaintext\"><pre>False</pre></div></td><td><div class=\"dni-plaintext\"><pre>False</pre></div></td><td><div class=\"dni-plaintext\"><pre>False</pre></div></td><td><div class=\"dni-plaintext\"><pre>False</pre></div></td><td><div class=\"dni-plaintext\"><pre>False</pre></div></td><td><div class=\"dni-plaintext\"><pre>False</pre></div></td><td><div class=\"dni-plaintext\"><pre>False</pre></div></td><td><div class=\"dni-plaintext\"><pre>False</pre></div></td><td><div class=\"dni-plaintext\"><pre>False</pre></div></td><td><div class=\"dni-plaintext\"><pre>False</pre></div></td><td><div class=\"dni-plaintext\"><pre>False</pre></div></td><td><div class=\"dni-plaintext\"><pre>False</pre></div></td><td><div class=\"dni-plaintext\"><pre>False</pre></div></td><td><div class=\"dni-plaintext\"><pre>False</pre></div></td><td><div class=\"dni-plaintext\"><pre>False</pre></div></td><td><div class=\"dni-plaintext\"><pre>True</pre></div></td><td><div class=\"dni-plaintext\"><pre>False</pre></div></td><td><div class=\"dni-plaintext\"><pre>False</pre></div></td><td><div class=\"dni-plaintext\"><pre>False</pre></div></td><td><div class=\"dni-plaintext\"><pre>False</pre></div></td><td><div class=\"dni-plaintext\"><pre>False</pre></div></td><td><div class=\"dni-plaintext\"><pre>00000000-0000-0000-0000-000000000000</pre></div></td><td><div class=\"dni-plaintext\"><pre>False</pre></div></td><td><div class=\"dni-plaintext\"><pre>0</pre></div></td><td>NOTHING</td><td><div class=\"dni-plaintext\"><pre>False</pre></div></td><td><div class=\"dni-plaintext\"><pre>False</pre></div></td><td><div class=\"dni-plaintext\"><pre>False</pre></div></td><td><div class=\"dni-plaintext\"><pre>False</pre></div></td><td><div class=\"dni-plaintext\"><pre>&lt;null&gt;</pre></div></td><td><div class=\"dni-plaintext\"><pre>&lt;null&gt;</pre></div></td><td><div class=\"dni-plaintext\"><pre>&lt;null&gt;</pre></div></td><td><div class=\"dni-plaintext\"><pre>&lt;null&gt;</pre></div></td><td><div class=\"dni-plaintext\"><pre>&lt;null&gt;</pre></div></td><td><div class=\"dni-plaintext\"><pre>&lt;null&gt;</pre></div></td><td><div class=\"dni-plaintext\"><pre>&lt;null&gt;</pre></div></td><td><div class=\"dni-plaintext\"><pre>&lt;null&gt;</pre></div></td><td><div class=\"dni-plaintext\"><pre>&lt;null&gt;</pre></div></td><td><div class=\"dni-plaintext\"><pre>&lt;null&gt;</pre></div></td><td><div class=\"dni-plaintext\"><pre>0</pre></div></td><td>NONE</td><td><div class=\"dni-plaintext\"><pre>60</pre></div></td><td><div class=\"dni-plaintext\"><pre>0</pre></div></td><td>DISABLED</td><td><div class=\"dni-plaintext\"><pre>False</pre></div></td><td><div class=\"dni-plaintext\"><pre>False</pre></div></td><td><div class=\"dni-plaintext\"><pre>False</pre></div></td><td><div class=\"dni-plaintext\"><pre>True</pre></div></td><td><div class=\"dni-plaintext\"><pre>True</pre></div></td><td><div class=\"dni-plaintext\"><pre>0</pre></div></td><td>DATABASE_DEFAULT</td><td>model</td><td><div class=\"dni-plaintext\"><pre>False</pre></div></td><td><div class=\"dni-plaintext\"><pre>False</pre></div></td><td><div class=\"dni-plaintext\"><pre>False</pre></div></td><td><div class=\"dni-plaintext\"><pre>False</pre></div></td><td><div class=\"dni-plaintext\"><pre>True</pre></div></td><td><div class=\"dni-plaintext\"><pre>False</pre></div></td><td><div class=\"dni-plaintext\"><pre>False</pre></div></td><td><div class=\"dni-plaintext\"><pre>False</pre></div></td><td>dat</td></tr><tr><td><div class=\"dni-plaintext\"><pre>1</pre></div></td><td>msdb</td><td><div class=\"dni-plaintext\"><pre>4</pre></div></td><td><div class=\"dni-plaintext\"><pre>&lt;null&gt;</pre></div></td><td><div class=\"dni-plaintext\"><pre>&lt;null&gt;</pre></div></td><td><span>2023-02-27 16:18:05Z</span></td><td><div class=\"dni-plaintext\"><pre>160</pre></div></td><td>SQL_Latin1_General_CP1_CI_AS</td><td><div class=\"dni-plaintext\"><pre>0</pre></div></td><td>MULTI_USER</td><td><div class=\"dni-plaintext\"><pre>False</pre></div></td><td><div class=\"dni-plaintext\"><pre>False</pre></div></td><td><div class=\"dni-plaintext\"><pre>False</pre></div></td><td><div class=\"dni-plaintext\"><pre>0</pre></div></td><td>ONLINE</td><td><div class=\"dni-plaintext\"><pre>False</pre></div></td><td><div class=\"dni-plaintext\"><pre>False</pre></div></td><td><div class=\"dni-plaintext\"><pre>False</pre></div></td><td><div class=\"dni-plaintext\"><pre>1</pre></div></td><td>ON</td><td><div class=\"dni-plaintext\"><pre>False</pre></div></td><td><div class=\"dni-plaintext\"><pre>3</pre></div></td><td>SIMPLE</td><td><div class=\"dni-plaintext\"><pre>2</pre></div></td><td>CHECKSUM</td><td><div class=\"dni-plaintext\"><pre>True</pre></div></td><td><div class=\"dni-plaintext\"><pre>False</pre></div></td><td><div class=\"dni-plaintext\"><pre>True</pre></div></td><td><div class=\"dni-plaintext\"><pre>False</pre></div></td><td><div class=\"dni-plaintext\"><pre>False</pre></div></td><td><div class=\"dni-plaintext\"><pre>False</pre></div></td><td><div class=\"dni-plaintext\"><pre>False</pre></div></td><td><div class=\"dni-plaintext\"><pre>False</pre></div></td><td><div class=\"dni-plaintext\"><pre>False</pre></div></td><td><div class=\"dni-plaintext\"><pre>False</pre></div></td><td><div class=\"dni-plaintext\"><pre>False</pre></div></td><td><div class=\"dni-plaintext\"><pre>False</pre></div></td><td><div class=\"dni-plaintext\"><pre>False</pre></div></td><td><div class=\"dni-plaintext\"><pre>False</pre></div></td><td><div class=\"dni-plaintext\"><pre>False</pre></div></td><td><div class=\"dni-plaintext\"><pre>True</pre></div></td><td><div class=\"dni-plaintext\"><pre>True</pre></div></td><td><div class=\"dni-plaintext\"><pre>True</pre></div></td><td><div class=\"dni-plaintext\"><pre>False</pre></div></td><td><div class=\"dni-plaintext\"><pre>False</pre></div></td><td><div class=\"dni-plaintext\"><pre>False</pre></div></td><td><div class=\"dni-plaintext\"><pre>False</pre></div></td><td><div class=\"dni-plaintext\"><pre>False</pre></div></td><td><div class=\"dni-plaintext\"><pre>False</pre></div></td><td><div class=\"dni-plaintext\"><pre>False</pre></div></td><td><div class=\"dni-plaintext\"><pre>False</pre></div></td><td><div class=\"dni-plaintext\"><pre>c4443c83-fde7-423c-b8cd-56460261170d</pre></div></td><td><div class=\"dni-plaintext\"><pre>True</pre></div></td><td><div class=\"dni-plaintext\"><pre>0</pre></div></td><td>NOTHING</td><td><div class=\"dni-plaintext\"><pre>False</pre></div></td><td><div class=\"dni-plaintext\"><pre>False</pre></div></td><td><div class=\"dni-plaintext\"><pre>False</pre></div></td><td><div class=\"dni-plaintext\"><pre>False</pre></div></td><td><div class=\"dni-plaintext\"><pre>&lt;null&gt;</pre></div></td><td><div class=\"dni-plaintext\"><pre>&lt;null&gt;</pre></div></td><td><div class=\"dni-plaintext\"><pre>&lt;null&gt;</pre></div></td><td><div class=\"dni-plaintext\"><pre>&lt;null&gt;</pre></div></td><td><div class=\"dni-plaintext\"><pre>&lt;null&gt;</pre></div></td><td><div class=\"dni-plaintext\"><pre>&lt;null&gt;</pre></div></td><td><div class=\"dni-plaintext\"><pre>&lt;null&gt;</pre></div></td><td><div class=\"dni-plaintext\"><pre>&lt;null&gt;</pre></div></td><td><div class=\"dni-plaintext\"><pre>&lt;null&gt;</pre></div></td><td><div class=\"dni-plaintext\"><pre>&lt;null&gt;</pre></div></td><td><div class=\"dni-plaintext\"><pre>0</pre></div></td><td>NONE</td><td><div class=\"dni-plaintext\"><pre>60</pre></div></td><td><div class=\"dni-plaintext\"><pre>0</pre></div></td><td>DISABLED</td><td><div class=\"dni-plaintext\"><pre>False</pre></div></td><td><div class=\"dni-plaintext\"><pre>False</pre></div></td><td><div class=\"dni-plaintext\"><pre>False</pre></div></td><td><div class=\"dni-plaintext\"><pre>True</pre></div></td><td><div class=\"dni-plaintext\"><pre>True</pre></div></td><td><div class=\"dni-plaintext\"><pre>0</pre></div></td><td>DATABASE_DEFAULT</td><td>msdb</td><td><div class=\"dni-plaintext\"><pre>False</pre></div></td><td><div class=\"dni-plaintext\"><pre>False</pre></div></td><td><div class=\"dni-plaintext\"><pre>False</pre></div></td><td><div class=\"dni-plaintext\"><pre>False</pre></div></td><td><div class=\"dni-plaintext\"><pre>True</pre></div></td><td><div class=\"dni-plaintext\"><pre>False</pre></div></td><td><div class=\"dni-plaintext\"><pre>False</pre></div></td><td><div class=\"dni-plaintext\"><pre>False</pre></div></td><td>dat</td></tr></tbody></table><style>\r\n",
       ".dni-code-hint {\r\n",
       "    font-style: italic;\r\n",
       "    overflow: hidden;\r\n",
       "    white-space: nowrap;\r\n",
       "}\r\n",
       ".dni-treeview {\r\n",
       "    white-space: nowrap;\r\n",
       "}\r\n",
       ".dni-treeview td {\r\n",
       "    vertical-align: top;\r\n",
       "    text-align: start;\r\n",
       "}\r\n",
       "details.dni-treeview {\r\n",
       "    padding-left: 1em;\r\n",
       "}\r\n",
       "table td {\r\n",
       "    text-align: start;\r\n",
       "}\r\n",
       "table tr { \r\n",
       "    vertical-align: top; \r\n",
       "    margin: 0em 0px;\r\n",
       "}\r\n",
       "table tr td pre \r\n",
       "{ \r\n",
       "    vertical-align: top !important; \r\n",
       "    margin: 0em 0px !important;\r\n",
       "} \r\n",
       "table th {\r\n",
       "    text-align: start;\r\n",
       "}\r\n",
       "</style>"
      ]
     },
     "metadata": {},
     "output_type": "display_data"
    }
   ],
   "source": [
    "#!sql-MIDAMDATA --name trainingdata\n",
    "--this is, I KID YOU NOT, T-sql that runs in the db connected to from above\n",
    "DECLARE @whatnot as int = 1;\n",
    "select @whatnot as [Feature1], *, 'dat' as [Label] from master.sys.databases"
   ]
  },
  {
   "cell_type": "code",
   "execution_count": 4,
   "metadata": {
    "dotnet_interactive": {
     "language": "csharp"
    },
    "polyglot_notebook": {
     "kernelName": "csharp"
    }
   },
   "outputs": [
    {
     "data": {
      "text/html": [
       "<div class=\"dni-plaintext\"><pre>1</pre></div><style>\r\n",
       ".dni-code-hint {\r\n",
       "    font-style: italic;\r\n",
       "    overflow: hidden;\r\n",
       "    white-space: nowrap;\r\n",
       "}\r\n",
       ".dni-treeview {\r\n",
       "    white-space: nowrap;\r\n",
       "}\r\n",
       ".dni-treeview td {\r\n",
       "    vertical-align: top;\r\n",
       "    text-align: start;\r\n",
       "}\r\n",
       "details.dni-treeview {\r\n",
       "    padding-left: 1em;\r\n",
       "}\r\n",
       "table td {\r\n",
       "    text-align: start;\r\n",
       "}\r\n",
       "table tr { \r\n",
       "    vertical-align: top; \r\n",
       "    margin: 0em 0px;\r\n",
       "}\r\n",
       "table tr td pre \r\n",
       "{ \r\n",
       "    vertical-align: top !important; \r\n",
       "    margin: 0em 0px !important;\r\n",
       "} \r\n",
       "table th {\r\n",
       "    text-align: start;\r\n",
       "}\r\n",
       "</style>"
      ]
     },
     "metadata": {},
     "output_type": "display_data"
    }
   ],
   "source": [
    "#!share --from sql-MIDAMDATA trainingdata\n",
    "trainingdata.ToArray().Length"
   ]
  },
  {
   "cell_type": "code",
   "execution_count": null,
   "metadata": {
    "dotnet_interactive": {
     "language": "javascript"
    },
    "polyglot_notebook": {
     "kernelName": "javascript"
    }
   },
   "outputs": [],
   "source": [
    "#!share --from sql-MIDAMDATA trainingdata\n",
    "console.log(trainingdata)"
   ]
  },
  {
   "cell_type": "code",
   "execution_count": 8,
   "metadata": {
    "dotnet_interactive": {
     "language": "csharp"
    },
    "polyglot_notebook": {
     "kernelName": "csharp"
    }
   },
   "outputs": [
    {
     "data": {
      "text/html": [
       "<div><div></div><div></div><div><strong>Installed Packages</strong><ul><li><span>RazorInteractive, 1.1.8</span></li></ul></div></div>"
      ]
     },
     "metadata": {},
     "output_type": "display_data"
    },
    {
     "data": {
      "text/plain": [
       "Loading extensions from `C:\\Users\\gary\\.nuget\\packages\\razorinteractive\\1.1.8\\interactive-extensions\\dotnet\\RazorInteractive.dll`"
      ]
     },
     "metadata": {},
     "output_type": "display_data"
    },
    {
     "data": {
      "text/html": [
       "<details>\n",
       "    <summary>Renders the code block as Razor markup in dotnet-interactive notebooks.</summary>\n",
       "    <p>This extension adds a new kernel that can render Razor markdown.</p>\n",
       "    <p>All C# and F# variables are available in the <code>@Model</code> property.</p>\n",
       "</details>"
      ]
     },
     "metadata": {},
     "output_type": "display_data"
    }
   ],
   "source": [
    "#r \"nuget: RazorInteractive, 1.1.8\"\n",
    "//https://learn.microsoft.com/en-us/aspnet/core/mvc/views/razor?view=aspnetcore-5.0#razor-reserved-keywords\n",
    "//https://plbonneville.com/blog/introducing-the-dotnet-interactive-notebooks-razor-extension/"
   ]
  },
  {
   "cell_type": "code",
   "execution_count": null,
   "metadata": {
    "dotnet_interactive": {
     "language": "csharp"
    },
    "polyglot_notebook": {
     "kernelName": "csharp"
    }
   },
   "outputs": [],
   "source": [
    "#!share --from sql-MIDAMDATA trainingdata\n",
    "trainingdata.ToArray().Length"
   ]
  },
  {
   "cell_type": "code",
   "execution_count": 6,
   "metadata": {
    "dotnet_interactive": {
     "language": "csharp"
    },
    "polyglot_notebook": {
     "kernelName": "csharp"
    }
   },
   "outputs": [
    {
     "data": {
      "text/html": [
       "<div><div></div><div></div><div><strong>Installed Packages</strong><ul><li><span>BlazorInteractive, 1.1.5</span></li></ul></div></div>"
      ]
     },
     "metadata": {},
     "output_type": "display_data"
    },
    {
     "data": {
      "text/plain": [
       "Loading extensions from `C:\\Users\\gary\\.nuget\\packages\\blazorinteractive\\1.1.5\\interactive-extensions\\dotnet\\BlazorInteractive.dll`"
      ]
     },
     "metadata": {},
     "output_type": "display_data"
    },
    {
     "data": {
      "text/html": [
       "<details>\n",
       "    <summary>Compile and render Razor components (.razor) in .NET Interactive Notebooks.</summary>\n",
       "    <p>This extension adds a new kernel that can render Blazor markdown.</p>\n",
       "\n",
       "    <pre>\n",
       "        <code>\n",
       "#!blazor\n",
       "<h1>Counter</h1>\n",
       "\n",
       "<p>\n",
       "    Current count: @currentCount\n",
       "</p>\n",
       "\n",
       "@code {\n",
       "  int currentCount = 0;\n",
       "}</code>\n",
       "    </pre>\n",
       "\n",
       "    <p>This extension also adds the compiled component as a type to the interactive workspace.</p>\n",
       "\n",
       "    <p>Options:</p>\n",
       "    <ul>\n",
       "    <li>-n, --name &nbsp;&nbsp;&nbsp;&nbsp;The Razor component's (.razor) type name. The default value is <code>__Main</code></li>\n",
       "    </ul>\n",
       "</details>"
      ]
     },
     "metadata": {},
     "output_type": "display_data"
    }
   ],
   "source": [
    "#r \"nuget: BlazorInteractive, 1.1.5\""
   ]
  },
  {
   "attachments": {},
   "cell_type": "markdown",
   "metadata": {},
   "source": [
    "[Conversation with GPT about sharing variables across kernels without magic command](https://sharegpt.com/c/lvaYObE)"
   ]
  },
  {
   "cell_type": "code",
   "execution_count": 28,
   "metadata": {
    "dotnet_interactive": {
     "language": "csharp"
    },
    "polyglot_notebook": {
     "kernelName": "csharp"
    }
   },
   "outputs": [
    {
     "data": {
      "text/html": [
       "<div id=\"razorExtension85c93fdc91284aa6bdb905fd1748dd8e\"><p>Hello, the number of rows in the data is <b>1</b></p>\r\n",
       "\r\n",
       "<ol>\r\n",
       "    <li>[&#xD;&#xA;  {&#xD;&#xA;    &quot;profile&quot;: &quot;tabular-data-resource&quot;,&#xD;&#xA;    &quot;schema&quot;: {&#xD;&#xA;      &quot;primaryKey&quot;: [],&#xD;&#xA;      &quot;fields&quot;: [&#xD;&#xA;        {&#xD;&#xA;          &quot;type&quot;: &quot;integer&quot;,&#xD;&#xA;          &quot;name&quot;: &quot;Feature1&quot;&#xD;&#xA;        },&#xD;&#xA;        {&#xD;&#xA;          &quot;type&quot;: &quot;string&quot;,&#xD;&#xA;          &quot;name&quot;: &quot;name&quot;&#xD;&#xA;        },&#xD;&#xA;        {&#xD;&#xA;          &quot;type&quot;: &quot;integer&quot;,&#xD;&#xA;          &quot;name&quot;: &quot;database_id&quot;&#xD;&#xA;        },&#xD;&#xA;        {&#xD;&#xA;          &quot;type&quot;: &quot;integer&quot;,&#xD;&#xA;          &quot;name&quot;: &quot;source_database_id&quot;&#xD;&#xA;        },&#xD;&#xA;        {&#xD;&#xA;          &quot;type&quot;: &quot;any&quot;,&#xD;&#xA;          &quot;name&quot;: &quot;owner_sid&quot;&#xD;&#xA;        },&#xD;&#xA;        {&#xD;&#xA;          &quot;type&quot;: &quot;datetime&quot;,&#xD;&#xA;          &quot;name&quot;: &quot;create_date&quot;&#xD;&#xA;        },&#xD;&#xA;        {&#xD;&#xA;          &quot;type&quot;: &quot;any&quot;,&#xD;&#xA;          &quot;name&quot;: &quot;compatibility_level&quot;&#xD;&#xA;        },&#xD;&#xA;        {&#xD;&#xA;          &quot;type&quot;: &quot;string&quot;,&#xD;&#xA;          &quot;name&quot;: &quot;collation_name&quot;&#xD;&#xA;        },&#xD;&#xA;        {&#xD;&#xA;          &quot;type&quot;: &quot;any&quot;,&#xD;&#xA;          &quot;name&quot;: &quot;user_access&quot;&#xD;&#xA;        },&#xD;&#xA;        {&#xD;&#xA;          &quot;type&quot;: &quot;string&quot;,&#xD;&#xA;          &quot;name&quot;: &quot;user_access_desc&quot;&#xD;&#xA;        },&#xD;&#xA;        {&#xD;&#xA;          &quot;type&quot;: &quot;boolean&quot;,&#xD;&#xA;          &quot;name&quot;: &quot;is_read_only&quot;&#xD;&#xA;        },&#xD;&#xA;        {&#xD;&#xA;          &quot;type&quot;: &quot;boolean&quot;,&#xD;&#xA;          &quot;name&quot;: &quot;is_auto_close_on&quot;&#xD;&#xA;        },&#xD;&#xA;        {&#xD;&#xA;          &quot;type&quot;: &quot;boolean&quot;,&#xD;&#xA;          &quot;name&quot;: &quot;is_auto_shrink_on&quot;&#xD;&#xA;        },&#xD;&#xA;        {&#xD;&#xA;          &quot;type&quot;: &quot;any&quot;,&#xD;&#xA;          &quot;name&quot;: &quot;state&quot;&#xD;&#xA;        },&#xD;&#xA;        {&#xD;&#xA;          &quot;type&quot;: &quot;string&quot;,&#xD;&#xA;          &quot;name&quot;: &quot;state_desc&quot;&#xD;&#xA;        },&#xD;&#xA;        {&#xD;&#xA;          &quot;type&quot;: &quot;boolean&quot;,&#xD;&#xA;          &quot;name&quot;: &quot;is_in_standby&quot;&#xD;&#xA;        },&#xD;&#xA;        {&#xD;&#xA;          &quot;type&quot;: &quot;boolean&quot;,&#xD;&#xA;          &quot;name&quot;: &quot;is_cleanly_shutdown&quot;&#xD;&#xA;        },&#xD;&#xA;        {&#xD;&#xA;          &quot;type&quot;: &quot;boolean&quot;,&#xD;&#xA;          &quot;name&quot;: &quot;is_supplemental_logging_enabled&quot;&#xD;&#xA;        },&#xD;&#xA;        {&#xD;&#xA;          &quot;type&quot;: &quot;any&quot;,&#xD;&#xA;          &quot;name&quot;: &quot;snapshot_isolation_state&quot;&#xD;&#xA;        },&#xD;&#xA;        {&#xD;&#xA;          &quot;type&quot;: &quot;string&quot;,&#xD;&#xA;          &quot;name&quot;: &quot;snapshot_isolation_state_desc&quot;&#xD;&#xA;        },&#xD;&#xA;        {&#xD;&#xA;          &quot;type&quot;: &quot;boolean&quot;,&#xD;&#xA;          &quot;name&quot;: &quot;is_read_committed_snapshot_on&quot;&#xD;&#xA;        },&#xD;&#xA;        {&#xD;&#xA;          &quot;type&quot;: &quot;any&quot;,&#xD;&#xA;          &quot;name&quot;: &quot;recovery_model&quot;&#xD;&#xA;        },&#xD;&#xA;        {&#xD;&#xA;          &quot;type&quot;: &quot;string&quot;,&#xD;&#xA;          &quot;name&quot;: &quot;recovery_model_desc&quot;&#xD;&#xA;        },&#xD;&#xA;        {&#xD;&#xA;          &quot;type&quot;: &quot;any&quot;,&#xD;&#xA;          &quot;name&quot;: &quot;page_verify_option&quot;&#xD;&#xA;        },&#xD;&#xA;        {&#xD;&#xA;          &quot;type&quot;: &quot;string&quot;,&#xD;&#xA;          &quot;name&quot;: &quot;page_verify_option_desc&quot;&#xD;&#xA;        },&#xD;&#xA;        {&#xD;&#xA;          &quot;type&quot;: &quot;boolean&quot;,&#xD;&#xA;          &quot;name&quot;: &quot;is_auto_create_stats_on&quot;&#xD;&#xA;        },&#xD;&#xA;        {&#xD;&#xA;          &quot;type&quot;: &quot;boolean&quot;,&#xD;&#xA;          &quot;name&quot;: &quot;is_auto_create_stats_incremental_on&quot;&#xD;&#xA;        },&#xD;&#xA;        {&#xD;&#xA;          &quot;type&quot;: &quot;boolean&quot;,&#xD;&#xA;          &quot;name&quot;: &quot;is_auto_update_stats_on&quot;&#xD;&#xA;        },&#xD;&#xA;        {&#xD;&#xA;          &quot;type&quot;: &quot;boolean&quot;,&#xD;&#xA;          &quot;name&quot;: &quot;is_auto_update_stats_async_on&quot;&#xD;&#xA;        },&#xD;&#xA;        {&#xD;&#xA;          &quot;type&quot;: &quot;boolean&quot;,&#xD;&#xA;          &quot;name&quot;: &quot;is_ansi_null_default_on&quot;&#xD;&#xA;        },&#xD;&#xA;        {&#xD;&#xA;          &quot;type&quot;: &quot;boolean&quot;,&#xD;&#xA;          &quot;name&quot;: &quot;is_ansi_nulls_on&quot;&#xD;&#xA;        },&#xD;&#xA;        {&#xD;&#xA;          &quot;type&quot;: &quot;boolean&quot;,&#xD;&#xA;          &quot;name&quot;: &quot;is_ansi_padding_on&quot;&#xD;&#xA;        },&#xD;&#xA;        {&#xD;&#xA;          &quot;type&quot;: &quot;boolean&quot;,&#xD;&#xA;          &quot;name&quot;: &quot;is_ansi_warnings_on&quot;&#xD;&#xA;        },&#xD;&#xA;        {&#xD;&#xA;          &quot;type&quot;: &quot;boolean&quot;,&#xD;&#xA;          &quot;name&quot;: &quot;is_arithabort_on&quot;&#xD;&#xA;        },&#xD;&#xA;        {&#xD;&#xA;          &quot;type&quot;: &quot;boolean&quot;,&#xD;&#xA;          &quot;name&quot;: &quot;is_concat_null_yields_null_on&quot;&#xD;&#xA;        },&#xD;&#xA;        {&#xD;&#xA;          &quot;type&quot;: &quot;boolean&quot;,&#xD;&#xA;          &quot;name&quot;: &quot;is_numeric_roundabort_on&quot;&#xD;&#xA;        },&#xD;&#xA;        {&#xD;&#xA;          &quot;type&quot;: &quot;boolean&quot;,&#xD;&#xA;          &quot;name&quot;: &quot;is_quoted_identifier_on&quot;&#xD;&#xA;        },&#xD;&#xA;        {&#xD;&#xA;          &quot;type&quot;: &quot;boolean&quot;,&#xD;&#xA;          &quot;name&quot;: &quot;is_recursive_triggers_on&quot;&#xD;&#xA;        },&#xD;&#xA;        {&#xD;&#xA;          &quot;type&quot;: &quot;boolean&quot;,&#xD;&#xA;          &quot;name&quot;: &quot;is_cursor_close_on_commit_on&quot;&#xD;&#xA;        },&#xD;&#xA;        {&#xD;&#xA;          &quot;type&quot;: &quot;boolean&quot;,&#xD;&#xA;          &quot;name&quot;: &quot;is_local_cursor_default&quot;&#xD;&#xA;        },&#xD;&#xA;        {&#xD;&#xA;          &quot;type&quot;: &quot;boolean&quot;,&#xD;&#xA;          &quot;name&quot;: &quot;is_fulltext_enabled&quot;&#xD;&#xA;        },&#xD;&#xA;        {&#xD;&#xA;          &quot;type&quot;: &quot;boolean&quot;,&#xD;&#xA;          &quot;name&quot;: &quot;is_trustworthy_on&quot;&#xD;&#xA;        },&#xD;&#xA;        {&#xD;&#xA;          &quot;type&quot;: &quot;boolean&quot;,&#xD;&#xA;          &quot;name&quot;: &quot;is_db_chaining_on&quot;&#xD;&#xA;        },&#xD;&#xA;        {&#xD;&#xA;          &quot;type&quot;: &quot;boolean&quot;,&#xD;&#xA;          &quot;name&quot;: &quot;is_parameterization_forced&quot;&#xD;&#xA;        },&#xD;&#xA;        {&#xD;&#xA;          &quot;type&quot;: &quot;boolean&quot;,&#xD;&#xA;          &quot;name&quot;: &quot;is_master_key_encrypted_by_server&quot;&#xD;&#xA;        },&#xD;&#xA;        {&#xD;&#xA;          &quot;type&quot;: &quot;boolean&quot;,&#xD;&#xA;          &quot;name&quot;: &quot;is_query_store_on&quot;&#xD;&#xA;        },&#xD;&#xA;        {&#xD;&#xA;          &quot;type&quot;: &quot;boolean&quot;,&#xD;&#xA;          &quot;name&quot;: &quot;is_published&quot;&#xD;&#xA;        },&#xD;&#xA;        {&#xD;&#xA;          &quot;type&quot;: &quot;boolean&quot;,&#xD;&#xA;          &quot;name&quot;: &quot;is_subscribed&quot;&#xD;&#xA;        },&#xD;&#xA;        {&#xD;&#xA;          &quot;type&quot;: &quot;boolean&quot;,&#xD;&#xA;          &quot;name&quot;: &quot;is_merge_published&quot;&#xD;&#xA;        },&#xD;&#xA;        {&#xD;&#xA;          &quot;type&quot;: &quot;boolean&quot;,&#xD;&#xA;          &quot;name&quot;: &quot;is_distributor&quot;&#xD;&#xA;        },&#xD;&#xA;        {&#xD;&#xA;          &quot;type&quot;: &quot;boolean&quot;,&#xD;&#xA;          &quot;name&quot;: &quot;is_sync_with_backup&quot;&#xD;&#xA;        },&#xD;&#xA;        {&#xD;&#xA;          &quot;type&quot;: &quot;any&quot;,&#xD;&#xA;          &quot;name&quot;: &quot;service_broker_guid&quot;&#xD;&#xA;        },&#xD;&#xA;        {&#xD;&#xA;          &quot;type&quot;: &quot;boolean&quot;,&#xD;&#xA;          &quot;name&quot;: &quot;is_broker_enabled&quot;&#xD;&#xA;        },&#xD;&#xA;        {&#xD;&#xA;          &quot;type&quot;: &quot;any&quot;,&#xD;&#xA;          &quot;name&quot;: &quot;log_reuse_wait&quot;&#xD;&#xA;        },&#xD;&#xA;        {&#xD;&#xA;          &quot;type&quot;: &quot;string&quot;,&#xD;&#xA;          &quot;name&quot;: &quot;log_reuse_wait_desc&quot;&#xD;&#xA;        },&#xD;&#xA;        {&#xD;&#xA;          &quot;type&quot;: &quot;boolean&quot;,&#xD;&#xA;          &quot;name&quot;: &quot;is_date_correlation_on&quot;&#xD;&#xA;        },&#xD;&#xA;        {&#xD;&#xA;          &quot;type&quot;: &quot;boolean&quot;,&#xD;&#xA;          &quot;name&quot;: &quot;is_cdc_enabled&quot;&#xD;&#xA;        },&#xD;&#xA;        {&#xD;&#xA;          &quot;type&quot;: &quot;boolean&quot;,&#xD;&#xA;          &quot;name&quot;: &quot;is_encrypted&quot;&#xD;&#xA;        },&#xD;&#xA;        {&#xD;&#xA;          &quot;type&quot;: &quot;boolean&quot;,&#xD;&#xA;          &quot;name&quot;: &quot;is_honor_broker_priority_on&quot;&#xD;&#xA;        },&#xD;&#xA;        {&#xD;&#xA;          &quot;type&quot;: &quot;any&quot;,&#xD;&#xA;          &quot;name&quot;: &quot;replica_id&quot;&#xD;&#xA;        },&#xD;&#xA;        {&#xD;&#xA;          &quot;type&quot;: &quot;any&quot;,&#xD;&#xA;          &quot;name&quot;: &quot;group_database_id&quot;&#xD;&#xA;        },&#xD;&#xA;        {&#xD;&#xA;          &quot;type&quot;: &quot;integer&quot;,&#xD;&#xA;          &quot;name&quot;: &quot;resource_pool_id&quot;&#xD;&#xA;        },&#xD;&#xA;        {&#xD;&#xA;          &quot;type&quot;: &quot;any&quot;,&#xD;&#xA;          &quot;name&quot;: &quot;default_language_lcid&quot;&#xD;&#xA;        },&#xD;&#xA;        {&#xD;&#xA;          &quot;type&quot;: &quot;string&quot;,&#xD;&#xA;          &quot;name&quot;: &quot;default_language_name&quot;&#xD;&#xA;        },&#xD;&#xA;        {&#xD;&#xA;          &quot;type&quot;: &quot;integer&quot;,&#xD;&#xA;          &quot;name&quot;: &quot;default_fulltext_language_lcid&quot;&#xD;&#xA;        },&#xD;&#xA;        {&#xD;&#xA;          &quot;type&quot;: &quot;string&quot;,&#xD;&#xA;          &quot;name&quot;: &quot;default_fulltext_language_name&quot;&#xD;&#xA;        },&#xD;&#xA;        {&#xD;&#xA;          &quot;type&quot;: &quot;boolean&quot;,&#xD;&#xA;          &quot;name&quot;: &quot;is_nested_triggers_on&quot;&#xD;&#xA;        },&#xD;&#xA;        {&#xD;&#xA;          &quot;type&quot;: &quot;boolean&quot;,&#xD;&#xA;          &quot;name&quot;: &quot;is_transform_noise_words_on&quot;&#xD;&#xA;        },&#xD;&#xA;        {&#xD;&#xA;          &quot;type&quot;: &quot;any&quot;,&#xD;&#xA;          &quot;name&quot;: &quot;two_digit_year_cutoff&quot;&#xD;&#xA;        },&#xD;&#xA;        {&#xD;&#xA;          &quot;type&quot;: &quot;any&quot;,&#xD;&#xA;          &quot;name&quot;: &quot;containment&quot;&#xD;&#xA;        },&#xD;&#xA;        {&#xD;&#xA;          &quot;type&quot;: &quot;string&quot;,&#xD;&#xA;          &quot;name&quot;: &quot;containment_desc&quot;&#xD;&#xA;        },&#xD;&#xA;        {&#xD;&#xA;          &quot;type&quot;: &quot;integer&quot;,&#xD;&#xA;          &quot;name&quot;: &quot;target_recovery_time_in_seconds&quot;&#xD;&#xA;        },&#xD;&#xA;        {&#xD;&#xA;          &quot;type&quot;: &quot;integer&quot;,&#xD;&#xA;          &quot;name&quot;: &quot;delayed_durability&quot;&#xD;&#xA;        },&#xD;&#xA;        {&#xD;&#xA;          &quot;type&quot;: &quot;string&quot;,&#xD;&#xA;          &quot;name&quot;: &quot;delayed_durability_desc&quot;&#xD;&#xA;        },&#xD;&#xA;        {&#xD;&#xA;          &quot;type&quot;: &quot;boolean&quot;,&#xD;&#xA;          &quot;name&quot;: &quot;is_memory_optimized_elevate_to_snapshot_on&quot;&#xD;&#xA;        },&#xD;&#xA;        {&#xD;&#xA;          &quot;type&quot;: &quot;boolean&quot;,&#xD;&#xA;          &quot;name&quot;: &quot;is_federation_member&quot;&#xD;&#xA;        },&#xD;&#xA;        {&#xD;&#xA;          &quot;type&quot;: &quot;boolean&quot;,&#xD;&#xA;          &quot;name&quot;: &quot;is_remote_data_archive_enabled&quot;&#xD;&#xA;        },&#xD;&#xA;        {&#xD;&#xA;          &quot;type&quot;: &quot;boolean&quot;,&#xD;&#xA;          &quot;name&quot;: &quot;is_mixed_page_allocation_on&quot;&#xD;&#xA;        },&#xD;&#xA;        {&#xD;&#xA;          &quot;type&quot;: &quot;boolean&quot;,&#xD;&#xA;          &quot;name&quot;: &quot;is_temporal_history_retention_enabled&quot;&#xD;&#xA;        },&#xD;&#xA;        {&#xD;&#xA;          &quot;type&quot;: &quot;integer&quot;,&#xD;&#xA;          &quot;name&quot;: &quot;catalog_collation_type&quot;&#xD;&#xA;        },&#xD;&#xA;        {&#xD;&#xA;          &quot;type&quot;: &quot;string&quot;,&#xD;&#xA;          &quot;name&quot;: &quot;catalog_collation_type_desc&quot;&#xD;&#xA;        },&#xD;&#xA;        {&#xD;&#xA;          &quot;type&quot;: &quot;string&quot;,&#xD;&#xA;          &quot;name&quot;: &quot;physical_database_name&quot;&#xD;&#xA;        },&#xD;&#xA;        {&#xD;&#xA;          &quot;type&quot;: &quot;boolean&quot;,&#xD;&#xA;          &quot;name&quot;: &quot;is_result_set_caching_on&quot;&#xD;&#xA;        },&#xD;&#xA;        {&#xD;&#xA;          &quot;type&quot;: &quot;boolean&quot;,&#xD;&#xA;          &quot;name&quot;: &quot;is_accelerated_database_recovery_on&quot;&#xD;&#xA;        },&#xD;&#xA;        {&#xD;&#xA;          &quot;type&quot;: &quot;boolean&quot;,&#xD;&#xA;          &quot;name&quot;: &quot;is_tempdb_spill_to_remote_store&quot;&#xD;&#xA;        },&#xD;&#xA;        {&#xD;&#xA;          &quot;type&quot;: &quot;boolean&quot;,&#xD;&#xA;          &quot;name&quot;: &quot;is_stale_page_detection_on&quot;&#xD;&#xA;        },&#xD;&#xA;        {&#xD;&#xA;          &quot;type&quot;: &quot;boolean&quot;,&#xD;&#xA;          &quot;name&quot;: &quot;is_memory_optimized_enabled&quot;&#xD;&#xA;        },&#xD;&#xA;        {&#xD;&#xA;          &quot;type&quot;: &quot;boolean&quot;,&#xD;&#xA;          &quot;name&quot;: &quot;is_data_retention_enabled&quot;&#xD;&#xA;        },&#xD;&#xA;        {&#xD;&#xA;          &quot;type&quot;: &quot;boolean&quot;,&#xD;&#xA;          &quot;name&quot;: &quot;is_ledger_on&quot;&#xD;&#xA;        },&#xD;&#xA;        {&#xD;&#xA;          &quot;type&quot;: &quot;boolean&quot;,&#xD;&#xA;          &quot;name&quot;: &quot;is_change_feed_enabled&quot;&#xD;&#xA;        },&#xD;&#xA;        {&#xD;&#xA;          &quot;type&quot;: &quot;string&quot;,&#xD;&#xA;          &quot;name&quot;: &quot;Label&quot;&#xD;&#xA;        }&#xD;&#xA;      ]&#xD;&#xA;    },&#xD;&#xA;    &quot;data&quot;: [&#xD;&#xA;      {&#xD;&#xA;        &quot;Feature1&quot;: 1,&#xD;&#xA;        &quot;name&quot;: &quot;master&quot;,&#xD;&#xA;        &quot;database_id&quot;: 1,&#xD;&#xA;        &quot;source_database_id&quot;: null,&#xD;&#xA;        &quot;owner_sid&quot;: null,&#xD;&#xA;        &quot;create_date&quot;: &quot;2003-04-08T09:13:36.39&quot;,&#xD;&#xA;        &quot;compatibility_level&quot;: 160,&#xD;&#xA;        &quot;collation_name&quot;: &quot;SQL_Latin1_General_CP1_CI_AS&quot;,&#xD;&#xA;        &quot;user_access&quot;: 0,&#xD;&#xA;        &quot;user_access_desc&quot;: &quot;MULTI_USER&quot;,&#xD;&#xA;        &quot;is_read_only&quot;: false,&#xD;&#xA;        &quot;is_auto_close_on&quot;: false,&#xD;&#xA;        &quot;is_auto_shrink_on&quot;: false,&#xD;&#xA;        &quot;state&quot;: 0,&#xD;&#xA;        &quot;state_desc&quot;: &quot;ONLINE&quot;,&#xD;&#xA;        &quot;is_in_standby&quot;: false,&#xD;&#xA;        &quot;is_cleanly_shutdown&quot;: false,&#xD;&#xA;        &quot;is_supplemental_logging_enabled&quot;: false,&#xD;&#xA;        &quot;snapshot_isolation_state&quot;: 1,&#xD;&#xA;        &quot;snapshot_isolation_state_desc&quot;: &quot;ON&quot;,&#xD;&#xA;        &quot;is_read_committed_snapshot_on&quot;: false,&#xD;&#xA;        &quot;recovery_model&quot;: 3,&#xD;&#xA;        &quot;recovery_model_desc&quot;: &quot;SIMPLE&quot;,&#xD;&#xA;        &quot;page_verify_option&quot;: 2,&#xD;&#xA;        &quot;page_verify_option_desc&quot;: &quot;CHECKSUM&quot;,&#xD;&#xA;        &quot;is_auto_create_stats_on&quot;: true,&#xD;&#xA;        &quot;is_auto_create_stats_incremental_on&quot;: false,&#xD;&#xA;        &quot;is_auto_update_stats_on&quot;: true,&#xD;&#xA;        &quot;is_auto_update_stats_async_on&quot;: false,&#xD;&#xA;        &quot;is_ansi_null_default_on&quot;: false,&#xD;&#xA;        &quot;is_ansi_nulls_on&quot;: false,&#xD;&#xA;        &quot;is_ansi_padding_on&quot;: false,&#xD;&#xA;        &quot;is_ansi_warnings_on&quot;: false,&#xD;&#xA;        &quot;is_arithabort_on&quot;: false,&#xD;&#xA;        &quot;is_concat_null_yields_null_on&quot;: false,&#xD;&#xA;        &quot;is_numeric_roundabort_on&quot;: false,&#xD;&#xA;        &quot;is_quoted_identifier_on&quot;: false,&#xD;&#xA;        &quot;is_recursive_triggers_on&quot;: false,&#xD;&#xA;        &quot;is_cursor_close_on_commit_on&quot;: false,&#xD;&#xA;        &quot;is_local_cursor_default&quot;: false,&#xD;&#xA;        &quot;is_fulltext_enabled&quot;: false,&#xD;&#xA;        &quot;is_trustworthy_on&quot;: false,&#xD;&#xA;        &quot;is_db_chaining_on&quot;: true,&#xD;&#xA;        &quot;is_parameterization_forced&quot;: false,&#xD;&#xA;        &quot;is_master_key_encrypted_by_server&quot;: false,&#xD;&#xA;        &quot;is_query_store_on&quot;: false,&#xD;&#xA;        &quot;is_published&quot;: false,&#xD;&#xA;        &quot;is_subscribed&quot;: false,&#xD;&#xA;        &quot;is_merge_published&quot;: false,&#xD;&#xA;        &quot;is_distributor&quot;: false,&#xD;&#xA;        &quot;is_sync_with_backup&quot;: false,&#xD;&#xA;        &quot;service_broker_guid&quot;: &quot;00000000-0000-0000-0000-000000000000&quot;,&#xD;&#xA;        &quot;is_broker_enabled&quot;: false,&#xD;&#xA;        &quot;log_reuse_wait&quot;: 1,&#xD;&#xA;        &quot;log_reuse_wait_desc&quot;: &quot;CHECKPOINT&quot;,&#xD;&#xA;        &quot;is_date_correlation_on&quot;: false,&#xD;&#xA;        &quot;is_cdc_enabled&quot;: false,&#xD;&#xA;        &quot;is_encrypted&quot;: false,&#xD;&#xA;        &quot;is_honor_broker_priority_on&quot;: false,&#xD;&#xA;        &quot;replica_id&quot;: null,&#xD;&#xA;        &quot;group_database_id&quot;: null,&#xD;&#xA;        &quot;resource_pool_id&quot;: null,&#xD;&#xA;        &quot;default_language_lcid&quot;: null,&#xD;&#xA;        &quot;default_language_name&quot;: null,&#xD;&#xA;        &quot;default_fulltext_language_lcid&quot;: null,&#xD;&#xA;        &quot;default_fulltext_language_name&quot;: null,&#xD;&#xA;        &quot;is_nested_triggers_on&quot;: null,&#xD;&#xA;        &quot;is_transform_noise_words_on&quot;: null,&#xD;&#xA;        &quot;two_digit_year_cutoff&quot;: null,&#xD;&#xA;        &quot;containment&quot;: 0,&#xD;&#xA;        &quot;containment_desc&quot;: &quot;NONE&quot;,&#xD;&#xA;        &quot;target_recovery_time_in_seconds&quot;: 0,&#xD;&#xA;        &quot;delayed_durability&quot;: 0,&#xD;&#xA;        &quot;delayed_durability_desc&quot;: &quot;DISABLED&quot;,&#xD;&#xA;        &quot;is_memory_optimized_elevate_to_snapshot_on&quot;: false,&#xD;&#xA;        &quot;is_federation_member&quot;: false,&#xD;&#xA;        &quot;is_remote_data_archive_enabled&quot;: false,&#xD;&#xA;        &quot;is_mixed_page_allocation_on&quot;: true,&#xD;&#xA;        &quot;is_temporal_history_retention_enabled&quot;: true,&#xD;&#xA;        &quot;catalog_collation_type&quot;: 0,&#xD;&#xA;        &quot;catalog_collation_type_desc&quot;: &quot;DATABASE_DEFAULT&quot;,&#xD;&#xA;        &quot;physical_database_name&quot;: &quot;master&quot;,&#xD;&#xA;        &quot;is_result_set_caching_on&quot;: false,&#xD;&#xA;        &quot;is_accelerated_database_recovery_on&quot;: false,&#xD;&#xA;        &quot;is_tempdb_spill_to_remote_store&quot;: false,&#xD;&#xA;        &quot;is_stale_page_detection_on&quot;: false,&#xD;&#xA;        &quot;is_memory_optimized_enabled&quot;: true,&#xD;&#xA;        &quot;is_data_retention_enabled&quot;: false,&#xD;&#xA;        &quot;is_ledger_on&quot;: false,&#xD;&#xA;        &quot;is_change_feed_enabled&quot;: false,&#xD;&#xA;        &quot;Label&quot;: &quot;dat&quot;&#xD;&#xA;      },&#xD;&#xA;      {&#xD;&#xA;        &quot;Feature1&quot;: 1,&#xD;&#xA;        &quot;name&quot;: &quot;tempdb&quot;,&#xD;&#xA;        &quot;database_id&quot;: 2,&#xD;&#xA;        &quot;source_database_id&quot;: null,&#xD;&#xA;        &quot;owner_sid&quot;: null,&#xD;&#xA;        &quot;create_date&quot;: &quot;2023-03-30T12:28:10.067&quot;,&#xD;&#xA;        &quot;compatibility_level&quot;: 160,&#xD;&#xA;        &quot;collation_name&quot;: &quot;SQL_Latin1_General_CP1_CI_AS&quot;,&#xD;&#xA;        &quot;user_access&quot;: 0,&#xD;&#xA;        &quot;user_access_desc&quot;: &quot;MULTI_USER&quot;,&#xD;&#xA;        &quot;is_read_only&quot;: false,&#xD;&#xA;        &quot;is_auto_close_on&quot;: false,&#xD;&#xA;        &quot;is_auto_shrink_on&quot;: false,&#xD;&#xA;        &quot;state&quot;: 0,&#xD;&#xA;        &quot;state_desc&quot;: &quot;ONLINE&quot;,&#xD;&#xA;        &quot;is_in_standby&quot;: false,&#xD;&#xA;        &quot;is_cleanly_shutdown&quot;: false,&#xD;&#xA;        &quot;is_supplemental_logging_enabled&quot;: false,&#xD;&#xA;        &quot;snapshot_isolation_state&quot;: 0,&#xD;&#xA;        &quot;snapshot_isolation_state_desc&quot;: &quot;OFF&quot;,&#xD;&#xA;        &quot;is_read_committed_snapshot_on&quot;: false,&#xD;&#xA;        &quot;recovery_model&quot;: 3,&#xD;&#xA;        &quot;recovery_model_desc&quot;: &quot;SIMPLE&quot;,&#xD;&#xA;        &quot;page_verify_option&quot;: 2,&#xD;&#xA;        &quot;page_verify_option_desc&quot;: &quot;CHECKSUM&quot;,&#xD;&#xA;        &quot;is_auto_create_stats_on&quot;: true,&#xD;&#xA;        &quot;is_auto_create_stats_incremental_on&quot;: false,&#xD;&#xA;        &quot;is_auto_update_stats_on&quot;: true,&#xD;&#xA;        &quot;is_auto_update_stats_async_on&quot;: false,&#xD;&#xA;        &quot;is_ansi_null_default_on&quot;: false,&#xD;&#xA;        &quot;is_ansi_nulls_on&quot;: false,&#xD;&#xA;        &quot;is_ansi_padding_on&quot;: false,&#xD;&#xA;        &quot;is_ansi_warnings_on&quot;: false,&#xD;&#xA;        &quot;is_arithabort_on&quot;: false,&#xD;&#xA;        &quot;is_concat_null_yields_null_on&quot;: false,&#xD;&#xA;        &quot;is_numeric_roundabort_on&quot;: false,&#xD;&#xA;        &quot;is_quoted_identifier_on&quot;: false,&#xD;&#xA;        &quot;is_recursive_triggers_on&quot;: false,&#xD;&#xA;        &quot;is_cursor_close_on_commit_on&quot;: false,&#xD;&#xA;        &quot;is_local_cursor_default&quot;: false,&#xD;&#xA;        &quot;is_fulltext_enabled&quot;: false,&#xD;&#xA;        &quot;is_trustworthy_on&quot;: false,&#xD;&#xA;        &quot;is_db_chaining_on&quot;: true,&#xD;&#xA;        &quot;is_parameterization_forced&quot;: false,&#xD;&#xA;        &quot;is_master_key_encrypted_by_server&quot;: false,&#xD;&#xA;        &quot;is_query_store_on&quot;: false,&#xD;&#xA;        &quot;is_published&quot;: false,&#xD;&#xA;        &quot;is_subscribed&quot;: false,&#xD;&#xA;        &quot;is_merge_published&quot;: false,&#xD;&#xA;        &quot;is_distributor&quot;: false,&#xD;&#xA;        &quot;is_sync_with_backup&quot;: false,&#xD;&#xA;        &quot;service_broker_guid&quot;: &quot;0e7fa998-68e7-4c88-8637-96d75972d644&quot;,&#xD;&#xA;        &quot;is_broker_enabled&quot;: true,&#xD;&#xA;        &quot;log_reuse_wait&quot;: 0,&#xD;&#xA;        &quot;log_reuse_wait_desc&quot;: &quot;NOTHING&quot;,&#xD;&#xA;        &quot;is_date_correlation_on&quot;: false,&#xD;&#xA;        &quot;is_cdc_enabled&quot;: false,&#xD;&#xA;        &quot;is_encrypted&quot;: false,&#xD;&#xA;        &quot;is_honor_broker_priority_on&quot;: false,&#xD;&#xA;        &quot;replica_id&quot;: null,&#xD;&#xA;        &quot;group_database_id&quot;: null,&#xD;&#xA;        &quot;resource_pool_id&quot;: null,&#xD;&#xA;        &quot;default_language_lcid&quot;: null,&#xD;&#xA;        &quot;default_language_name&quot;: null,&#xD;&#xA;        &quot;default_fulltext_language_lcid&quot;: null,&#xD;&#xA;        &quot;default_fulltext_language_name&quot;: null,&#xD;&#xA;        &quot;is_nested_triggers_on&quot;: null,&#xD;&#xA;        &quot;is_transform_noise_words_on&quot;: null,&#xD;&#xA;        &quot;two_digit_year_cutoff&quot;: null,&#xD;&#xA;        &quot;containment&quot;: 0,&#xD;&#xA;        &quot;containment_desc&quot;: &quot;NONE&quot;,&#xD;&#xA;        &quot;target_recovery_time_in_seconds&quot;: 60,&#xD;&#xA;        &quot;delayed_durability&quot;: 0,&#xD;&#xA;        &quot;delayed_durability_desc&quot;: &quot;DISABLED&quot;,&#xD;&#xA;        &quot;is_memory_optimized_elevate_to_snapshot_on&quot;: false,&#xD;&#xA;        &quot;is_federation_member&quot;: false,&#xD;&#xA;        &quot;is_remote_data_archive_enabled&quot;: false,&#xD;&#xA;        &quot;is_mixed_page_allocation_on&quot;: false,&#xD;&#xA;        &quot;is_temporal_history_retention_enabled&quot;: true,&#xD;&#xA;        &quot;catalog_collation_type&quot;: 0,&#xD;&#xA;        &quot;catalog_collation_type_desc&quot;: &quot;DATABASE_DEFAULT&quot;,&#xD;&#xA;        &quot;physical_database_name&quot;: &quot;tempdb&quot;,&#xD;&#xA;        &quot;is_result_set_caching_on&quot;: false,&#xD;&#xA;        &quot;is_accelerated_database_recovery_on&quot;: false,&#xD;&#xA;        &quot;is_tempdb_spill_to_remote_store&quot;: false,&#xD;&#xA;        &quot;is_stale_page_detection_on&quot;: false,&#xD;&#xA;        &quot;is_memory_optimized_enabled&quot;: true,&#xD;&#xA;        &quot;is_data_retention_enabled&quot;: false,&#xD;&#xA;        &quot;is_ledger_on&quot;: false,&#xD;&#xA;        &quot;is_change_feed_enabled&quot;: false,&#xD;&#xA;        &quot;Label&quot;: &quot;dat&quot;&#xD;&#xA;      },&#xD;&#xA;      {&#xD;&#xA;        &quot;Feature1&quot;: 1,&#xD;&#xA;        &quot;name&quot;: &quot;model&quot;,&#xD;&#xA;        &quot;database_id&quot;: 3,&#xD;&#xA;        &quot;source_database_id&quot;: null,&#xD;&#xA;        &quot;owner_sid&quot;: null,&#xD;&#xA;        &quot;create_date&quot;: &quot;2003-04-08T09:13:36.39&quot;,&#xD;&#xA;        &quot;compatibility_level&quot;: 160,&#xD;&#xA;        &quot;collation_name&quot;: &quot;SQL_Latin1_General_CP1_CI_AS&quot;,&#xD;&#xA;        &quot;user_access&quot;: 0,&#xD;&#xA;        &quot;user_access_desc&quot;: &quot;MULTI_USER&quot;,&#xD;&#xA;        &quot;is_read_only&quot;: false,&#xD;&#xA;        &quot;is_auto_close_on&quot;: false,&#xD;&#xA;        &quot;is_auto_shrink_on&quot;: false,&#xD;&#xA;        &quot;state&quot;: 0,&#xD;&#xA;        &quot;state_desc&quot;: &quot;ONLINE&quot;,&#xD;&#xA;        &quot;is_in_standby&quot;: false,&#xD;&#xA;        &quot;is_cleanly_shutdown&quot;: false,&#xD;&#xA;        &quot;is_supplemental_logging_enabled&quot;: false,&#xD;&#xA;        &quot;snapshot_isolation_state&quot;: 0,&#xD;&#xA;        &quot;snapshot_isolation_state_desc&quot;: &quot;OFF&quot;,&#xD;&#xA;        &quot;is_read_committed_snapshot_on&quot;: false,&#xD;&#xA;        &quot;recovery_model&quot;: 1,&#xD;&#xA;        &quot;recovery_model_desc&quot;: &quot;FULL&quot;,&#xD;&#xA;        &quot;page_verify_option&quot;: 2,&#xD;&#xA;        &quot;page_verify_option_desc&quot;: &quot;CHECKSUM&quot;,&#xD;&#xA;        &quot;is_auto_create_stats_on&quot;: true,&#xD;&#xA;        &quot;is_auto_create_stats_incremental_on&quot;: false,&#xD;&#xA;        &quot;is_auto_update_stats_on&quot;: true,&#xD;&#xA;        &quot;is_auto_update_stats_async_on&quot;: false,&#xD;&#xA;        &quot;is_ansi_null_default_on&quot;: false,&#xD;&#xA;        &quot;is_ansi_nulls_on&quot;: false,&#xD;&#xA;        &quot;is_ansi_padding_on&quot;: false,&#xD;&#xA;        &quot;is_ansi_warnings_on&quot;: false,&#xD;&#xA;        &quot;is_arithabort_on&quot;: false,&#xD;&#xA;        &quot;is_concat_null_yields_null_on&quot;: false,&#xD;&#xA;        &quot;is_numeric_roundabort_on&quot;: false,&#xD;&#xA;        &quot;is_quoted_identifier_on&quot;: false,&#xD;&#xA;        &quot;is_recursive_triggers_on&quot;: false,&#xD;&#xA;        &quot;is_cursor_close_on_commit_on&quot;: false,&#xD;&#xA;        &quot;is_local_cursor_default&quot;: false,&#xD;&#xA;        &quot;is_fulltext_enabled&quot;: false,&#xD;&#xA;        &quot;is_trustworthy_on&quot;: false,&#xD;&#xA;        &quot;is_db_chaining_on&quot;: false,&#xD;&#xA;        &quot;is_parameterization_forced&quot;: false,&#xD;&#xA;        &quot;is_master_key_encrypted_by_server&quot;: false,&#xD;&#xA;        &quot;is_query_store_on&quot;: true,&#xD;&#xA;        &quot;is_published&quot;: false,&#xD;&#xA;        &quot;is_subscribed&quot;: false,&#xD;&#xA;        &quot;is_merge_published&quot;: false,&#xD;&#xA;        &quot;is_distributor&quot;: false,&#xD;&#xA;        &quot;is_sync_with_backup&quot;: false,&#xD;&#xA;        &quot;service_broker_guid&quot;: &quot;00000000-0000-0000-0000-000000000000&quot;,&#xD;&#xA;        &quot;is_broker_enabled&quot;: false,&#xD;&#xA;        &quot;log_reuse_wait&quot;: 0,&#xD;&#xA;        &quot;log_reuse_wait_desc&quot;: &quot;NOTHING&quot;,&#xD;&#xA;        &quot;is_date_correlation_on&quot;: false,&#xD;&#xA;        &quot;is_cdc_enabled&quot;: false,&#xD;&#xA;        &quot;is_encrypted&quot;: false,&#xD;&#xA;        &quot;is_honor_broker_priority_on&quot;: false,&#xD;&#xA;        &quot;replica_id&quot;: null,&#xD;&#xA;        &quot;group_database_id&quot;: null,&#xD;&#xA;        &quot;resource_pool_id&quot;: null,&#xD;&#xA;        &quot;default_language_lcid&quot;: null,&#xD;&#xA;        &quot;default_language_name&quot;: null,&#xD;&#xA;        &quot;default_fulltext_language_lcid&quot;: null,&#xD;&#xA;        &quot;default_fulltext_language_name&quot;: null,&#xD;&#xA;        &quot;is_nested_triggers_on&quot;: null,&#xD;&#xA;        &quot;is_transform_noise_words_on&quot;: null,&#xD;&#xA;        &quot;two_digit_year_cutoff&quot;: null,&#xD;&#xA;        &quot;containment&quot;: 0,&#xD;&#xA;        &quot;containment_desc&quot;: &quot;NONE&quot;,&#xD;&#xA;        &quot;target_recovery_time_in_seconds&quot;: 60,&#xD;&#xA;        &quot;delayed_durability&quot;: 0,&#xD;&#xA;        &quot;delayed_durability_desc&quot;: &quot;DISABLED&quot;,&#xD;&#xA;        &quot;is_memory_optimized_elevate_to_snapshot_on&quot;: false,&#xD;&#xA;        &quot;is_federation_member&quot;: false,&#xD;&#xA;        &quot;is_remote_data_archive_enabled&quot;: false,&#xD;&#xA;        &quot;is_mixed_page_allocation_on&quot;: true,&#xD;&#xA;        &quot;is_temporal_history_retention_enabled&quot;: true,&#xD;&#xA;        &quot;catalog_collation_type&quot;: 0,&#xD;&#xA;        &quot;catalog_collation_type_desc&quot;: &quot;DATABASE_DEFAULT&quot;,&#xD;&#xA;        &quot;physical_database_name&quot;: &quot;model&quot;,&#xD;&#xA;        &quot;is_result_set_caching_on&quot;: false,&#xD;&#xA;        &quot;is_accelerated_database_recovery_on&quot;: false,&#xD;&#xA;        &quot;is_tempdb_spill_to_remote_store&quot;: false,&#xD;&#xA;        &quot;is_stale_page_detection_on&quot;: false,&#xD;&#xA;        &quot;is_memory_optimized_enabled&quot;: true,&#xD;&#xA;        &quot;is_data_retention_enabled&quot;: false,&#xD;&#xA;        &quot;is_ledger_on&quot;: false,&#xD;&#xA;        &quot;is_change_feed_enabled&quot;: false,&#xD;&#xA;        &quot;Label&quot;: &quot;dat&quot;&#xD;&#xA;      },&#xD;&#xA;      {&#xD;&#xA;        &quot;Feature1&quot;: 1,&#xD;&#xA;        &quot;name&quot;: &quot;msdb&quot;,&#xD;&#xA;        &quot;database_id&quot;: 4,&#xD;&#xA;        &quot;source_database_id&quot;: null,&#xD;&#xA;        &quot;owner_sid&quot;: null,&#xD;&#xA;        &quot;create_date&quot;: &quot;2023-02-27T16:18:05.537&quot;,&#xD;&#xA;        &quot;compatibility_level&quot;: 160,&#xD;&#xA;        &quot;collation_name&quot;: &quot;SQL_Latin1_General_CP1_CI_AS&quot;,&#xD;&#xA;        &quot;user_access&quot;: 0,&#xD;&#xA;        &quot;user_access_desc&quot;: &quot;MULTI_USER&quot;,&#xD;&#xA;        &quot;is_read_only&quot;: false,&#xD;&#xA;        &quot;is_auto_close_on&quot;: false,&#xD;&#xA;        &quot;is_auto_shrink_on&quot;: false,&#xD;&#xA;        &quot;state&quot;: 0,&#xD;&#xA;        &quot;state_desc&quot;: &quot;ONLINE&quot;,&#xD;&#xA;        &quot;is_in_standby&quot;: false,&#xD;&#xA;        &quot;is_cleanly_shutdown&quot;: false,&#xD;&#xA;        &quot;is_supplemental_logging_enabled&quot;: false,&#xD;&#xA;        &quot;snapshot_isolation_state&quot;: 1,&#xD;&#xA;        &quot;snapshot_isolation_state_desc&quot;: &quot;ON&quot;,&#xD;&#xA;        &quot;is_read_committed_snapshot_on&quot;: false,&#xD;&#xA;        &quot;recovery_model&quot;: 3,&#xD;&#xA;        &quot;recovery_model_desc&quot;: &quot;SIMPLE&quot;,&#xD;&#xA;        &quot;page_verify_option&quot;: 2,&#xD;&#xA;        &quot;page_verify_option_desc&quot;: &quot;CHECKSUM&quot;,&#xD;&#xA;        &quot;is_auto_create_stats_on&quot;: true,&#xD;&#xA;        &quot;is_auto_create_stats_incremental_on&quot;: false,&#xD;&#xA;        &quot;is_auto_update_stats_on&quot;: true,&#xD;&#xA;        &quot;is_auto_update_stats_async_on&quot;: false,&#xD;&#xA;        &quot;is_ansi_null_default_on&quot;: false,&#xD;&#xA;        &quot;is_ansi_nulls_on&quot;: false,&#xD;&#xA;        &quot;is_ansi_padding_on&quot;: false,&#xD;&#xA;        &quot;is_ansi_warnings_on&quot;: false,&#xD;&#xA;        &quot;is_arithabort_on&quot;: false,&#xD;&#xA;        &quot;is_concat_null_yields_null_on&quot;: false,&#xD;&#xA;        &quot;is_numeric_roundabort_on&quot;: false,&#xD;&#xA;        &quot;is_quoted_identifier_on&quot;: false,&#xD;&#xA;        &quot;is_recursive_triggers_on&quot;: false,&#xD;&#xA;        &quot;is_cursor_close_on_commit_on&quot;: false,&#xD;&#xA;        &quot;is_local_cursor_default&quot;: false,&#xD;&#xA;        &quot;is_fulltext_enabled&quot;: true,&#xD;&#xA;        &quot;is_trustworthy_on&quot;: true,&#xD;&#xA;        &quot;is_db_chaining_on&quot;: true,&#xD;&#xA;        &quot;is_parameterization_forced&quot;: false,&#xD;&#xA;        &quot;is_master_key_encrypted_by_server&quot;: false,&#xD;&#xA;        &quot;is_query_store_on&quot;: false,&#xD;&#xA;        &quot;is_published&quot;: false,&#xD;&#xA;        &quot;is_subscribed&quot;: false,&#xD;&#xA;        &quot;is_merge_published&quot;: false,&#xD;&#xA;        &quot;is_distributor&quot;: false,&#xD;&#xA;        &quot;is_sync_with_backup&quot;: false,&#xD;&#xA;        &quot;service_broker_guid&quot;: &quot;c4443c83-fde7-423c-b8cd-56460261170d&quot;,&#xD;&#xA;        &quot;is_broker_enabled&quot;: true,&#xD;&#xA;        &quot;log_reuse_wait&quot;: 0,&#xD;&#xA;        &quot;log_reuse_wait_desc&quot;: &quot;NOTHING&quot;,&#xD;&#xA;        &quot;is_date_correlation_on&quot;: false,&#xD;&#xA;        &quot;is_cdc_enabled&quot;: false,&#xD;&#xA;        &quot;is_encrypted&quot;: false,&#xD;&#xA;        &quot;is_honor_broker_priority_on&quot;: false,&#xD;&#xA;        &quot;replica_id&quot;: null,&#xD;&#xA;        &quot;group_database_id&quot;: null,&#xD;&#xA;        &quot;resource_pool_id&quot;: null,&#xD;&#xA;        &quot;default_language_lcid&quot;: null,&#xD;&#xA;        &quot;default_language_name&quot;: null,&#xD;&#xA;        &quot;default_fulltext_language_lcid&quot;: null,&#xD;&#xA;        &quot;default_fulltext_language_name&quot;: null,&#xD;&#xA;        &quot;is_nested_triggers_on&quot;: null,&#xD;&#xA;        &quot;is_transform_noise_words_on&quot;: null,&#xD;&#xA;        &quot;two_digit_year_cutoff&quot;: null,&#xD;&#xA;        &quot;containment&quot;: 0,&#xD;&#xA;        &quot;containment_desc&quot;: &quot;NONE&quot;,&#xD;&#xA;        &quot;target_recovery_time_in_seconds&quot;: 60,&#xD;&#xA;        &quot;delayed_durability&quot;: 0,&#xD;&#xA;        &quot;delayed_durability_desc&quot;: &quot;DISABLED&quot;,&#xD;&#xA;        &quot;is_memory_optimized_elevate_to_snapshot_on&quot;: false,&#xD;&#xA;        &quot;is_federation_member&quot;: false,&#xD;&#xA;        &quot;is_remote_data_archive_enabled&quot;: false,&#xD;&#xA;        &quot;is_mixed_page_allocation_on&quot;: true,&#xD;&#xA;        &quot;is_temporal_history_retention_enabled&quot;: true,&#xD;&#xA;        &quot;catalog_collation_type&quot;: 0,&#xD;&#xA;        &quot;catalog_collation_type_desc&quot;: &quot;DATABASE_DEFAULT&quot;,&#xD;&#xA;        &quot;physical_database_name&quot;: &quot;msdb&quot;,&#xD;&#xA;        &quot;is_result_set_caching_on&quot;: false,&#xD;&#xA;        &quot;is_accelerated_database_recovery_on&quot;: false,&#xD;&#xA;        &quot;is_tempdb_spill_to_remote_store&quot;: false,&#xD;&#xA;        &quot;is_stale_page_detection_on&quot;: false,&#xD;&#xA;        &quot;is_memory_optimized_enabled&quot;: true,&#xD;&#xA;        &quot;is_data_retention_enabled&quot;: false,&#xD;&#xA;        &quot;is_ledger_on&quot;: false,&#xD;&#xA;        &quot;is_change_feed_enabled&quot;: false,&#xD;&#xA;        &quot;Label&quot;: &quot;dat&quot;&#xD;&#xA;      }&#xD;&#xA;    ]&#xD;&#xA;  }&#xD;&#xA;]</li>\r\n",
       "</ol></div>"
      ]
     },
     "metadata": {},
     "output_type": "display_data"
    }
   ],
   "source": [
    "#!razor\n",
    "@using System.Text.Json;\n",
    "@using Microsoft.DotNet.Interactive.Formatting.TabularData;\n",
    "@{\n",
    "    var text = JsonSerializer.Serialize(Model.trainingdata, TabularDataResourceFormatter.JsonSerializerOptions);\n",
    "\n",
    "    // var deserialized = JsonSerializer.Deserialize<TabularDataResource>(text, TabularDataResourceFormatter.JsonSerializerOptions);\n",
    "}\n",
    "<p>Hello, the number of rows in the data is <b>@Model.trainingdata.ToArray().Length</b></p>\n",
    "\n",
    "<ol>\n",
    "@foreach(var item in Model.trainingdata)\n",
    "{\n",
    "    <li>@text</li>\n",
    "}\n",
    "</ol>"
   ]
  }
 ],
 "metadata": {
  "kernelspec": {
   "display_name": ".NET (C#)",
   "language": "C#",
   "name": ".net-csharp"
  },
  "language_info": {
   "name": "polyglot-notebook"
  },
  "polyglot_notebook": {
   "kernelInfo": {
    "defaultKernelName": "csharp",
    "items": [
     {
      "aliases": [],
      "name": "csharp"
     },
     {
      "aliases": [],
      "name": "razor"
     }
    ]
   }
  }
 },
 "nbformat": 4,
 "nbformat_minor": 2
}
